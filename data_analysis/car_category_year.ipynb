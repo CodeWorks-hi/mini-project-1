{
 "cells": [
  {
   "cell_type": "code",
   "execution_count": 1,
   "metadata": {},
   "outputs": [],
   "source": [
    "import pandas as pd\n",
    "import matplotlib.pyplot as plt\n",
    "import seaborn as sb\n",
    "\n",
    "import platform\n",
    "\n",
    "from matplotlib import font_manager, rc\n",
    "plt.rcParams['axes.unicode_minus'] = False\n",
    "\n",
    "if platform.system() == 'Darwin':\n",
    "    rc('font', family='AppleGothic')\n",
    "elif platform.system() == 'Windows':\n",
    "    path = \"c:/Windows/Fonts/malgun.ttf\"\n",
    "    font_name = font_manager.FontProperties(fname=path).get_name()\n",
    "    rc('font', family=font_name)\n",
    "else:\n",
    "    print('Unknown system... sorry~~~~')"
   ]
  },
  {
   "cell_type": "code",
   "execution_count": null,
   "metadata": {},
   "outputs": [],
   "source": [
    "df=pd.read_csv(\"../data/고객db_전처리.csv\",index_col=0)"
   ]
  },
  {
   "cell_type": "code",
   "execution_count": 4,
   "metadata": {},
   "outputs": [
    {
     "data": {
      "application/vnd.microsoft.datawrangler.viewer.v0+json": {
       "columns": [
        {
         "name": "연번",
         "rawType": "int64",
         "type": "integer"
        },
        {
         "name": "이름",
         "rawType": "object",
         "type": "string"
        },
        {
         "name": "생년월일",
         "rawType": "object",
         "type": "string"
        },
        {
         "name": "현재 나이",
         "rawType": "int64",
         "type": "integer"
        },
        {
         "name": "연령대",
         "rawType": "object",
         "type": "string"
        },
        {
         "name": "성별",
         "rawType": "object",
         "type": "string"
        },
        {
         "name": "휴대폰 번호",
         "rawType": "object",
         "type": "string"
        },
        {
         "name": "이메일",
         "rawType": "object",
         "type": "string"
        },
        {
         "name": "고객 구분",
         "rawType": "object",
         "type": "string"
        },
        {
         "name": "아이디",
         "rawType": "object",
         "type": "string"
        },
        {
         "name": "가입일",
         "rawType": "object",
         "type": "string"
        },
        {
         "name": "가입 이후 경과 기간",
         "rawType": "int64",
         "type": "integer"
        },
        {
         "name": "주소",
         "rawType": "object",
         "type": "string"
        },
        {
         "name": "거주 지역",
         "rawType": "object",
         "type": "string"
        },
        {
         "name": "인구 밀도",
         "rawType": "int64",
         "type": "integer"
        },
        {
         "name": "GDP (조 원)",
         "rawType": "int64",
         "type": "integer"
        },
        {
         "name": "1인당 GDP (만 원)",
         "rawType": "int64",
         "type": "integer"
        },
        {
         "name": "고객 등급",
         "rawType": "object",
         "type": "string"
        },
        {
         "name": "회원가입 이후 구매 이력",
         "rawType": "object",
         "type": "string"
        },
        {
         "name": "최근 구매 제품",
         "rawType": "object",
         "type": "string"
        },
        {
         "name": "차량 사이즈",
         "rawType": "object",
         "type": "string"
        },
        {
         "name": "차량 유형",
         "rawType": "object",
         "type": "string"
        },
        {
         "name": "연료 구분",
         "rawType": "object",
         "type": "string"
        },
        {
         "name": "최근 구매 날짜",
         "rawType": "object",
         "type": "string"
        },
        {
         "name": "최근 구매 시점",
         "rawType": "object",
         "type": "string"
        },
        {
         "name": "최근 구매 요일",
         "rawType": "object",
         "type": "string"
        },
        {
         "name": "마지막 구매 이후 경과 기간",
         "rawType": "int64",
         "type": "integer"
        },
        {
         "name": "최근 구매 당시 나이",
         "rawType": "int64",
         "type": "integer"
        },
        {
         "name": "최근 거래 금액",
         "rawType": "int64",
         "type": "integer"
        },
        {
         "name": "선호 거래 방식",
         "rawType": "object",
         "type": "string"
        },
        {
         "name": "선호 구매 경로",
         "rawType": "object",
         "type": "string"
        },
        {
         "name": "차량 구매 횟수",
         "rawType": "int64",
         "type": "integer"
        },
        {
         "name": "신차 구매 지수",
         "rawType": "float64",
         "type": "float"
        },
        {
         "name": "브랜드 충성도 지수",
         "rawType": "float64",
         "type": "float"
        }
       ],
       "conversionMethod": "pd.DataFrame",
       "ref": "cb8078b5-fd81-4576-916c-f2147f34ed8b",
       "rows": [
        [
         "1",
         "강주온",
         "2002-03-04",
         "23",
         "20대 중반",
         "남",
         "010-6502-8753",
         "janisi@himedia.co.kr",
         "법인",
         "14798",
         "2023-04-01",
         "719",
         "인천광역시 남동구 구월동 88-10",
         "인천광역시",
         "2820",
         "117",
         "3000",
         "일반",
         "O",
         "Avante (CN7 N)",
         "준중형",
         "세단",
         "휘발유",
         "2024-04-04",
         "2분기",
         "평일",
         "350",
         "22",
         "33820000",
         "신용카드",
         "오프라인",
         "1",
         "0.002",
         "0.135"
        ],
        [
         "2",
         "김경수",
         "1983-01-02",
         "42",
         "40대 초반",
         "남",
         "010-1111-2222",
         "kimkyoungsoo31@himedia.co.kr",
         "법인",
         "kyoungsoo031",
         "2025-02-09",
         "39",
         "광주광역시 서구 치평동 14-7",
         "광주광역시",
         "2921",
         "52",
         "3090",
         "VIP",
         "O",
         "G80 (RG3)",
         "대형",
         "세단",
         "휘발유",
         "2025-02-10",
         "1분기",
         "평일",
         "38",
         "42",
         "89930000",
         "신용카드",
         "오프라인",
         "5",
         "0.508",
         "0.037"
        ]
       ],
       "shape": {
        "columns": 33,
        "rows": 2
       }
      },
      "text/html": [
       "<div>\n",
       "<style scoped>\n",
       "    .dataframe tbody tr th:only-of-type {\n",
       "        vertical-align: middle;\n",
       "    }\n",
       "\n",
       "    .dataframe tbody tr th {\n",
       "        vertical-align: top;\n",
       "    }\n",
       "\n",
       "    .dataframe thead th {\n",
       "        text-align: right;\n",
       "    }\n",
       "</style>\n",
       "<table border=\"1\" class=\"dataframe\">\n",
       "  <thead>\n",
       "    <tr style=\"text-align: right;\">\n",
       "      <th></th>\n",
       "      <th>이름</th>\n",
       "      <th>생년월일</th>\n",
       "      <th>현재 나이</th>\n",
       "      <th>연령대</th>\n",
       "      <th>성별</th>\n",
       "      <th>휴대폰 번호</th>\n",
       "      <th>이메일</th>\n",
       "      <th>고객 구분</th>\n",
       "      <th>아이디</th>\n",
       "      <th>가입일</th>\n",
       "      <th>...</th>\n",
       "      <th>최근 구매 시점</th>\n",
       "      <th>최근 구매 요일</th>\n",
       "      <th>마지막 구매 이후 경과 기간</th>\n",
       "      <th>최근 구매 당시 나이</th>\n",
       "      <th>최근 거래 금액</th>\n",
       "      <th>선호 거래 방식</th>\n",
       "      <th>선호 구매 경로</th>\n",
       "      <th>차량 구매 횟수</th>\n",
       "      <th>신차 구매 지수</th>\n",
       "      <th>브랜드 충성도 지수</th>\n",
       "    </tr>\n",
       "    <tr>\n",
       "      <th>연번</th>\n",
       "      <th></th>\n",
       "      <th></th>\n",
       "      <th></th>\n",
       "      <th></th>\n",
       "      <th></th>\n",
       "      <th></th>\n",
       "      <th></th>\n",
       "      <th></th>\n",
       "      <th></th>\n",
       "      <th></th>\n",
       "      <th></th>\n",
       "      <th></th>\n",
       "      <th></th>\n",
       "      <th></th>\n",
       "      <th></th>\n",
       "      <th></th>\n",
       "      <th></th>\n",
       "      <th></th>\n",
       "      <th></th>\n",
       "      <th></th>\n",
       "      <th></th>\n",
       "    </tr>\n",
       "  </thead>\n",
       "  <tbody>\n",
       "    <tr>\n",
       "      <th>1</th>\n",
       "      <td>강주온</td>\n",
       "      <td>2002-03-04</td>\n",
       "      <td>23</td>\n",
       "      <td>20대 중반</td>\n",
       "      <td>남</td>\n",
       "      <td>010-6502-8753</td>\n",
       "      <td>janisi@himedia.co.kr</td>\n",
       "      <td>법인</td>\n",
       "      <td>14798</td>\n",
       "      <td>2023-04-01</td>\n",
       "      <td>...</td>\n",
       "      <td>2분기</td>\n",
       "      <td>평일</td>\n",
       "      <td>350</td>\n",
       "      <td>22</td>\n",
       "      <td>33820000</td>\n",
       "      <td>신용카드</td>\n",
       "      <td>오프라인</td>\n",
       "      <td>1</td>\n",
       "      <td>0.002</td>\n",
       "      <td>0.135</td>\n",
       "    </tr>\n",
       "    <tr>\n",
       "      <th>2</th>\n",
       "      <td>김경수</td>\n",
       "      <td>1983-01-02</td>\n",
       "      <td>42</td>\n",
       "      <td>40대 초반</td>\n",
       "      <td>남</td>\n",
       "      <td>010-1111-2222</td>\n",
       "      <td>kimkyoungsoo31@himedia.co.kr</td>\n",
       "      <td>법인</td>\n",
       "      <td>kyoungsoo031</td>\n",
       "      <td>2025-02-09</td>\n",
       "      <td>...</td>\n",
       "      <td>1분기</td>\n",
       "      <td>평일</td>\n",
       "      <td>38</td>\n",
       "      <td>42</td>\n",
       "      <td>89930000</td>\n",
       "      <td>신용카드</td>\n",
       "      <td>오프라인</td>\n",
       "      <td>5</td>\n",
       "      <td>0.508</td>\n",
       "      <td>0.037</td>\n",
       "    </tr>\n",
       "  </tbody>\n",
       "</table>\n",
       "<p>2 rows × 33 columns</p>\n",
       "</div>"
      ],
      "text/plain": [
       "     이름        생년월일  현재 나이     연령대 성별         휴대폰 번호  \\\n",
       "연번                                                     \n",
       "1   강주온  2002-03-04     23  20대 중반  남  010-6502-8753   \n",
       "2   김경수  1983-01-02     42  40대 초반  남  010-1111-2222   \n",
       "\n",
       "                             이메일 고객 구분           아이디         가입일  ...  \\\n",
       "연번                                                                ...   \n",
       "1           janisi@himedia.co.kr    법인         14798  2023-04-01  ...   \n",
       "2   kimkyoungsoo31@himedia.co.kr    법인  kyoungsoo031  2025-02-09  ...   \n",
       "\n",
       "    최근 구매 시점 최근 구매 요일 마지막 구매 이후 경과 기간  최근 구매 당시 나이  최근 거래 금액  선호 거래 방식  \\\n",
       "연번                                                                       \n",
       "1        2분기       평일             350           22  33820000      신용카드   \n",
       "2        1분기       평일              38           42  89930000      신용카드   \n",
       "\n",
       "   선호 구매 경로 차량 구매 횟수 신차 구매 지수 브랜드 충성도 지수  \n",
       "연번                                        \n",
       "1      오프라인        1    0.002      0.135  \n",
       "2      오프라인        5    0.508      0.037  \n",
       "\n",
       "[2 rows x 33 columns]"
      ]
     },
     "execution_count": 4,
     "metadata": {},
     "output_type": "execute_result"
    }
   ],
   "source": [
    "df.head(2)"
   ]
  },
  {
   "cell_type": "code",
   "execution_count": 5,
   "metadata": {},
   "outputs": [],
   "source": [
    "# 구매 연도에따른 구매제품 분석"
   ]
  },
  {
   "cell_type": "code",
   "execution_count": 6,
   "metadata": {},
   "outputs": [],
   "source": [
    "category_df=df[[\"최근 구매 제품\",\"최근 거래 금액\",\"최근 구매 날짜\"]]"
   ]
  },
  {
   "cell_type": "code",
   "execution_count": 7,
   "metadata": {},
   "outputs": [
    {
     "data": {
      "application/vnd.microsoft.datawrangler.viewer.v0+json": {
       "columns": [
        {
         "name": "연번",
         "rawType": "int64",
         "type": "integer"
        },
        {
         "name": "최근 구매 제품",
         "rawType": "object",
         "type": "string"
        },
        {
         "name": "최근 거래 금액",
         "rawType": "int64",
         "type": "integer"
        },
        {
         "name": "최근 구매 날짜",
         "rawType": "object",
         "type": "string"
        }
       ],
       "conversionMethod": "pd.DataFrame",
       "ref": "05e0cef6-d5a7-4c3d-abb1-717d24321b6b",
       "rows": [
        [
         "1",
         "Avante (CN7 N)",
         "33820000",
         "2024-04-04"
        ],
        [
         "2",
         "G80 (RG3)",
         "89930000",
         "2025-02-10"
        ],
        [
         "3",
         "NEXO (FE)",
         "70990000",
         "2025-03-10"
        ],
        [
         "4",
         "Santa-Fe ™",
         "50970000",
         "2023-05-01"
        ],
        [
         "5",
         "G70 (IK)",
         "49890000",
         "2023-10-01"
        ],
        [
         "6",
         "G70 (IK)",
         "45860000",
         "2023-02-01"
        ],
        [
         "7",
         "IONIQ (AE EV)",
         "74800000",
         "2023-07-18"
        ],
        [
         "9",
         "IONIQ (AE EV)",
         "75330000",
         "2023-01-03"
        ],
        [
         "10",
         "IONIQ 6 (CE)",
         "42410000",
         "2024-04-06"
        ],
        [
         "11",
         "G90 (HI)",
         "131210000",
         "2024-12-03"
        ],
        [
         "12",
         "Santa-Fe (MX5 PHEV)",
         "53510000",
         "2023-07-07"
        ],
        [
         "13",
         "Avante (CN7 N)",
         "33110000",
         "2025-01-02"
        ],
        [
         "14",
         "Santa-Fe ™",
         "38280000",
         "2024-02-03"
        ],
        [
         "15",
         "Avante (CN7 N)",
         "41300000",
         "2023-08-07"
        ],
        [
         "16",
         "Grandeur (GN7 HEV)",
         "46000000",
         "2024-05-06"
        ],
        [
         "17",
         "Santa-Fe ™",
         "48690000",
         "2024-10-03"
        ],
        [
         "18",
         "Tucson (NX4 PHEV)",
         "39880000",
         "2024-02-27"
        ],
        [
         "19",
         "Grandeur (GN7 HEV)",
         "50100000",
         "2023-05-07"
        ],
        [
         "20",
         "Grandeur (GN7 HEV)",
         "52880000",
         "2024-08-15"
        ],
        [
         "21",
         "G70 (IK)",
         "48000000",
         "2024-01-15"
        ],
        [
         "22",
         "G90 (RS4)",
         "78490000",
         "2024-12-16"
        ],
        [
         "23",
         "Santa-Fe ™",
         "44840000",
         "2024-09-25"
        ],
        [
         "24",
         "IONIQ (AE EV)",
         "68920000",
         "2025-01-11"
        ],
        [
         "25",
         "Grandeur (GN7 HEV)",
         "51040000",
         "2024-04-22"
        ],
        [
         "26",
         "Tucson (NX4 PHEV)",
         "39170000",
         "2023-07-08"
        ],
        [
         "27",
         "Grandeur (GN7 HEV)",
         "43290000",
         "2023-08-19"
        ],
        [
         "28",
         "Palisade (LX2)",
         "57630000",
         "2024-05-16"
        ],
        [
         "29",
         "Avante (CN7 N)",
         "33820000",
         "2024-09-11"
        ],
        [
         "30",
         "i30 (PD)",
         "22100000",
         "2024-07-28"
        ],
        [
         "31",
         "Grandeur (GN7 HEV)",
         "54090000",
         "2024-12-25"
        ],
        [
         "32",
         "i30 (PD)",
         "27350000",
         "2024-11-18"
        ],
        [
         "33",
         "IONIQ (AE EV)",
         "77350000",
         "2024-01-16"
        ],
        [
         "34",
         "Palisade (LX2)",
         "60070000",
         "2024-06-28"
        ],
        [
         "35",
         "Avante (CN7 N)",
         "36300000",
         "2025-01-11"
        ],
        [
         "36",
         "i30 (PD)",
         "19070000",
         "2023-04-25"
        ],
        [
         "37",
         "IONIQ (AE EV)",
         "68720000",
         "2024-06-02"
        ],
        [
         "38",
         "Santa-Fe ™",
         "38300000",
         "2024-07-08"
        ],
        [
         "39",
         "i30 (PD)",
         "21530000",
         "2024-02-22"
        ],
        [
         "40",
         "Palisade (LX2)",
         "52810000",
         "2023-09-30"
        ],
        [
         "41",
         "Grandeur (GN7 HEV)",
         "59050000",
         "2023-03-03"
        ],
        [
         "42",
         "Grandeur (GN7 HEV)",
         "58450000",
         "2024-07-08"
        ],
        [
         "43",
         "Avante (CN7 N)",
         "35840000",
         "2023-05-04"
        ],
        [
         "44",
         "Santa-Fe ™",
         "53440000",
         "2024-07-04"
        ],
        [
         "45",
         "G80 (RG3)",
         "86370000",
         "2024-01-07"
        ],
        [
         "46",
         "Santa-Fe ™",
         "34970000",
         "2024-07-04"
        ],
        [
         "47",
         "Avante (CN7 N)",
         "36570000",
         "2023-05-22"
        ],
        [
         "48",
         "NEXO (FE)",
         "69950000",
         "2023-06-17"
        ],
        [
         "49",
         "NEXO (FE)",
         "70450000",
         "2023-08-27"
        ],
        [
         "50",
         "Avante (CN7 N)",
         "34910000",
         "2023-09-19"
        ],
        [
         "51",
         "G70 (IK)",
         "50830000",
         "2023-05-22"
        ]
       ],
       "shape": {
        "columns": 3,
        "rows": 291
       }
      },
      "text/html": [
       "<div>\n",
       "<style scoped>\n",
       "    .dataframe tbody tr th:only-of-type {\n",
       "        vertical-align: middle;\n",
       "    }\n",
       "\n",
       "    .dataframe tbody tr th {\n",
       "        vertical-align: top;\n",
       "    }\n",
       "\n",
       "    .dataframe thead th {\n",
       "        text-align: right;\n",
       "    }\n",
       "</style>\n",
       "<table border=\"1\" class=\"dataframe\">\n",
       "  <thead>\n",
       "    <tr style=\"text-align: right;\">\n",
       "      <th></th>\n",
       "      <th>최근 구매 제품</th>\n",
       "      <th>최근 거래 금액</th>\n",
       "      <th>최근 구매 날짜</th>\n",
       "    </tr>\n",
       "    <tr>\n",
       "      <th>연번</th>\n",
       "      <th></th>\n",
       "      <th></th>\n",
       "      <th></th>\n",
       "    </tr>\n",
       "  </thead>\n",
       "  <tbody>\n",
       "    <tr>\n",
       "      <th>1</th>\n",
       "      <td>Avante (CN7 N)</td>\n",
       "      <td>33820000</td>\n",
       "      <td>2024-04-04</td>\n",
       "    </tr>\n",
       "    <tr>\n",
       "      <th>2</th>\n",
       "      <td>G80 (RG3)</td>\n",
       "      <td>89930000</td>\n",
       "      <td>2025-02-10</td>\n",
       "    </tr>\n",
       "    <tr>\n",
       "      <th>3</th>\n",
       "      <td>NEXO (FE)</td>\n",
       "      <td>70990000</td>\n",
       "      <td>2025-03-10</td>\n",
       "    </tr>\n",
       "    <tr>\n",
       "      <th>4</th>\n",
       "      <td>Santa-Fe ™</td>\n",
       "      <td>50970000</td>\n",
       "      <td>2023-05-01</td>\n",
       "    </tr>\n",
       "    <tr>\n",
       "      <th>5</th>\n",
       "      <td>G70 (IK)</td>\n",
       "      <td>49890000</td>\n",
       "      <td>2023-10-01</td>\n",
       "    </tr>\n",
       "    <tr>\n",
       "      <th>...</th>\n",
       "      <td>...</td>\n",
       "      <td>...</td>\n",
       "      <td>...</td>\n",
       "    </tr>\n",
       "    <tr>\n",
       "      <th>288</th>\n",
       "      <td>G80 (RG3)</td>\n",
       "      <td>84310000</td>\n",
       "      <td>2024-12-20</td>\n",
       "    </tr>\n",
       "    <tr>\n",
       "      <th>289</th>\n",
       "      <td>Avante (CN7 N)</td>\n",
       "      <td>35670000</td>\n",
       "      <td>2023-08-24</td>\n",
       "    </tr>\n",
       "    <tr>\n",
       "      <th>290</th>\n",
       "      <td>NEXO (FE)</td>\n",
       "      <td>70990000</td>\n",
       "      <td>2024-01-12</td>\n",
       "    </tr>\n",
       "    <tr>\n",
       "      <th>291</th>\n",
       "      <td>G80 (RG3)</td>\n",
       "      <td>86540000</td>\n",
       "      <td>2024-01-30</td>\n",
       "    </tr>\n",
       "    <tr>\n",
       "      <th>292</th>\n",
       "      <td>G80 (RG3)</td>\n",
       "      <td>86690000</td>\n",
       "      <td>2024-06-28</td>\n",
       "    </tr>\n",
       "  </tbody>\n",
       "</table>\n",
       "<p>291 rows × 3 columns</p>\n",
       "</div>"
      ],
      "text/plain": [
       "           최근 구매 제품  최근 거래 금액    최근 구매 날짜\n",
       "연번                                       \n",
       "1    Avante (CN7 N)  33820000  2024-04-04\n",
       "2         G80 (RG3)  89930000  2025-02-10\n",
       "3         NEXO (FE)  70990000  2025-03-10\n",
       "4        Santa-Fe ™  50970000  2023-05-01\n",
       "5          G70 (IK)  49890000  2023-10-01\n",
       "..              ...       ...         ...\n",
       "288       G80 (RG3)  84310000  2024-12-20\n",
       "289  Avante (CN7 N)  35670000  2023-08-24\n",
       "290       NEXO (FE)  70990000  2024-01-12\n",
       "291       G80 (RG3)  86540000  2024-01-30\n",
       "292       G80 (RG3)  86690000  2024-06-28\n",
       "\n",
       "[291 rows x 3 columns]"
      ]
     },
     "execution_count": 7,
     "metadata": {},
     "output_type": "execute_result"
    }
   ],
   "source": [
    "category_df"
   ]
  },
  {
   "cell_type": "code",
   "execution_count": 8,
   "metadata": {},
   "outputs": [
    {
     "name": "stderr",
     "output_type": "stream",
     "text": [
      "/var/folders/_k/9pcm610n0sb_j9n64tc8zgcw0000gn/T/ipykernel_75775/3678036121.py:2: SettingWithCopyWarning: \n",
      "A value is trying to be set on a copy of a slice from a DataFrame.\n",
      "Try using .loc[row_indexer,col_indexer] = value instead\n",
      "\n",
      "See the caveats in the documentation: https://pandas.pydata.org/pandas-docs/stable/user_guide/indexing.html#returning-a-view-versus-a-copy\n",
      "  category_df[\"최근 구매 날짜\"]=category_df[\"최근 구매 날짜\"].str[:4]\n"
     ]
    }
   ],
   "source": [
    "# 연도만 빼기\n",
    "category_df[\"최근 구매 날짜\"]=category_df[\"최근 구매 날짜\"].str[:4]"
   ]
  },
  {
   "cell_type": "code",
   "execution_count": 9,
   "metadata": {},
   "outputs": [
    {
     "data": {
      "application/vnd.microsoft.datawrangler.viewer.v0+json": {
       "columns": [
        {
         "name": "연번",
         "rawType": "int64",
         "type": "integer"
        },
        {
         "name": "최근 구매 제품",
         "rawType": "object",
         "type": "string"
        },
        {
         "name": "최근 거래 금액",
         "rawType": "int64",
         "type": "integer"
        },
        {
         "name": "최근 구매 날짜",
         "rawType": "object",
         "type": "string"
        }
       ],
       "conversionMethod": "pd.DataFrame",
       "ref": "982e7afd-de36-477d-b3b9-4f2a2a38b43f",
       "rows": [
        [
         "1",
         "Avante (CN7 N)",
         "33820000",
         "2024"
        ],
        [
         "2",
         "G80 (RG3)",
         "89930000",
         "2025"
        ],
        [
         "3",
         "NEXO (FE)",
         "70990000",
         "2025"
        ],
        [
         "4",
         "Santa-Fe ™",
         "50970000",
         "2023"
        ],
        [
         "5",
         "G70 (IK)",
         "49890000",
         "2023"
        ],
        [
         "6",
         "G70 (IK)",
         "45860000",
         "2023"
        ],
        [
         "7",
         "IONIQ (AE EV)",
         "74800000",
         "2023"
        ],
        [
         "9",
         "IONIQ (AE EV)",
         "75330000",
         "2023"
        ],
        [
         "10",
         "IONIQ 6 (CE)",
         "42410000",
         "2024"
        ],
        [
         "11",
         "G90 (HI)",
         "131210000",
         "2024"
        ],
        [
         "12",
         "Santa-Fe (MX5 PHEV)",
         "53510000",
         "2023"
        ],
        [
         "13",
         "Avante (CN7 N)",
         "33110000",
         "2025"
        ],
        [
         "14",
         "Santa-Fe ™",
         "38280000",
         "2024"
        ],
        [
         "15",
         "Avante (CN7 N)",
         "41300000",
         "2023"
        ],
        [
         "16",
         "Grandeur (GN7 HEV)",
         "46000000",
         "2024"
        ],
        [
         "17",
         "Santa-Fe ™",
         "48690000",
         "2024"
        ],
        [
         "18",
         "Tucson (NX4 PHEV)",
         "39880000",
         "2024"
        ],
        [
         "19",
         "Grandeur (GN7 HEV)",
         "50100000",
         "2023"
        ],
        [
         "20",
         "Grandeur (GN7 HEV)",
         "52880000",
         "2024"
        ],
        [
         "21",
         "G70 (IK)",
         "48000000",
         "2024"
        ],
        [
         "22",
         "G90 (RS4)",
         "78490000",
         "2024"
        ],
        [
         "23",
         "Santa-Fe ™",
         "44840000",
         "2024"
        ],
        [
         "24",
         "IONIQ (AE EV)",
         "68920000",
         "2025"
        ],
        [
         "25",
         "Grandeur (GN7 HEV)",
         "51040000",
         "2024"
        ],
        [
         "26",
         "Tucson (NX4 PHEV)",
         "39170000",
         "2023"
        ],
        [
         "27",
         "Grandeur (GN7 HEV)",
         "43290000",
         "2023"
        ],
        [
         "28",
         "Palisade (LX2)",
         "57630000",
         "2024"
        ],
        [
         "29",
         "Avante (CN7 N)",
         "33820000",
         "2024"
        ],
        [
         "30",
         "i30 (PD)",
         "22100000",
         "2024"
        ],
        [
         "31",
         "Grandeur (GN7 HEV)",
         "54090000",
         "2024"
        ],
        [
         "32",
         "i30 (PD)",
         "27350000",
         "2024"
        ],
        [
         "33",
         "IONIQ (AE EV)",
         "77350000",
         "2024"
        ],
        [
         "34",
         "Palisade (LX2)",
         "60070000",
         "2024"
        ],
        [
         "35",
         "Avante (CN7 N)",
         "36300000",
         "2025"
        ],
        [
         "36",
         "i30 (PD)",
         "19070000",
         "2023"
        ],
        [
         "37",
         "IONIQ (AE EV)",
         "68720000",
         "2024"
        ],
        [
         "38",
         "Santa-Fe ™",
         "38300000",
         "2024"
        ],
        [
         "39",
         "i30 (PD)",
         "21530000",
         "2024"
        ],
        [
         "40",
         "Palisade (LX2)",
         "52810000",
         "2023"
        ],
        [
         "41",
         "Grandeur (GN7 HEV)",
         "59050000",
         "2023"
        ],
        [
         "42",
         "Grandeur (GN7 HEV)",
         "58450000",
         "2024"
        ],
        [
         "43",
         "Avante (CN7 N)",
         "35840000",
         "2023"
        ],
        [
         "44",
         "Santa-Fe ™",
         "53440000",
         "2024"
        ],
        [
         "45",
         "G80 (RG3)",
         "86370000",
         "2024"
        ],
        [
         "46",
         "Santa-Fe ™",
         "34970000",
         "2024"
        ],
        [
         "47",
         "Avante (CN7 N)",
         "36570000",
         "2023"
        ],
        [
         "48",
         "NEXO (FE)",
         "69950000",
         "2023"
        ],
        [
         "49",
         "NEXO (FE)",
         "70450000",
         "2023"
        ],
        [
         "50",
         "Avante (CN7 N)",
         "34910000",
         "2023"
        ],
        [
         "51",
         "G70 (IK)",
         "50830000",
         "2023"
        ]
       ],
       "shape": {
        "columns": 3,
        "rows": 291
       }
      },
      "text/html": [
       "<div>\n",
       "<style scoped>\n",
       "    .dataframe tbody tr th:only-of-type {\n",
       "        vertical-align: middle;\n",
       "    }\n",
       "\n",
       "    .dataframe tbody tr th {\n",
       "        vertical-align: top;\n",
       "    }\n",
       "\n",
       "    .dataframe thead th {\n",
       "        text-align: right;\n",
       "    }\n",
       "</style>\n",
       "<table border=\"1\" class=\"dataframe\">\n",
       "  <thead>\n",
       "    <tr style=\"text-align: right;\">\n",
       "      <th></th>\n",
       "      <th>최근 구매 제품</th>\n",
       "      <th>최근 거래 금액</th>\n",
       "      <th>최근 구매 날짜</th>\n",
       "    </tr>\n",
       "    <tr>\n",
       "      <th>연번</th>\n",
       "      <th></th>\n",
       "      <th></th>\n",
       "      <th></th>\n",
       "    </tr>\n",
       "  </thead>\n",
       "  <tbody>\n",
       "    <tr>\n",
       "      <th>1</th>\n",
       "      <td>Avante (CN7 N)</td>\n",
       "      <td>33820000</td>\n",
       "      <td>2024</td>\n",
       "    </tr>\n",
       "    <tr>\n",
       "      <th>2</th>\n",
       "      <td>G80 (RG3)</td>\n",
       "      <td>89930000</td>\n",
       "      <td>2025</td>\n",
       "    </tr>\n",
       "    <tr>\n",
       "      <th>3</th>\n",
       "      <td>NEXO (FE)</td>\n",
       "      <td>70990000</td>\n",
       "      <td>2025</td>\n",
       "    </tr>\n",
       "    <tr>\n",
       "      <th>4</th>\n",
       "      <td>Santa-Fe ™</td>\n",
       "      <td>50970000</td>\n",
       "      <td>2023</td>\n",
       "    </tr>\n",
       "    <tr>\n",
       "      <th>5</th>\n",
       "      <td>G70 (IK)</td>\n",
       "      <td>49890000</td>\n",
       "      <td>2023</td>\n",
       "    </tr>\n",
       "    <tr>\n",
       "      <th>...</th>\n",
       "      <td>...</td>\n",
       "      <td>...</td>\n",
       "      <td>...</td>\n",
       "    </tr>\n",
       "    <tr>\n",
       "      <th>288</th>\n",
       "      <td>G80 (RG3)</td>\n",
       "      <td>84310000</td>\n",
       "      <td>2024</td>\n",
       "    </tr>\n",
       "    <tr>\n",
       "      <th>289</th>\n",
       "      <td>Avante (CN7 N)</td>\n",
       "      <td>35670000</td>\n",
       "      <td>2023</td>\n",
       "    </tr>\n",
       "    <tr>\n",
       "      <th>290</th>\n",
       "      <td>NEXO (FE)</td>\n",
       "      <td>70990000</td>\n",
       "      <td>2024</td>\n",
       "    </tr>\n",
       "    <tr>\n",
       "      <th>291</th>\n",
       "      <td>G80 (RG3)</td>\n",
       "      <td>86540000</td>\n",
       "      <td>2024</td>\n",
       "    </tr>\n",
       "    <tr>\n",
       "      <th>292</th>\n",
       "      <td>G80 (RG3)</td>\n",
       "      <td>86690000</td>\n",
       "      <td>2024</td>\n",
       "    </tr>\n",
       "  </tbody>\n",
       "</table>\n",
       "<p>291 rows × 3 columns</p>\n",
       "</div>"
      ],
      "text/plain": [
       "           최근 구매 제품  최근 거래 금액 최근 구매 날짜\n",
       "연번                                    \n",
       "1    Avante (CN7 N)  33820000     2024\n",
       "2         G80 (RG3)  89930000     2025\n",
       "3         NEXO (FE)  70990000     2025\n",
       "4        Santa-Fe ™  50970000     2023\n",
       "5          G70 (IK)  49890000     2023\n",
       "..              ...       ...      ...\n",
       "288       G80 (RG3)  84310000     2024\n",
       "289  Avante (CN7 N)  35670000     2023\n",
       "290       NEXO (FE)  70990000     2024\n",
       "291       G80 (RG3)  86540000     2024\n",
       "292       G80 (RG3)  86690000     2024\n",
       "\n",
       "[291 rows x 3 columns]"
      ]
     },
     "execution_count": 9,
     "metadata": {},
     "output_type": "execute_result"
    }
   ],
   "source": [
    "category_df"
   ]
  },
  {
   "cell_type": "code",
   "execution_count": 10,
   "metadata": {},
   "outputs": [],
   "source": [
    "result=category_df.groupby([\"최근 구매 날짜\",\"최근 구매 제품\"])[[\"최근 거래 금액\"]].count().reset_index()"
   ]
  },
  {
   "cell_type": "code",
   "execution_count": 11,
   "metadata": {},
   "outputs": [],
   "source": [
    "result=result.rename(columns={\"최근 거래 금액\":\"판매량\"})"
   ]
  },
  {
   "cell_type": "code",
   "execution_count": 12,
   "metadata": {},
   "outputs": [
    {
     "data": {
      "application/vnd.microsoft.datawrangler.viewer.v0+json": {
       "columns": [
        {
         "name": "index",
         "rawType": "int64",
         "type": "integer"
        },
        {
         "name": "최근 구매 날짜",
         "rawType": "object",
         "type": "string"
        },
        {
         "name": "최근 구매 제품",
         "rawType": "object",
         "type": "string"
        },
        {
         "name": "판매량",
         "rawType": "int64",
         "type": "integer"
        }
       ],
       "conversionMethod": "pd.DataFrame",
       "ref": "41af9376-3b4c-4a6a-be4d-899073fbd8e8",
       "rows": [
        [
         "0",
         "2023",
         "Avante (CN7 N)",
         "20"
        ],
        [
         "1",
         "2023",
         "G70 (IK)",
         "27"
        ],
        [
         "2",
         "2023",
         "G80 (RG3)",
         "16"
        ],
        [
         "3",
         "2023",
         "Grandeur (GN7 HEV)",
         "3"
        ],
        [
         "4",
         "2023",
         "IONIQ (AE EV)",
         "2"
        ],
        [
         "5",
         "2023",
         "NEXO (FE)",
         "22"
        ],
        [
         "6",
         "2023",
         "Palisade (LX2)",
         "1"
        ],
        [
         "7",
         "2023",
         "Santa-Fe (MX5 PHEV)",
         "1"
        ],
        [
         "8",
         "2023",
         "Santa-Fe ™",
         "19"
        ],
        [
         "9",
         "2023",
         "Tucson (NX4 PHEV)",
         "1"
        ],
        [
         "10",
         "2023",
         "i30 (PD)",
         "1"
        ],
        [
         "11",
         "2024",
         "Avante (CN7 N)",
         "25"
        ],
        [
         "12",
         "2024",
         "G70 (IK)",
         "28"
        ],
        [
         "13",
         "2024",
         "G80 (RG3)",
         "23"
        ],
        [
         "14",
         "2024",
         "G90 (HI)",
         "1"
        ],
        [
         "15",
         "2024",
         "G90 (RS4)",
         "1"
        ],
        [
         "16",
         "2024",
         "Grandeur (GN7 HEV)",
         "5"
        ],
        [
         "17",
         "2024",
         "IONIQ (AE EV)",
         "2"
        ],
        [
         "18",
         "2024",
         "IONIQ 6 (CE)",
         "1"
        ],
        [
         "19",
         "2024",
         "NEXO (FE)",
         "24"
        ],
        [
         "20",
         "2024",
         "Palisade (LX2)",
         "2"
        ],
        [
         "21",
         "2024",
         "Santa-Fe ™",
         "28"
        ],
        [
         "22",
         "2024",
         "Tucson (NX4 PHEV)",
         "1"
        ],
        [
         "23",
         "2024",
         "i30 (PD)",
         "3"
        ],
        [
         "24",
         "2025",
         "Avante (CN7 N)",
         "5"
        ],
        [
         "25",
         "2025",
         "G70 (IK)",
         "5"
        ],
        [
         "26",
         "2025",
         "G80 (RG3)",
         "7"
        ],
        [
         "27",
         "2025",
         "IONIQ (AE EV)",
         "1"
        ],
        [
         "28",
         "2025",
         "NEXO (FE)",
         "6"
        ],
        [
         "29",
         "2025",
         "Santa-Fe ™",
         "10"
        ]
       ],
       "shape": {
        "columns": 3,
        "rows": 30
       }
      },
      "text/html": [
       "<div>\n",
       "<style scoped>\n",
       "    .dataframe tbody tr th:only-of-type {\n",
       "        vertical-align: middle;\n",
       "    }\n",
       "\n",
       "    .dataframe tbody tr th {\n",
       "        vertical-align: top;\n",
       "    }\n",
       "\n",
       "    .dataframe thead th {\n",
       "        text-align: right;\n",
       "    }\n",
       "</style>\n",
       "<table border=\"1\" class=\"dataframe\">\n",
       "  <thead>\n",
       "    <tr style=\"text-align: right;\">\n",
       "      <th></th>\n",
       "      <th>최근 구매 날짜</th>\n",
       "      <th>최근 구매 제품</th>\n",
       "      <th>판매량</th>\n",
       "    </tr>\n",
       "  </thead>\n",
       "  <tbody>\n",
       "    <tr>\n",
       "      <th>0</th>\n",
       "      <td>2023</td>\n",
       "      <td>Avante (CN7 N)</td>\n",
       "      <td>20</td>\n",
       "    </tr>\n",
       "    <tr>\n",
       "      <th>1</th>\n",
       "      <td>2023</td>\n",
       "      <td>G70 (IK)</td>\n",
       "      <td>27</td>\n",
       "    </tr>\n",
       "    <tr>\n",
       "      <th>2</th>\n",
       "      <td>2023</td>\n",
       "      <td>G80 (RG3)</td>\n",
       "      <td>16</td>\n",
       "    </tr>\n",
       "    <tr>\n",
       "      <th>3</th>\n",
       "      <td>2023</td>\n",
       "      <td>Grandeur (GN7 HEV)</td>\n",
       "      <td>3</td>\n",
       "    </tr>\n",
       "    <tr>\n",
       "      <th>4</th>\n",
       "      <td>2023</td>\n",
       "      <td>IONIQ (AE EV)</td>\n",
       "      <td>2</td>\n",
       "    </tr>\n",
       "    <tr>\n",
       "      <th>5</th>\n",
       "      <td>2023</td>\n",
       "      <td>NEXO (FE)</td>\n",
       "      <td>22</td>\n",
       "    </tr>\n",
       "    <tr>\n",
       "      <th>6</th>\n",
       "      <td>2023</td>\n",
       "      <td>Palisade (LX2)</td>\n",
       "      <td>1</td>\n",
       "    </tr>\n",
       "    <tr>\n",
       "      <th>7</th>\n",
       "      <td>2023</td>\n",
       "      <td>Santa-Fe (MX5 PHEV)</td>\n",
       "      <td>1</td>\n",
       "    </tr>\n",
       "    <tr>\n",
       "      <th>8</th>\n",
       "      <td>2023</td>\n",
       "      <td>Santa-Fe ™</td>\n",
       "      <td>19</td>\n",
       "    </tr>\n",
       "    <tr>\n",
       "      <th>9</th>\n",
       "      <td>2023</td>\n",
       "      <td>Tucson (NX4 PHEV)</td>\n",
       "      <td>1</td>\n",
       "    </tr>\n",
       "    <tr>\n",
       "      <th>10</th>\n",
       "      <td>2023</td>\n",
       "      <td>i30 (PD)</td>\n",
       "      <td>1</td>\n",
       "    </tr>\n",
       "    <tr>\n",
       "      <th>11</th>\n",
       "      <td>2024</td>\n",
       "      <td>Avante (CN7 N)</td>\n",
       "      <td>25</td>\n",
       "    </tr>\n",
       "    <tr>\n",
       "      <th>12</th>\n",
       "      <td>2024</td>\n",
       "      <td>G70 (IK)</td>\n",
       "      <td>28</td>\n",
       "    </tr>\n",
       "    <tr>\n",
       "      <th>13</th>\n",
       "      <td>2024</td>\n",
       "      <td>G80 (RG3)</td>\n",
       "      <td>23</td>\n",
       "    </tr>\n",
       "    <tr>\n",
       "      <th>14</th>\n",
       "      <td>2024</td>\n",
       "      <td>G90 (HI)</td>\n",
       "      <td>1</td>\n",
       "    </tr>\n",
       "    <tr>\n",
       "      <th>15</th>\n",
       "      <td>2024</td>\n",
       "      <td>G90 (RS4)</td>\n",
       "      <td>1</td>\n",
       "    </tr>\n",
       "    <tr>\n",
       "      <th>16</th>\n",
       "      <td>2024</td>\n",
       "      <td>Grandeur (GN7 HEV)</td>\n",
       "      <td>5</td>\n",
       "    </tr>\n",
       "    <tr>\n",
       "      <th>17</th>\n",
       "      <td>2024</td>\n",
       "      <td>IONIQ (AE EV)</td>\n",
       "      <td>2</td>\n",
       "    </tr>\n",
       "    <tr>\n",
       "      <th>18</th>\n",
       "      <td>2024</td>\n",
       "      <td>IONIQ 6 (CE)</td>\n",
       "      <td>1</td>\n",
       "    </tr>\n",
       "    <tr>\n",
       "      <th>19</th>\n",
       "      <td>2024</td>\n",
       "      <td>NEXO (FE)</td>\n",
       "      <td>24</td>\n",
       "    </tr>\n",
       "    <tr>\n",
       "      <th>20</th>\n",
       "      <td>2024</td>\n",
       "      <td>Palisade (LX2)</td>\n",
       "      <td>2</td>\n",
       "    </tr>\n",
       "    <tr>\n",
       "      <th>21</th>\n",
       "      <td>2024</td>\n",
       "      <td>Santa-Fe ™</td>\n",
       "      <td>28</td>\n",
       "    </tr>\n",
       "    <tr>\n",
       "      <th>22</th>\n",
       "      <td>2024</td>\n",
       "      <td>Tucson (NX4 PHEV)</td>\n",
       "      <td>1</td>\n",
       "    </tr>\n",
       "    <tr>\n",
       "      <th>23</th>\n",
       "      <td>2024</td>\n",
       "      <td>i30 (PD)</td>\n",
       "      <td>3</td>\n",
       "    </tr>\n",
       "    <tr>\n",
       "      <th>24</th>\n",
       "      <td>2025</td>\n",
       "      <td>Avante (CN7 N)</td>\n",
       "      <td>5</td>\n",
       "    </tr>\n",
       "    <tr>\n",
       "      <th>25</th>\n",
       "      <td>2025</td>\n",
       "      <td>G70 (IK)</td>\n",
       "      <td>5</td>\n",
       "    </tr>\n",
       "    <tr>\n",
       "      <th>26</th>\n",
       "      <td>2025</td>\n",
       "      <td>G80 (RG3)</td>\n",
       "      <td>7</td>\n",
       "    </tr>\n",
       "    <tr>\n",
       "      <th>27</th>\n",
       "      <td>2025</td>\n",
       "      <td>IONIQ (AE EV)</td>\n",
       "      <td>1</td>\n",
       "    </tr>\n",
       "    <tr>\n",
       "      <th>28</th>\n",
       "      <td>2025</td>\n",
       "      <td>NEXO (FE)</td>\n",
       "      <td>6</td>\n",
       "    </tr>\n",
       "    <tr>\n",
       "      <th>29</th>\n",
       "      <td>2025</td>\n",
       "      <td>Santa-Fe ™</td>\n",
       "      <td>10</td>\n",
       "    </tr>\n",
       "  </tbody>\n",
       "</table>\n",
       "</div>"
      ],
      "text/plain": [
       "   최근 구매 날짜             최근 구매 제품  판매량\n",
       "0      2023       Avante (CN7 N)   20\n",
       "1      2023             G70 (IK)   27\n",
       "2      2023            G80 (RG3)   16\n",
       "3      2023   Grandeur (GN7 HEV)    3\n",
       "4      2023        IONIQ (AE EV)    2\n",
       "5      2023            NEXO (FE)   22\n",
       "6      2023       Palisade (LX2)    1\n",
       "7      2023  Santa-Fe (MX5 PHEV)    1\n",
       "8      2023           Santa-Fe ™   19\n",
       "9      2023    Tucson (NX4 PHEV)    1\n",
       "10     2023             i30 (PD)    1\n",
       "11     2024       Avante (CN7 N)   25\n",
       "12     2024             G70 (IK)   28\n",
       "13     2024            G80 (RG3)   23\n",
       "14     2024             G90 (HI)    1\n",
       "15     2024            G90 (RS4)    1\n",
       "16     2024   Grandeur (GN7 HEV)    5\n",
       "17     2024        IONIQ (AE EV)    2\n",
       "18     2024         IONIQ 6 (CE)    1\n",
       "19     2024            NEXO (FE)   24\n",
       "20     2024       Palisade (LX2)    2\n",
       "21     2024           Santa-Fe ™   28\n",
       "22     2024    Tucson (NX4 PHEV)    1\n",
       "23     2024             i30 (PD)    3\n",
       "24     2025       Avante (CN7 N)    5\n",
       "25     2025             G70 (IK)    5\n",
       "26     2025            G80 (RG3)    7\n",
       "27     2025        IONIQ (AE EV)    1\n",
       "28     2025            NEXO (FE)    6\n",
       "29     2025           Santa-Fe ™   10"
      ]
     },
     "execution_count": 12,
     "metadata": {},
     "output_type": "execute_result"
    }
   ],
   "source": [
    "result"
   ]
  },
  {
   "cell_type": "code",
   "execution_count": 13,
   "metadata": {},
   "outputs": [
    {
     "data": {
      "text/plain": [
       "14"
      ]
     },
     "execution_count": 13,
     "metadata": {},
     "output_type": "execute_result"
    }
   ],
   "source": [
    "result['최근 구매 제품'].nunique()"
   ]
  },
  {
   "cell_type": "code",
   "execution_count": 14,
   "metadata": {},
   "outputs": [
    {
     "data": {
      "text/plain": [
       "array(['2023', '2024', '2025'], dtype=object)"
      ]
     },
     "execution_count": 14,
     "metadata": {},
     "output_type": "execute_result"
    }
   ],
   "source": [
    "result['최근 구매 날짜'].unique()"
   ]
  },
  {
   "cell_type": "code",
   "execution_count": 15,
   "metadata": {},
   "outputs": [
    {
     "data": {
      "image/png": "[encoded data removed]",
      "text/plain": [
       "<Figure size 1200x800 with 1 Axes>"
      ]
     },
     "metadata": {},
     "output_type": "display_data"
    }
   ],
   "source": [
    "# 구매 연도별 제품 판매량 합산 (피벗 테이블)\n",
    "df_pivot = result.pivot_table(index='최근 구매 날짜', columns='최근 구매 제품', values='판매량', fill_value=0)\n",
    "\n",
    "# 제품별 총 판매량 기준으로 정렬\n",
    "df_pivot = df_pivot[df_pivot.sum().sort_values(ascending=False).index]\n",
    "\n",
    "# 연도 정렬 (오름차순)\n",
    "df_pivot = df_pivot.sort_index(ascending=True)\n",
    "\n",
    "# 14개 색상 설정 (Seaborn의 'tab20'에서 14개 색 추출)\n",
    "color_list = sb.color_palette(\"tab20\", 14)\n",
    "\n",
    "# 스택형 막대 그래프 그리기\n",
    "ax = df_pivot.plot(kind='bar', figsize=(12, 8), color=color_list)\n",
    "\n",
    "# 그래프 제목 및 레이블 설정\n",
    "ax.set_title('연도별 제품별 판매량', fontsize=16)\n",
    "ax.set_xlabel('구매 연도', fontsize=12)\n",
    "ax.set_ylabel('판매량', fontsize=12)\n",
    "\n",
    "# 범례 설정\n",
    "plt.legend(title='구매 제품', bbox_to_anchor=(1.05, 1), loc='upper left')\n",
    "\n",
    "# 그래프 표시\n",
    "plt.tight_layout()\n",
    "plt.show() "
   ]
  },
  {
   "cell_type": "code",
   "execution_count": null,
   "metadata": {},
   "outputs": [],
   "source": []
  },
  {
   "cell_type": "code",
   "execution_count": null,
   "metadata": {},
   "outputs": [],
   "source": []
  },
  {
   "cell_type": "code",
   "execution_count": null,
   "metadata": {},
   "outputs": [],
   "source": []
  },
  {
   "cell_type": "code",
   "execution_count": null,
   "metadata": {},
   "outputs": [],
   "source": []
  },
  {
   "cell_type": "code",
   "execution_count": null,
   "metadata": {},
   "outputs": [],
   "source": []
  },
  {
   "cell_type": "code",
   "execution_count": null,
   "metadata": {},
   "outputs": [],
   "source": []
  }
 ],
 "metadata": {
  "kernelspec": {
   "display_name": "hi",
   "language": "python",
   "name": "python3"
  },
  "language_info": {
   "codemirror_mode": {
    "name": "ipython",
    "version": 3
   },
   "file_extension": ".py",
   "mimetype": "text/x-python",
   "name": "python",
   "nbconvert_exporter": "python",
   "pygments_lexer": "ipython3",
   "version": "3.10.16"
  }
 },
 "nbformat": 4,
 "nbformat_minor": 2
}
