{
 "cells": [
  {
   "cell_type": "code",
   "execution_count": null,
   "metadata": {
    "id": "VBV1828sTf6B"
   },
   "outputs": [],
   "source": [
    "# 연령별 브랜드 충성도 지수와 연령별 고객 등급 분석\n",
    "# 연령별 브랜드 충선도 지수 분석"
   ]
  },
  {
   "cell_type": "code",
   "execution_count": 2,
   "metadata": {
    "executionInfo": {
     "elapsed": 927,
     "status": "ok",
     "timestamp": 1742173746745,
     "user": {
      "displayName": "한성현",
      "userId": "01354754736659999008"
     },
     "user_tz": -540
    },
    "id": "LYsrgngJTf3B"
   },
   "outputs": [],
   "source": [
    "import pandas as pd, numpy as np, matplotlib.pyplot as plt, seaborn as sb"
   ]
  },
  {
   "cell_type": "code",
   "execution_count": 3,
   "metadata": {
    "colab": {
     "base_uri": "https://localhost:8080/"
    },
    "executionInfo": {
     "elapsed": 20,
     "status": "ok",
     "timestamp": 1742173748679,
     "user": {
      "displayName": "한성현",
      "userId": "01354754736659999008"
     },
     "user_tz": -540
    },
    "id": "pzzPKUgyTf0g",
    "outputId": "67cbdb6a-da35-4b72-e68b-c035c6ae7a1f"
   },
   "outputs": [],
   "source": [
    "%matplotlib inline\n",
    "\n",
    "import platform\n",
    "\n",
    "from matplotlib import font_manager, rc\n",
    "plt.rcParams['axes.unicode_minus'] = False\n",
    "\n",
    "if platform.system() == 'Darwin':\n",
    "    rc('font', family='AppleGothic')\n",
    "elif platform.system() == 'Windows':\n",
    "    path = \"c:/Windows/Fonts/malgun.ttf\"\n",
    "    font_name = font_manager.FontProperties(fname=path).get_name()\n",
    "    rc('font', family=font_name)\n",
    "else:\n",
    "    print('Unknown system... sorry~~~~')"
   ]
  },
  {
   "cell_type": "code",
   "execution_count": null,
   "metadata": {
    "executionInfo": {
     "elapsed": 23,
     "status": "ok",
     "timestamp": 1742173794827,
     "user": {
      "displayName": "한성현",
      "userId": "01354754736659999008"
     },
     "user_tz": -540
    },
    "id": "J3qK9tKmTfyZ"
   },
   "outputs": [],
   "source": [
    "df = pd.read_csv('../data/고객db_전처리.csv')"
   ]
  },
  {
   "cell_type": "code",
   "execution_count": 5,
   "metadata": {
    "colab": {
     "base_uri": "https://localhost:8080/",
     "height": 1000
    },
    "executionInfo": {
     "elapsed": 158,
     "status": "ok",
     "timestamp": 1742173798879,
     "user": {
      "displayName": "한성현",
      "userId": "01354754736659999008"
     },
     "user_tz": -540
    },
    "id": "a-sZuwYmTfwQ",
    "outputId": "35c887ff-e324-4e66-f070-b772e339db67"
   },
   "outputs": [
    {
     "data": {
      "text/html": [
       "<div>\n",
       "<style scoped>\n",
       "    .dataframe tbody tr th:only-of-type {\n",
       "        vertical-align: middle;\n",
       "    }\n",
       "\n",
       "    .dataframe tbody tr th {\n",
       "        vertical-align: top;\n",
       "    }\n",
       "\n",
       "    .dataframe thead th {\n",
       "        text-align: right;\n",
       "    }\n",
       "</style>\n",
       "<table border=\"1\" class=\"dataframe\">\n",
       "  <thead>\n",
       "    <tr style=\"text-align: right;\">\n",
       "      <th></th>\n",
       "      <th>연번</th>\n",
       "      <th>이름</th>\n",
       "      <th>생년월일</th>\n",
       "      <th>현재 나이</th>\n",
       "      <th>연령대</th>\n",
       "      <th>성별</th>\n",
       "      <th>휴대폰 번호</th>\n",
       "      <th>이메일</th>\n",
       "      <th>고객 구분</th>\n",
       "      <th>주소</th>\n",
       "      <th>...</th>\n",
       "      <th>최근 구매 시점</th>\n",
       "      <th>최근 구매 요일</th>\n",
       "      <th>마지막 구매 이후 경과 기간</th>\n",
       "      <th>최근 구매 당시 나이</th>\n",
       "      <th>최근 거래 금액</th>\n",
       "      <th>선호 거래 방식</th>\n",
       "      <th>선호 구매 경로</th>\n",
       "      <th>차량 구매 횟수</th>\n",
       "      <th>신차 구매 지수</th>\n",
       "      <th>브랜드 충성도 지수</th>\n",
       "    </tr>\n",
       "  </thead>\n",
       "  <tbody>\n",
       "    <tr>\n",
       "      <th>0</th>\n",
       "      <td>1</td>\n",
       "      <td>강주온</td>\n",
       "      <td>2002-03-04</td>\n",
       "      <td>23</td>\n",
       "      <td>20대</td>\n",
       "      <td>남</td>\n",
       "      <td>010-6502-8753</td>\n",
       "      <td>janisi@himedia.co.kr</td>\n",
       "      <td>법인</td>\n",
       "      <td>인천광역시 남동구 구월동 88-10</td>\n",
       "      <td>...</td>\n",
       "      <td>2분기</td>\n",
       "      <td>평일</td>\n",
       "      <td>350</td>\n",
       "      <td>22</td>\n",
       "      <td>35170000</td>\n",
       "      <td>신용카드</td>\n",
       "      <td>오프라인</td>\n",
       "      <td>1</td>\n",
       "      <td>0.002</td>\n",
       "      <td>0.135</td>\n",
       "    </tr>\n",
       "    <tr>\n",
       "      <th>1</th>\n",
       "      <td>2</td>\n",
       "      <td>김경수</td>\n",
       "      <td>1983-01-02</td>\n",
       "      <td>42</td>\n",
       "      <td>40대</td>\n",
       "      <td>남</td>\n",
       "      <td>010-1111-2222</td>\n",
       "      <td>kimkyoungsoo31@himedia.co.kr</td>\n",
       "      <td>법인</td>\n",
       "      <td>광주광역시 서구 치평동 14-7</td>\n",
       "      <td>...</td>\n",
       "      <td>1분기</td>\n",
       "      <td>평일</td>\n",
       "      <td>38</td>\n",
       "      <td>42</td>\n",
       "      <td>85790000</td>\n",
       "      <td>신용카드</td>\n",
       "      <td>오프라인</td>\n",
       "      <td>5</td>\n",
       "      <td>0.508</td>\n",
       "      <td>0.037</td>\n",
       "    </tr>\n",
       "    <tr>\n",
       "      <th>2</th>\n",
       "      <td>3</td>\n",
       "      <td>김다은</td>\n",
       "      <td>1999-05-02</td>\n",
       "      <td>26</td>\n",
       "      <td>20대</td>\n",
       "      <td>여</td>\n",
       "      <td>010-6789-0123</td>\n",
       "      <td>kimdaeun26@himedia.co.kr</td>\n",
       "      <td>법인</td>\n",
       "      <td>부산광역시 해운대구 우동 101-12</td>\n",
       "      <td>...</td>\n",
       "      <td>1분기</td>\n",
       "      <td>평일</td>\n",
       "      <td>10</td>\n",
       "      <td>26</td>\n",
       "      <td>69500000</td>\n",
       "      <td>계좌이체</td>\n",
       "      <td>오프라인</td>\n",
       "      <td>1</td>\n",
       "      <td>0.161</td>\n",
       "      <td>0.004</td>\n",
       "    </tr>\n",
       "    <tr>\n",
       "      <th>3</th>\n",
       "      <td>4</td>\n",
       "      <td>김민수</td>\n",
       "      <td>1960-07-01</td>\n",
       "      <td>65</td>\n",
       "      <td>60대</td>\n",
       "      <td>남</td>\n",
       "      <td>010-1234-5678</td>\n",
       "      <td>kimminsu1@himedia.co.kr</td>\n",
       "      <td>법인</td>\n",
       "      <td>전라남도 목포시 부주동 77-8</td>\n",
       "      <td>...</td>\n",
       "      <td>2분기</td>\n",
       "      <td>평일</td>\n",
       "      <td>689</td>\n",
       "      <td>63</td>\n",
       "      <td>34920000</td>\n",
       "      <td>현금</td>\n",
       "      <td>오프라인</td>\n",
       "      <td>1</td>\n",
       "      <td>0.002</td>\n",
       "      <td>0.130</td>\n",
       "    </tr>\n",
       "    <tr>\n",
       "      <th>4</th>\n",
       "      <td>5</td>\n",
       "      <td>김승현</td>\n",
       "      <td>1970-03-02</td>\n",
       "      <td>55</td>\n",
       "      <td>50대</td>\n",
       "      <td>남</td>\n",
       "      <td>010-0123-4567</td>\n",
       "      <td>kimseunghyun20@himedia.co.kr</td>\n",
       "      <td>법인</td>\n",
       "      <td>경기도 수원시 영통구 원천동 12-34</td>\n",
       "      <td>...</td>\n",
       "      <td>4분기</td>\n",
       "      <td>주말</td>\n",
       "      <td>536</td>\n",
       "      <td>53</td>\n",
       "      <td>50230000</td>\n",
       "      <td>신용카드</td>\n",
       "      <td>오프라인</td>\n",
       "      <td>1</td>\n",
       "      <td>0.004</td>\n",
       "      <td>0.103</td>\n",
       "    </tr>\n",
       "    <tr>\n",
       "      <th>...</th>\n",
       "      <td>...</td>\n",
       "      <td>...</td>\n",
       "      <td>...</td>\n",
       "      <td>...</td>\n",
       "      <td>...</td>\n",
       "      <td>...</td>\n",
       "      <td>...</td>\n",
       "      <td>...</td>\n",
       "      <td>...</td>\n",
       "      <td>...</td>\n",
       "      <td>...</td>\n",
       "      <td>...</td>\n",
       "      <td>...</td>\n",
       "      <td>...</td>\n",
       "      <td>...</td>\n",
       "      <td>...</td>\n",
       "      <td>...</td>\n",
       "      <td>...</td>\n",
       "      <td>...</td>\n",
       "      <td>...</td>\n",
       "      <td>...</td>\n",
       "    </tr>\n",
       "    <tr>\n",
       "      <th>286</th>\n",
       "      <td>288</td>\n",
       "      <td>신시우</td>\n",
       "      <td>1958-07-11</td>\n",
       "      <td>67</td>\n",
       "      <td>60대</td>\n",
       "      <td>여</td>\n",
       "      <td>042-207-6955</td>\n",
       "      <td>gyeonghyi78@gmail.com</td>\n",
       "      <td>개인</td>\n",
       "      <td>전라북도 전주시 완산구 덕진동 33-7</td>\n",
       "      <td>...</td>\n",
       "      <td>4분기</td>\n",
       "      <td>평일</td>\n",
       "      <td>90</td>\n",
       "      <td>66</td>\n",
       "      <td>86770000</td>\n",
       "      <td>신용카드</td>\n",
       "      <td>온라인</td>\n",
       "      <td>2</td>\n",
       "      <td>0.011</td>\n",
       "      <td>0.280</td>\n",
       "    </tr>\n",
       "    <tr>\n",
       "      <th>287</th>\n",
       "      <td>289</td>\n",
       "      <td>최춘자</td>\n",
       "      <td>1976-06-27</td>\n",
       "      <td>49</td>\n",
       "      <td>40대</td>\n",
       "      <td>여</td>\n",
       "      <td>031-170-7739</td>\n",
       "      <td>hancunja@yu.kr</td>\n",
       "      <td>개인</td>\n",
       "      <td>충청남도 천안시 동남구 성성동 22-3</td>\n",
       "      <td>...</td>\n",
       "      <td>3분기</td>\n",
       "      <td>평일</td>\n",
       "      <td>574</td>\n",
       "      <td>47</td>\n",
       "      <td>69510000</td>\n",
       "      <td>현금</td>\n",
       "      <td>오프라인</td>\n",
       "      <td>3</td>\n",
       "      <td>0.047</td>\n",
       "      <td>0.116</td>\n",
       "    </tr>\n",
       "    <tr>\n",
       "      <th>288</th>\n",
       "      <td>290</td>\n",
       "      <td>차서준</td>\n",
       "      <td>1968-01-22</td>\n",
       "      <td>57</td>\n",
       "      <td>50대</td>\n",
       "      <td>여</td>\n",
       "      <td>064-741-3740</td>\n",
       "      <td>qgim@simryujo.com</td>\n",
       "      <td>개인</td>\n",
       "      <td>경상남도 창원시 의창구 봉곡동 48-6</td>\n",
       "      <td>...</td>\n",
       "      <td>1분기</td>\n",
       "      <td>평일</td>\n",
       "      <td>433</td>\n",
       "      <td>56</td>\n",
       "      <td>39890000</td>\n",
       "      <td>계좌이체</td>\n",
       "      <td>온라인</td>\n",
       "      <td>2</td>\n",
       "      <td>0.005</td>\n",
       "      <td>0.304</td>\n",
       "    </tr>\n",
       "    <tr>\n",
       "      <th>289</th>\n",
       "      <td>291</td>\n",
       "      <td>안정희</td>\n",
       "      <td>1984-01-10</td>\n",
       "      <td>41</td>\n",
       "      <td>40대</td>\n",
       "      <td>남</td>\n",
       "      <td>051-406-1803</td>\n",
       "      <td>donghyeonbae@joyunson.com</td>\n",
       "      <td>개인</td>\n",
       "      <td>대구광역시 수성구 범어동 55-3</td>\n",
       "      <td>...</td>\n",
       "      <td>1분기</td>\n",
       "      <td>평일</td>\n",
       "      <td>415</td>\n",
       "      <td>40</td>\n",
       "      <td>44530000</td>\n",
       "      <td>현금</td>\n",
       "      <td>온라인</td>\n",
       "      <td>2</td>\n",
       "      <td>0.006</td>\n",
       "      <td>0.268</td>\n",
       "    </tr>\n",
       "    <tr>\n",
       "      <th>290</th>\n",
       "      <td>292</td>\n",
       "      <td>최민수</td>\n",
       "      <td>1960-06-24</td>\n",
       "      <td>65</td>\n",
       "      <td>60대</td>\n",
       "      <td>여</td>\n",
       "      <td>041-028-3477</td>\n",
       "      <td>ihyejin@jusighoesa.kr</td>\n",
       "      <td>개인</td>\n",
       "      <td>전라남도 목포시 부주동 77-8</td>\n",
       "      <td>...</td>\n",
       "      <td>2분기</td>\n",
       "      <td>평일</td>\n",
       "      <td>265</td>\n",
       "      <td>64</td>\n",
       "      <td>43950000</td>\n",
       "      <td>현금</td>\n",
       "      <td>오프라인</td>\n",
       "      <td>5</td>\n",
       "      <td>0.012</td>\n",
       "      <td>0.811</td>\n",
       "    </tr>\n",
       "  </tbody>\n",
       "</table>\n",
       "<p>291 rows × 32 columns</p>\n",
       "</div>"
      ],
      "text/plain": [
       "      연번   이름        생년월일  현재 나이  연령대 성별         휴대폰 번호  \\\n",
       "0      1  강주온  2002-03-04     23  20대  남  010-6502-8753   \n",
       "1      2  김경수  1983-01-02     42  40대  남  010-1111-2222   \n",
       "2      3  김다은  1999-05-02     26  20대  여  010-6789-0123   \n",
       "3      4  김민수  1960-07-01     65  60대  남  010-1234-5678   \n",
       "4      5  김승현  1970-03-02     55  50대  남  010-0123-4567   \n",
       "..   ...  ...         ...    ...  ... ..            ...   \n",
       "286  288  신시우  1958-07-11     67  60대  여   042-207-6955   \n",
       "287  289  최춘자  1976-06-27     49  40대  여   031-170-7739   \n",
       "288  290  차서준  1968-01-22     57  50대  여   064-741-3740   \n",
       "289  291  안정희  1984-01-10     41  40대  남   051-406-1803   \n",
       "290  292  최민수  1960-06-24     65  60대  여   041-028-3477   \n",
       "\n",
       "                              이메일 고객 구분                     주소  ... 최근 구매 시점  \\\n",
       "0            janisi@himedia.co.kr    법인    인천광역시 남동구 구월동 88-10  ...      2분기   \n",
       "1    kimkyoungsoo31@himedia.co.kr    법인      광주광역시 서구 치평동 14-7  ...      1분기   \n",
       "2        kimdaeun26@himedia.co.kr    법인   부산광역시 해운대구 우동 101-12  ...      1분기   \n",
       "3         kimminsu1@himedia.co.kr    법인      전라남도 목포시 부주동 77-8  ...      2분기   \n",
       "4    kimseunghyun20@himedia.co.kr    법인  경기도 수원시 영통구 원천동 12-34  ...      4분기   \n",
       "..                            ...   ...                    ...  ...      ...   \n",
       "286         gyeonghyi78@gmail.com    개인  전라북도 전주시 완산구 덕진동 33-7  ...      4분기   \n",
       "287                hancunja@yu.kr    개인  충청남도 천안시 동남구 성성동 22-3  ...      3분기   \n",
       "288             qgim@simryujo.com    개인  경상남도 창원시 의창구 봉곡동 48-6  ...      1분기   \n",
       "289     donghyeonbae@joyunson.com    개인     대구광역시 수성구 범어동 55-3  ...      1분기   \n",
       "290         ihyejin@jusighoesa.kr    개인      전라남도 목포시 부주동 77-8  ...      2분기   \n",
       "\n",
       "     최근 구매 요일 마지막 구매 이후 경과 기간 최근 구매 당시 나이  최근 거래 금액 선호 거래 방식 선호 구매 경로  \\\n",
       "0          평일             350          22  35170000     신용카드     오프라인   \n",
       "1          평일              38          42  85790000     신용카드     오프라인   \n",
       "2          평일              10          26  69500000     계좌이체     오프라인   \n",
       "3          평일             689          63  34920000       현금     오프라인   \n",
       "4          주말             536          53  50230000     신용카드     오프라인   \n",
       "..        ...             ...         ...       ...      ...      ...   \n",
       "286        평일              90          66  86770000     신용카드      온라인   \n",
       "287        평일             574          47  69510000       현금     오프라인   \n",
       "288        평일             433          56  39890000     계좌이체      온라인   \n",
       "289        평일             415          40  44530000       현금      온라인   \n",
       "290        평일             265          64  43950000       현금     오프라인   \n",
       "\n",
       "    차량 구매 횟수 신차 구매 지수 브랜드 충성도 지수  \n",
       "0          1    0.002      0.135  \n",
       "1          5    0.508      0.037  \n",
       "2          1    0.161      0.004  \n",
       "3          1    0.002      0.130  \n",
       "4          1    0.004      0.103  \n",
       "..       ...      ...        ...  \n",
       "286        2    0.011      0.280  \n",
       "287        3    0.047      0.116  \n",
       "288        2    0.005      0.304  \n",
       "289        2    0.006      0.268  \n",
       "290        5    0.012      0.811  \n",
       "\n",
       "[291 rows x 32 columns]"
      ]
     },
     "execution_count": 5,
     "metadata": {},
     "output_type": "execute_result"
    }
   ],
   "source": [
    "df"
   ]
  },
  {
   "cell_type": "code",
   "execution_count": 6,
   "metadata": {
    "executionInfo": {
     "elapsed": 5,
     "status": "ok",
     "timestamp": 1742173803611,
     "user": {
      "displayName": "한성현",
      "userId": "01354754736659999008"
     },
     "user_tz": -540
    },
    "id": "onE7zrF-T4In"
   },
   "outputs": [],
   "source": [
    "result = df[['연령대', '고객 등급', '브랜드 충성도 지수']]"
   ]
  },
  {
   "cell_type": "code",
   "execution_count": 7,
   "metadata": {
    "colab": {
     "base_uri": "https://localhost:8080/",
     "height": 423
    },
    "executionInfo": {
     "elapsed": 70,
     "status": "ok",
     "timestamp": 1742173806042,
     "user": {
      "displayName": "한성현",
      "userId": "01354754736659999008"
     },
     "user_tz": -540
    },
    "id": "w_ia8BSWT4GO",
    "outputId": "5647726b-acdb-4ebf-f5de-c20ecc4dc775"
   },
   "outputs": [
    {
     "data": {
      "text/html": [
       "<div>\n",
       "<style scoped>\n",
       "    .dataframe tbody tr th:only-of-type {\n",
       "        vertical-align: middle;\n",
       "    }\n",
       "\n",
       "    .dataframe tbody tr th {\n",
       "        vertical-align: top;\n",
       "    }\n",
       "\n",
       "    .dataframe thead th {\n",
       "        text-align: right;\n",
       "    }\n",
       "</style>\n",
       "<table border=\"1\" class=\"dataframe\">\n",
       "  <thead>\n",
       "    <tr style=\"text-align: right;\">\n",
       "      <th></th>\n",
       "      <th>연령대</th>\n",
       "      <th>고객 등급</th>\n",
       "      <th>브랜드 충성도 지수</th>\n",
       "    </tr>\n",
       "  </thead>\n",
       "  <tbody>\n",
       "    <tr>\n",
       "      <th>0</th>\n",
       "      <td>20대</td>\n",
       "      <td>일반</td>\n",
       "      <td>0.135</td>\n",
       "    </tr>\n",
       "    <tr>\n",
       "      <th>1</th>\n",
       "      <td>40대</td>\n",
       "      <td>VIP</td>\n",
       "      <td>0.037</td>\n",
       "    </tr>\n",
       "    <tr>\n",
       "      <th>2</th>\n",
       "      <td>20대</td>\n",
       "      <td>신규</td>\n",
       "      <td>0.004</td>\n",
       "    </tr>\n",
       "    <tr>\n",
       "      <th>3</th>\n",
       "      <td>60대</td>\n",
       "      <td>일반</td>\n",
       "      <td>0.130</td>\n",
       "    </tr>\n",
       "    <tr>\n",
       "      <th>4</th>\n",
       "      <td>50대</td>\n",
       "      <td>일반</td>\n",
       "      <td>0.103</td>\n",
       "    </tr>\n",
       "    <tr>\n",
       "      <th>...</th>\n",
       "      <td>...</td>\n",
       "      <td>...</td>\n",
       "      <td>...</td>\n",
       "    </tr>\n",
       "    <tr>\n",
       "      <th>286</th>\n",
       "      <td>60대</td>\n",
       "      <td>VIP</td>\n",
       "      <td>0.280</td>\n",
       "    </tr>\n",
       "    <tr>\n",
       "      <th>287</th>\n",
       "      <td>40대</td>\n",
       "      <td>VIP</td>\n",
       "      <td>0.116</td>\n",
       "    </tr>\n",
       "    <tr>\n",
       "      <th>288</th>\n",
       "      <td>50대</td>\n",
       "      <td>VIP</td>\n",
       "      <td>0.304</td>\n",
       "    </tr>\n",
       "    <tr>\n",
       "      <th>289</th>\n",
       "      <td>40대</td>\n",
       "      <td>VIP</td>\n",
       "      <td>0.268</td>\n",
       "    </tr>\n",
       "    <tr>\n",
       "      <th>290</th>\n",
       "      <td>60대</td>\n",
       "      <td>VIP</td>\n",
       "      <td>0.811</td>\n",
       "    </tr>\n",
       "  </tbody>\n",
       "</table>\n",
       "<p>291 rows × 3 columns</p>\n",
       "</div>"
      ],
      "text/plain": [
       "     연령대 고객 등급  브랜드 충성도 지수\n",
       "0    20대    일반       0.135\n",
       "1    40대   VIP       0.037\n",
       "2    20대    신규       0.004\n",
       "3    60대    일반       0.130\n",
       "4    50대    일반       0.103\n",
       "..   ...   ...         ...\n",
       "286  60대   VIP       0.280\n",
       "287  40대   VIP       0.116\n",
       "288  50대   VIP       0.304\n",
       "289  40대   VIP       0.268\n",
       "290  60대   VIP       0.811\n",
       "\n",
       "[291 rows x 3 columns]"
      ]
     },
     "execution_count": 7,
     "metadata": {},
     "output_type": "execute_result"
    }
   ],
   "source": [
    "result"
   ]
  },
  {
   "cell_type": "code",
   "execution_count": 8,
   "metadata": {
    "colab": {
     "base_uri": "https://localhost:8080/",
     "height": 303
    },
    "executionInfo": {
     "elapsed": 37,
     "status": "ok",
     "timestamp": 1742173809872,
     "user": {
      "displayName": "한성현",
      "userId": "01354754736659999008"
     },
     "user_tz": -540
    },
    "id": "03m1Aqr3T4Bk",
    "outputId": "bed563bb-7adf-40c8-f8ca-04d80552a401"
   },
   "outputs": [
    {
     "data": {
      "text/plain": [
       "연령대\n",
       "20대    0.268862\n",
       "30대    0.233229\n",
       "40대    0.235623\n",
       "50대    0.343909\n",
       "60대    0.356185\n",
       "70대    0.242778\n",
       "Name: 브랜드 충성도 지수, dtype: float64"
      ]
     },
     "execution_count": 8,
     "metadata": {},
     "output_type": "execute_result"
    }
   ],
   "source": [
    "# 연령별 브랜드 충성도 지수 분석하기\n",
    "df.groupby('연령대')['브랜드 충성도 지수'].mean()"
   ]
  },
  {
   "cell_type": "code",
   "execution_count": 9,
   "metadata": {
    "executionInfo": {
     "elapsed": 3,
     "status": "ok",
     "timestamp": 1742174143776,
     "user": {
      "displayName": "한성현",
      "userId": "01354754736659999008"
     },
     "user_tz": -540
    },
    "id": "cAke4m0qT3_t"
   },
   "outputs": [],
   "source": [
    "avg_brand_loy = df.groupby('연령대')['브랜드 충성도 지수'].mean().reset_index()"
   ]
  },
  {
   "cell_type": "code",
   "execution_count": 10,
   "metadata": {
    "colab": {
     "base_uri": "https://localhost:8080/",
     "height": 303
    },
    "executionInfo": {
     "elapsed": 46,
     "status": "ok",
     "timestamp": 1742174154230,
     "user": {
      "displayName": "한성현",
      "userId": "01354754736659999008"
     },
     "user_tz": -540
    },
    "id": "oprpXVEWT39u",
    "outputId": "caf3c333-3841-4bbc-b83a-10c24c74335f"
   },
   "outputs": [
    {
     "data": {
      "text/html": [
       "<div>\n",
       "<style scoped>\n",
       "    .dataframe tbody tr th:only-of-type {\n",
       "        vertical-align: middle;\n",
       "    }\n",
       "\n",
       "    .dataframe tbody tr th {\n",
       "        vertical-align: top;\n",
       "    }\n",
       "\n",
       "    .dataframe thead th {\n",
       "        text-align: right;\n",
       "    }\n",
       "</style>\n",
       "<table border=\"1\" class=\"dataframe\">\n",
       "  <thead>\n",
       "    <tr style=\"text-align: right;\">\n",
       "      <th></th>\n",
       "      <th>연령대</th>\n",
       "      <th>브랜드 충성도 지수</th>\n",
       "    </tr>\n",
       "  </thead>\n",
       "  <tbody>\n",
       "    <tr>\n",
       "      <th>0</th>\n",
       "      <td>20대</td>\n",
       "      <td>0.268862</td>\n",
       "    </tr>\n",
       "    <tr>\n",
       "      <th>1</th>\n",
       "      <td>30대</td>\n",
       "      <td>0.233229</td>\n",
       "    </tr>\n",
       "    <tr>\n",
       "      <th>2</th>\n",
       "      <td>40대</td>\n",
       "      <td>0.235623</td>\n",
       "    </tr>\n",
       "    <tr>\n",
       "      <th>3</th>\n",
       "      <td>50대</td>\n",
       "      <td>0.343909</td>\n",
       "    </tr>\n",
       "    <tr>\n",
       "      <th>4</th>\n",
       "      <td>60대</td>\n",
       "      <td>0.356185</td>\n",
       "    </tr>\n",
       "    <tr>\n",
       "      <th>5</th>\n",
       "      <td>70대</td>\n",
       "      <td>0.242778</td>\n",
       "    </tr>\n",
       "  </tbody>\n",
       "</table>\n",
       "</div>"
      ],
      "text/plain": [
       "   연령대  브랜드 충성도 지수\n",
       "0  20대    0.268862\n",
       "1  30대    0.233229\n",
       "2  40대    0.235623\n",
       "3  50대    0.343909\n",
       "4  60대    0.356185\n",
       "5  70대    0.242778"
      ]
     },
     "execution_count": 10,
     "metadata": {},
     "output_type": "execute_result"
    }
   ],
   "source": [
    "avg_brand_loy"
   ]
  },
  {
   "cell_type": "code",
   "execution_count": 11,
   "metadata": {
    "colab": {
     "base_uri": "https://localhost:8080/",
     "height": 680
    },
    "executionInfo": {
     "elapsed": 37,
     "status": "ok",
     "timestamp": 1742174034731,
     "user": {
      "displayName": "한성현",
      "userId": "01354754736659999008"
     },
     "user_tz": -540
    },
    "id": "YaIowZMyT362",
    "outputId": "1d7c02e0-0347-4a7c-801b-9b734ed7c5f1"
   },
   "outputs": [
    {
     "data": {
      "text/plain": [
       "연령대  고객 등급\n",
       "20대  VIP      39\n",
       "     일반       15\n",
       "     신규        4\n",
       "30대  VIP      23\n",
       "     일반        9\n",
       "     신규        3\n",
       "40대  VIP      48\n",
       "     일반       20\n",
       "     신규        1\n",
       "50대  VIP      48\n",
       "     일반       15\n",
       "     신규        3\n",
       "60대  VIP      44\n",
       "     일반        6\n",
       "     신규        4\n",
       "70대  VIP       6\n",
       "     일반        2\n",
       "     신규        1\n",
       "Name: count, dtype: int64"
      ]
     },
     "execution_count": 11,
     "metadata": {},
     "output_type": "execute_result"
    }
   ],
   "source": [
    "# 연령별 고객 등급 분석\n",
    "df.groupby('연령대')['고객 등급'].value_counts()"
   ]
  },
  {
   "cell_type": "code",
   "execution_count": 12,
   "metadata": {
    "colab": {
     "base_uri": "https://localhost:8080/",
     "height": 680
    },
    "executionInfo": {
     "elapsed": 35,
     "status": "ok",
     "timestamp": 1742174365828,
     "user": {
      "displayName": "한성현",
      "userId": "01354754736659999008"
     },
     "user_tz": -540
    },
    "id": "P0iamgAWrZ_O",
    "outputId": "40eae82b-629a-49b4-f96a-ff4d12261f31"
   },
   "outputs": [
    {
     "data": {
      "text/plain": [
       "연령대  고객 등급\n",
       "20대  VIP      39\n",
       "     일반       15\n",
       "     신규        4\n",
       "30대  VIP      23\n",
       "     일반        9\n",
       "     신규        3\n",
       "40대  VIP      48\n",
       "     일반       20\n",
       "     신규        1\n",
       "50대  VIP      48\n",
       "     일반       15\n",
       "     신규        3\n",
       "60대  VIP      44\n",
       "     일반        6\n",
       "     신규        4\n",
       "70대  VIP       6\n",
       "     일반        2\n",
       "     신규        1\n",
       "Name: 등급 수, dtype: int64"
      ]
     },
     "execution_count": 12,
     "metadata": {},
     "output_type": "execute_result"
    }
   ],
   "source": [
    "# count 컬럼명을 '등급 수' 컬럼명으로 변경하기\n",
    "df.groupby('연령대')['고객 등급'].value_counts().rename('등급 수')"
   ]
  },
  {
   "cell_type": "code",
   "execution_count": 13,
   "metadata": {
    "executionInfo": {
     "elapsed": 36,
     "status": "ok",
     "timestamp": 1742174397805,
     "user": {
      "displayName": "한성현",
      "userId": "01354754736659999008"
     },
     "user_tz": -540
    },
    "id": "3G0CUEtTT34r"
   },
   "outputs": [],
   "source": [
    "customer_tier = df.groupby('연령대')['고객 등급'].value_counts().rename('등급 수').reset_index()"
   ]
  },
  {
   "cell_type": "code",
   "execution_count": 14,
   "metadata": {
    "colab": {
     "base_uri": "https://localhost:8080/",
     "height": 680
    },
    "executionInfo": {
     "elapsed": 31,
     "status": "ok",
     "timestamp": 1742174399479,
     "user": {
      "displayName": "한성현",
      "userId": "01354754736659999008"
     },
     "user_tz": -540
    },
    "id": "KrCAYmknT32I",
    "outputId": "8b8220a6-42b7-4b7c-9bdd-8289b1ab38cf"
   },
   "outputs": [
    {
     "data": {
      "text/html": [
       "<div>\n",
       "<style scoped>\n",
       "    .dataframe tbody tr th:only-of-type {\n",
       "        vertical-align: middle;\n",
       "    }\n",
       "\n",
       "    .dataframe tbody tr th {\n",
       "        vertical-align: top;\n",
       "    }\n",
       "\n",
       "    .dataframe thead th {\n",
       "        text-align: right;\n",
       "    }\n",
       "</style>\n",
       "<table border=\"1\" class=\"dataframe\">\n",
       "  <thead>\n",
       "    <tr style=\"text-align: right;\">\n",
       "      <th></th>\n",
       "      <th>연령대</th>\n",
       "      <th>고객 등급</th>\n",
       "      <th>등급 수</th>\n",
       "    </tr>\n",
       "  </thead>\n",
       "  <tbody>\n",
       "    <tr>\n",
       "      <th>0</th>\n",
       "      <td>20대</td>\n",
       "      <td>VIP</td>\n",
       "      <td>39</td>\n",
       "    </tr>\n",
       "    <tr>\n",
       "      <th>1</th>\n",
       "      <td>20대</td>\n",
       "      <td>일반</td>\n",
       "      <td>15</td>\n",
       "    </tr>\n",
       "    <tr>\n",
       "      <th>2</th>\n",
       "      <td>20대</td>\n",
       "      <td>신규</td>\n",
       "      <td>4</td>\n",
       "    </tr>\n",
       "    <tr>\n",
       "      <th>3</th>\n",
       "      <td>30대</td>\n",
       "      <td>VIP</td>\n",
       "      <td>23</td>\n",
       "    </tr>\n",
       "    <tr>\n",
       "      <th>4</th>\n",
       "      <td>30대</td>\n",
       "      <td>일반</td>\n",
       "      <td>9</td>\n",
       "    </tr>\n",
       "    <tr>\n",
       "      <th>5</th>\n",
       "      <td>30대</td>\n",
       "      <td>신규</td>\n",
       "      <td>3</td>\n",
       "    </tr>\n",
       "    <tr>\n",
       "      <th>6</th>\n",
       "      <td>40대</td>\n",
       "      <td>VIP</td>\n",
       "      <td>48</td>\n",
       "    </tr>\n",
       "    <tr>\n",
       "      <th>7</th>\n",
       "      <td>40대</td>\n",
       "      <td>일반</td>\n",
       "      <td>20</td>\n",
       "    </tr>\n",
       "    <tr>\n",
       "      <th>8</th>\n",
       "      <td>40대</td>\n",
       "      <td>신규</td>\n",
       "      <td>1</td>\n",
       "    </tr>\n",
       "    <tr>\n",
       "      <th>9</th>\n",
       "      <td>50대</td>\n",
       "      <td>VIP</td>\n",
       "      <td>48</td>\n",
       "    </tr>\n",
       "    <tr>\n",
       "      <th>10</th>\n",
       "      <td>50대</td>\n",
       "      <td>일반</td>\n",
       "      <td>15</td>\n",
       "    </tr>\n",
       "    <tr>\n",
       "      <th>11</th>\n",
       "      <td>50대</td>\n",
       "      <td>신규</td>\n",
       "      <td>3</td>\n",
       "    </tr>\n",
       "    <tr>\n",
       "      <th>12</th>\n",
       "      <td>60대</td>\n",
       "      <td>VIP</td>\n",
       "      <td>44</td>\n",
       "    </tr>\n",
       "    <tr>\n",
       "      <th>13</th>\n",
       "      <td>60대</td>\n",
       "      <td>일반</td>\n",
       "      <td>6</td>\n",
       "    </tr>\n",
       "    <tr>\n",
       "      <th>14</th>\n",
       "      <td>60대</td>\n",
       "      <td>신규</td>\n",
       "      <td>4</td>\n",
       "    </tr>\n",
       "    <tr>\n",
       "      <th>15</th>\n",
       "      <td>70대</td>\n",
       "      <td>VIP</td>\n",
       "      <td>6</td>\n",
       "    </tr>\n",
       "    <tr>\n",
       "      <th>16</th>\n",
       "      <td>70대</td>\n",
       "      <td>일반</td>\n",
       "      <td>2</td>\n",
       "    </tr>\n",
       "    <tr>\n",
       "      <th>17</th>\n",
       "      <td>70대</td>\n",
       "      <td>신규</td>\n",
       "      <td>1</td>\n",
       "    </tr>\n",
       "  </tbody>\n",
       "</table>\n",
       "</div>"
      ],
      "text/plain": [
       "    연령대 고객 등급  등급 수\n",
       "0   20대   VIP    39\n",
       "1   20대    일반    15\n",
       "2   20대    신규     4\n",
       "3   30대   VIP    23\n",
       "4   30대    일반     9\n",
       "5   30대    신규     3\n",
       "6   40대   VIP    48\n",
       "7   40대    일반    20\n",
       "8   40대    신규     1\n",
       "9   50대   VIP    48\n",
       "10  50대    일반    15\n",
       "11  50대    신규     3\n",
       "12  60대   VIP    44\n",
       "13  60대    일반     6\n",
       "14  60대    신규     4\n",
       "15  70대   VIP     6\n",
       "16  70대    일반     2\n",
       "17  70대    신규     1"
      ]
     },
     "execution_count": 14,
     "metadata": {},
     "output_type": "execute_result"
    }
   ],
   "source": [
    "customer_tier"
   ]
  },
  {
   "cell_type": "code",
   "execution_count": 15,
   "metadata": {},
   "outputs": [
    {
     "data": {
      "text/html": [
       "<div>\n",
       "<style scoped>\n",
       "    .dataframe tbody tr th:only-of-type {\n",
       "        vertical-align: middle;\n",
       "    }\n",
       "\n",
       "    .dataframe tbody tr th {\n",
       "        vertical-align: top;\n",
       "    }\n",
       "\n",
       "    .dataframe thead th {\n",
       "        text-align: right;\n",
       "    }\n",
       "</style>\n",
       "<table border=\"1\" class=\"dataframe\">\n",
       "  <thead>\n",
       "    <tr style=\"text-align: right;\">\n",
       "      <th></th>\n",
       "      <th>연령대</th>\n",
       "      <th>브랜드 충성도 지수</th>\n",
       "      <th>고객 등급</th>\n",
       "      <th>등급 수</th>\n",
       "    </tr>\n",
       "  </thead>\n",
       "  <tbody>\n",
       "    <tr>\n",
       "      <th>0</th>\n",
       "      <td>20대</td>\n",
       "      <td>0.268862</td>\n",
       "      <td>VIP</td>\n",
       "      <td>39</td>\n",
       "    </tr>\n",
       "    <tr>\n",
       "      <th>1</th>\n",
       "      <td>20대</td>\n",
       "      <td>0.268862</td>\n",
       "      <td>일반</td>\n",
       "      <td>15</td>\n",
       "    </tr>\n",
       "    <tr>\n",
       "      <th>2</th>\n",
       "      <td>20대</td>\n",
       "      <td>0.268862</td>\n",
       "      <td>신규</td>\n",
       "      <td>4</td>\n",
       "    </tr>\n",
       "    <tr>\n",
       "      <th>3</th>\n",
       "      <td>30대</td>\n",
       "      <td>0.233229</td>\n",
       "      <td>VIP</td>\n",
       "      <td>23</td>\n",
       "    </tr>\n",
       "    <tr>\n",
       "      <th>4</th>\n",
       "      <td>30대</td>\n",
       "      <td>0.233229</td>\n",
       "      <td>일반</td>\n",
       "      <td>9</td>\n",
       "    </tr>\n",
       "    <tr>\n",
       "      <th>5</th>\n",
       "      <td>30대</td>\n",
       "      <td>0.233229</td>\n",
       "      <td>신규</td>\n",
       "      <td>3</td>\n",
       "    </tr>\n",
       "    <tr>\n",
       "      <th>6</th>\n",
       "      <td>40대</td>\n",
       "      <td>0.235623</td>\n",
       "      <td>VIP</td>\n",
       "      <td>48</td>\n",
       "    </tr>\n",
       "    <tr>\n",
       "      <th>7</th>\n",
       "      <td>40대</td>\n",
       "      <td>0.235623</td>\n",
       "      <td>일반</td>\n",
       "      <td>20</td>\n",
       "    </tr>\n",
       "    <tr>\n",
       "      <th>8</th>\n",
       "      <td>40대</td>\n",
       "      <td>0.235623</td>\n",
       "      <td>신규</td>\n",
       "      <td>1</td>\n",
       "    </tr>\n",
       "    <tr>\n",
       "      <th>9</th>\n",
       "      <td>50대</td>\n",
       "      <td>0.343909</td>\n",
       "      <td>VIP</td>\n",
       "      <td>48</td>\n",
       "    </tr>\n",
       "    <tr>\n",
       "      <th>10</th>\n",
       "      <td>50대</td>\n",
       "      <td>0.343909</td>\n",
       "      <td>일반</td>\n",
       "      <td>15</td>\n",
       "    </tr>\n",
       "    <tr>\n",
       "      <th>11</th>\n",
       "      <td>50대</td>\n",
       "      <td>0.343909</td>\n",
       "      <td>신규</td>\n",
       "      <td>3</td>\n",
       "    </tr>\n",
       "    <tr>\n",
       "      <th>12</th>\n",
       "      <td>60대</td>\n",
       "      <td>0.356185</td>\n",
       "      <td>VIP</td>\n",
       "      <td>44</td>\n",
       "    </tr>\n",
       "    <tr>\n",
       "      <th>13</th>\n",
       "      <td>60대</td>\n",
       "      <td>0.356185</td>\n",
       "      <td>일반</td>\n",
       "      <td>6</td>\n",
       "    </tr>\n",
       "    <tr>\n",
       "      <th>14</th>\n",
       "      <td>60대</td>\n",
       "      <td>0.356185</td>\n",
       "      <td>신규</td>\n",
       "      <td>4</td>\n",
       "    </tr>\n",
       "    <tr>\n",
       "      <th>15</th>\n",
       "      <td>70대</td>\n",
       "      <td>0.242778</td>\n",
       "      <td>VIP</td>\n",
       "      <td>6</td>\n",
       "    </tr>\n",
       "    <tr>\n",
       "      <th>16</th>\n",
       "      <td>70대</td>\n",
       "      <td>0.242778</td>\n",
       "      <td>일반</td>\n",
       "      <td>2</td>\n",
       "    </tr>\n",
       "    <tr>\n",
       "      <th>17</th>\n",
       "      <td>70대</td>\n",
       "      <td>0.242778</td>\n",
       "      <td>신규</td>\n",
       "      <td>1</td>\n",
       "    </tr>\n",
       "  </tbody>\n",
       "</table>\n",
       "</div>"
      ],
      "text/plain": [
       "    연령대  브랜드 충성도 지수 고객 등급  등급 수\n",
       "0   20대    0.268862   VIP    39\n",
       "1   20대    0.268862    일반    15\n",
       "2   20대    0.268862    신규     4\n",
       "3   30대    0.233229   VIP    23\n",
       "4   30대    0.233229    일반     9\n",
       "5   30대    0.233229    신규     3\n",
       "6   40대    0.235623   VIP    48\n",
       "7   40대    0.235623    일반    20\n",
       "8   40대    0.235623    신규     1\n",
       "9   50대    0.343909   VIP    48\n",
       "10  50대    0.343909    일반    15\n",
       "11  50대    0.343909    신규     3\n",
       "12  60대    0.356185   VIP    44\n",
       "13  60대    0.356185    일반     6\n",
       "14  60대    0.356185    신규     4\n",
       "15  70대    0.242778   VIP     6\n",
       "16  70대    0.242778    일반     2\n",
       "17  70대    0.242778    신규     1"
      ]
     },
     "execution_count": 15,
     "metadata": {},
     "output_type": "execute_result"
    }
   ],
   "source": [
    "# avg_brand_loy 컬럼과 customer_tier 컬럼 합치기\n",
    "pd.merge(avg_brand_loy, customer_tier, on='연령대', how='left')"
   ]
  },
  {
   "cell_type": "code",
   "execution_count": 16,
   "metadata": {},
   "outputs": [],
   "source": [
    "merge_df = pd.merge(avg_brand_loy, customer_tier, on='연령대', how='left')"
   ]
  },
  {
   "cell_type": "code",
   "execution_count": 17,
   "metadata": {},
   "outputs": [
    {
     "data": {
      "text/html": [
       "<div>\n",
       "<style scoped>\n",
       "    .dataframe tbody tr th:only-of-type {\n",
       "        vertical-align: middle;\n",
       "    }\n",
       "\n",
       "    .dataframe tbody tr th {\n",
       "        vertical-align: top;\n",
       "    }\n",
       "\n",
       "    .dataframe thead th {\n",
       "        text-align: right;\n",
       "    }\n",
       "</style>\n",
       "<table border=\"1\" class=\"dataframe\">\n",
       "  <thead>\n",
       "    <tr style=\"text-align: right;\">\n",
       "      <th></th>\n",
       "      <th>연령대</th>\n",
       "      <th>브랜드 충성도 지수</th>\n",
       "      <th>고객 등급</th>\n",
       "      <th>등급 수</th>\n",
       "    </tr>\n",
       "  </thead>\n",
       "  <tbody>\n",
       "    <tr>\n",
       "      <th>0</th>\n",
       "      <td>20대</td>\n",
       "      <td>0.268862</td>\n",
       "      <td>VIP</td>\n",
       "      <td>39</td>\n",
       "    </tr>\n",
       "    <tr>\n",
       "      <th>1</th>\n",
       "      <td>20대</td>\n",
       "      <td>0.268862</td>\n",
       "      <td>일반</td>\n",
       "      <td>15</td>\n",
       "    </tr>\n",
       "    <tr>\n",
       "      <th>2</th>\n",
       "      <td>20대</td>\n",
       "      <td>0.268862</td>\n",
       "      <td>신규</td>\n",
       "      <td>4</td>\n",
       "    </tr>\n",
       "    <tr>\n",
       "      <th>3</th>\n",
       "      <td>30대</td>\n",
       "      <td>0.233229</td>\n",
       "      <td>VIP</td>\n",
       "      <td>23</td>\n",
       "    </tr>\n",
       "    <tr>\n",
       "      <th>4</th>\n",
       "      <td>30대</td>\n",
       "      <td>0.233229</td>\n",
       "      <td>일반</td>\n",
       "      <td>9</td>\n",
       "    </tr>\n",
       "    <tr>\n",
       "      <th>5</th>\n",
       "      <td>30대</td>\n",
       "      <td>0.233229</td>\n",
       "      <td>신규</td>\n",
       "      <td>3</td>\n",
       "    </tr>\n",
       "    <tr>\n",
       "      <th>6</th>\n",
       "      <td>40대</td>\n",
       "      <td>0.235623</td>\n",
       "      <td>VIP</td>\n",
       "      <td>48</td>\n",
       "    </tr>\n",
       "    <tr>\n",
       "      <th>7</th>\n",
       "      <td>40대</td>\n",
       "      <td>0.235623</td>\n",
       "      <td>일반</td>\n",
       "      <td>20</td>\n",
       "    </tr>\n",
       "    <tr>\n",
       "      <th>8</th>\n",
       "      <td>40대</td>\n",
       "      <td>0.235623</td>\n",
       "      <td>신규</td>\n",
       "      <td>1</td>\n",
       "    </tr>\n",
       "    <tr>\n",
       "      <th>9</th>\n",
       "      <td>50대</td>\n",
       "      <td>0.343909</td>\n",
       "      <td>VIP</td>\n",
       "      <td>48</td>\n",
       "    </tr>\n",
       "    <tr>\n",
       "      <th>10</th>\n",
       "      <td>50대</td>\n",
       "      <td>0.343909</td>\n",
       "      <td>일반</td>\n",
       "      <td>15</td>\n",
       "    </tr>\n",
       "    <tr>\n",
       "      <th>11</th>\n",
       "      <td>50대</td>\n",
       "      <td>0.343909</td>\n",
       "      <td>신규</td>\n",
       "      <td>3</td>\n",
       "    </tr>\n",
       "    <tr>\n",
       "      <th>12</th>\n",
       "      <td>60대</td>\n",
       "      <td>0.356185</td>\n",
       "      <td>VIP</td>\n",
       "      <td>44</td>\n",
       "    </tr>\n",
       "    <tr>\n",
       "      <th>13</th>\n",
       "      <td>60대</td>\n",
       "      <td>0.356185</td>\n",
       "      <td>일반</td>\n",
       "      <td>6</td>\n",
       "    </tr>\n",
       "    <tr>\n",
       "      <th>14</th>\n",
       "      <td>60대</td>\n",
       "      <td>0.356185</td>\n",
       "      <td>신규</td>\n",
       "      <td>4</td>\n",
       "    </tr>\n",
       "    <tr>\n",
       "      <th>15</th>\n",
       "      <td>70대</td>\n",
       "      <td>0.242778</td>\n",
       "      <td>VIP</td>\n",
       "      <td>6</td>\n",
       "    </tr>\n",
       "    <tr>\n",
       "      <th>16</th>\n",
       "      <td>70대</td>\n",
       "      <td>0.242778</td>\n",
       "      <td>일반</td>\n",
       "      <td>2</td>\n",
       "    </tr>\n",
       "    <tr>\n",
       "      <th>17</th>\n",
       "      <td>70대</td>\n",
       "      <td>0.242778</td>\n",
       "      <td>신규</td>\n",
       "      <td>1</td>\n",
       "    </tr>\n",
       "  </tbody>\n",
       "</table>\n",
       "</div>"
      ],
      "text/plain": [
       "    연령대  브랜드 충성도 지수 고객 등급  등급 수\n",
       "0   20대    0.268862   VIP    39\n",
       "1   20대    0.268862    일반    15\n",
       "2   20대    0.268862    신규     4\n",
       "3   30대    0.233229   VIP    23\n",
       "4   30대    0.233229    일반     9\n",
       "5   30대    0.233229    신규     3\n",
       "6   40대    0.235623   VIP    48\n",
       "7   40대    0.235623    일반    20\n",
       "8   40대    0.235623    신규     1\n",
       "9   50대    0.343909   VIP    48\n",
       "10  50대    0.343909    일반    15\n",
       "11  50대    0.343909    신규     3\n",
       "12  60대    0.356185   VIP    44\n",
       "13  60대    0.356185    일반     6\n",
       "14  60대    0.356185    신규     4\n",
       "15  70대    0.242778   VIP     6\n",
       "16  70대    0.242778    일반     2\n",
       "17  70대    0.242778    신규     1"
      ]
     },
     "execution_count": 17,
     "metadata": {},
     "output_type": "execute_result"
    }
   ],
   "source": [
    "merge_df"
   ]
  },
  {
   "cell_type": "code",
   "execution_count": 18,
   "metadata": {
    "id": "e6VadyKlx7FL"
   },
   "outputs": [],
   "source": [
    "# avg_brand_loy 컬럼과 customer_tier 컬럼 합치기"
   ]
  },
  {
   "cell_type": "code",
   "execution_count": 19,
   "metadata": {
    "executionInfo": {
     "elapsed": 54,
     "status": "ok",
     "timestamp": 1742176065932,
     "user": {
      "displayName": "한성현",
      "userId": "01354754736659999008"
     },
     "user_tz": -540
    },
    "id": "mqbQJM5lTfd4"
   },
   "outputs": [],
   "source": [
    "import pandas as pd\n",
    "import matplotlib.pyplot as plt\n",
    "import seaborn as sb\n",
    "import matplotlib\n",
    "\n",
    "# 한글 폰트 설정 (운영체제에 맞는 폰트를 설정)\n",
    "# matplotlib.rcParams['font.family'] = 'AppleGothic'  # Mac 사용자\n",
    "matplotlib.rcParams['font.family'] = 'Malgun Gothic'  # Windows 사용자\n",
    "# matplotlib.rcParams['font.family'] = 'NanumGothic'  # Linux 사용자\n",
    "matplotlib.rcParams['axes.unicode_minus'] = False  # 마이너스 기호 깨짐 방지"
   ]
  },
  {
   "cell_type": "code",
   "execution_count": 20,
   "metadata": {
    "id": "lsLk3U6rTfbR"
   },
   "outputs": [
    {
     "data": {
      "image/png": "[encoded data removed]",
      "text/plain": [
       "<Figure size 800x500 with 1 Axes>"
      ]
     },
     "metadata": {},
     "output_type": "display_data"
    }
   ],
   "source": [
    "# 브랜드 충성도 지수와 고객 등급 시각화하기.\n",
    "# 연령대별 브랜드 충성도 지수 시각화\n",
    "plt.figure(figsize=(8, 5))\n",
    "sb.barplot(data=merge_df, x='연령대', y='브랜드 충성도 지수', color='skyblue')\n",
    "plt.title('연령대별 브랜드 충성도 지수')\n",
    "plt.show()"
   ]
  },
  {
   "cell_type": "code",
   "execution_count": 21,
   "metadata": {
    "id": "UgeLs3ZRTfZd"
   },
   "outputs": [
    {
     "data": {
      "image/png": "[encoded data removed]",
      "text/plain": [
       "<Figure size 800x500 with 1 Axes>"
      ]
     },
     "metadata": {},
     "output_type": "display_data"
    }
   ],
   "source": [
    "# 연령대별 고객 등급 시각화\n",
    "plt.figure(figsize=(8, 5))\n",
    "sb.barplot(data=merge_df, x='연령대', y='등급 수', hue='고객 등급')\n",
    "plt.title('연령대별 고객 등급')\n",
    "plt.show()"
   ]
  },
  {
   "cell_type": "code",
   "execution_count": null,
   "metadata": {
    "id": "cgcavYVQTfWu"
   },
   "outputs": [
    {
     "data": {
      "image/png": "[encoded data removed]",
      "text/plain": [
       "<Figure size 800x500 with 2 Axes>"
      ]
     },
     "metadata": {},
     "output_type": "display_data"
    }
   ],
   "source": [
    "# 두 개의 그래프를 한 화면에 같이 출력하기\n",
    "plt.figure(figsize=(8, 5))\n",
    "plt.subplot(1, 2, 1)\n",
    "sb.barplot(data=merge_df, x='연령대', y='브랜드 충성도 지수', color='skyblue')\n",
    "plt.title('연령대별 브랜드 충성도 지수')\n",
    "plt.subplot(1, 2, 2)\n",
    "sb.barplot(data=merge_df, x='연령대', y='등급 수', hue='고객 등급')\n",
    "plt.title('연령대별 고객 등급')\n",
    "plt.show()"
   ]
  },
  {
   "cell_type": "code",
   "execution_count": null,
   "metadata": {
    "id": "uLcvp3DXTfUT"
   },
   "outputs": [],
   "source": []
  },
  {
   "cell_type": "code",
   "execution_count": null,
   "metadata": {
    "id": "Jf-CkFCGTfST"
   },
   "outputs": [],
   "source": []
  },
  {
   "cell_type": "code",
   "execution_count": null,
   "metadata": {
    "id": "m4VlIiGATfP1"
   },
   "outputs": [],
   "source": []
  },
  {
   "cell_type": "code",
   "execution_count": null,
   "metadata": {
    "id": "9aeDTqUoTfNc"
   },
   "outputs": [],
   "source": []
  },
  {
   "cell_type": "code",
   "execution_count": null,
   "metadata": {
    "id": "gJaoTwNlTfLJ"
   },
   "outputs": [],
   "source": []
  },
  {
   "cell_type": "code",
   "execution_count": null,
   "metadata": {
    "id": "69IBrz5iTfJG"
   },
   "outputs": [],
   "source": []
  },
  {
   "cell_type": "code",
   "execution_count": null,
   "metadata": {
    "id": "4SryvxbtTfGb"
   },
   "outputs": [],
   "source": []
  },
  {
   "cell_type": "code",
   "execution_count": null,
   "metadata": {
    "id": "G_-SVNxnTfEK"
   },
   "outputs": [],
   "source": []
  },
  {
   "cell_type": "code",
   "execution_count": null,
   "metadata": {
    "id": "RTzsXpG3TfBB"
   },
   "outputs": [],
   "source": []
  },
  {
   "cell_type": "code",
   "execution_count": null,
   "metadata": {
    "id": "7Xvvo7PETe--"
   },
   "outputs": [],
   "source": []
  },
  {
   "cell_type": "code",
   "execution_count": null,
   "metadata": {
    "id": "kNDHaAepTe8e"
   },
   "outputs": [],
   "source": []
  },
  {
   "cell_type": "code",
   "execution_count": null,
   "metadata": {
    "id": "_IbmhS8YTe6C"
   },
   "outputs": [],
   "source": []
  },
  {
   "cell_type": "code",
   "execution_count": null,
   "metadata": {
    "id": "8-OxZNVpTe3u"
   },
   "outputs": [],
   "source": []
  },
  {
   "cell_type": "code",
   "execution_count": null,
   "metadata": {
    "id": "3T6gEaLWTe1R"
   },
   "outputs": [],
   "source": []
  },
  {
   "cell_type": "code",
   "execution_count": null,
   "metadata": {
    "id": "wFUzZkkzTBU_"
   },
   "outputs": [],
   "source": []
  }
 ],
 "metadata": {
  "colab": {
   "authorship_tag": "ABX9TyOPITQUzrhzPhd9sZtMubb4",
   "provenance": []
  },
  "kernelspec": {
   "display_name": "hi",
   "language": "python",
   "name": "python3"
  },
  "language_info": {
   "codemirror_mode": {
    "name": "ipython",
    "version": 3
   },
   "file_extension": ".py",
   "mimetype": "text/x-python",
   "name": "python",
   "nbconvert_exporter": "python",
   "pygments_lexer": "ipython3",
   "version": "3.10.7"
  }
 },
 "nbformat": 4,
 "nbformat_minor": 0
}
