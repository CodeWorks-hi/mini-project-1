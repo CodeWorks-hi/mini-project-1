{
 "cells": [
  {
   "cell_type": "code",
   "execution_count": 53,
   "metadata": {
    "executionInfo": {
     "elapsed": 2989,
     "status": "ok",
     "timestamp": 1742183645484,
     "user": {
      "displayName": "한성현",
      "userId": "01354754736659999008"
     },
     "user_tz": -540
    },
    "id": "vjAyoL8n_bSM"
   },
   "outputs": [],
   "source": [
    "import pandas as pd, numpy as np, matplotlib.pyplot as plt, seaborn as sb"
   ]
  },
  {
   "cell_type": "code",
   "execution_count": 54,
   "metadata": {
    "colab": {
     "base_uri": "https://localhost:8080/"
    },
    "executionInfo": {
     "elapsed": 36,
     "status": "ok",
     "timestamp": 1742183646734,
     "user": {
      "displayName": "한성현",
      "userId": "01354754736659999008"
     },
     "user_tz": -540
    },
    "id": "IIErjXao_bQA",
    "outputId": "58338be8-2b50-431e-a415-d2bf70deb5e3"
   },
   "outputs": [],
   "source": [
    "%matplotlib inline\n",
    "\n",
    "import platform\n",
    "\n",
    "from matplotlib import font_manager, rc\n",
    "plt.rcParams['axes.unicode_minus'] = False\n",
    "\n",
    "if platform.system() == 'Darwin':\n",
    "    rc('font', family='AppleGothic')\n",
    "elif platform.system() == 'Windows':\n",
    "    path = \"c:/Windows/Fonts/malgun.ttf\"\n",
    "    font_name = font_manager.FontProperties(fname=path).get_name()\n",
    "    rc('font', family=font_name)\n",
    "else:\n",
    "    print('Unknown system... sorry~~~~')"
   ]
  },
  {
   "cell_type": "code",
   "execution_count": null,
   "metadata": {
    "executionInfo": {
     "elapsed": 6,
     "status": "ok",
     "timestamp": 1742183665559,
     "user": {
      "displayName": "한성현",
      "userId": "01354754736659999008"
     },
     "user_tz": -540
    },
    "id": "P_kgQtKj_bN5"
   },
   "outputs": [],
   "source": [
    "df = pd.read_csv('../data/고객db_전처리.csv')"
   ]
  },
  {
   "cell_type": "code",
   "execution_count": 56,
   "metadata": {
    "colab": {
     "base_uri": "https://localhost:8080/",
     "height": 1000
    },
    "executionInfo": {
     "elapsed": 73,
     "status": "ok",
     "timestamp": 1742183668509,
     "user": {
      "displayName": "한성현",
      "userId": "01354754736659999008"
     },
     "user_tz": -540
    },
    "id": "aoS3gtsI_bLy",
    "outputId": "4445d871-9df9-4a06-f15e-7c3425fae404"
   },
   "outputs": [
    {
     "data": {
      "text/html": [
       "<div>\n",
       "<style scoped>\n",
       "    .dataframe tbody tr th:only-of-type {\n",
       "        vertical-align: middle;\n",
       "    }\n",
       "\n",
       "    .dataframe tbody tr th {\n",
       "        vertical-align: top;\n",
       "    }\n",
       "\n",
       "    .dataframe thead th {\n",
       "        text-align: right;\n",
       "    }\n",
       "</style>\n",
       "<table border=\"1\" class=\"dataframe\">\n",
       "  <thead>\n",
       "    <tr style=\"text-align: right;\">\n",
       "      <th></th>\n",
       "      <th>연번</th>\n",
       "      <th>이름</th>\n",
       "      <th>생년월일</th>\n",
       "      <th>현재 나이</th>\n",
       "      <th>연령대</th>\n",
       "      <th>성별</th>\n",
       "      <th>휴대폰 번호</th>\n",
       "      <th>이메일</th>\n",
       "      <th>고객 구분</th>\n",
       "      <th>주소</th>\n",
       "      <th>...</th>\n",
       "      <th>최근 구매 시점</th>\n",
       "      <th>최근 구매 요일</th>\n",
       "      <th>마지막 구매 이후 경과 기간</th>\n",
       "      <th>최근 구매 당시 나이</th>\n",
       "      <th>최근 거래 금액</th>\n",
       "      <th>선호 거래 방식</th>\n",
       "      <th>선호 구매 경로</th>\n",
       "      <th>차량 구매 횟수</th>\n",
       "      <th>신차 구매 지수</th>\n",
       "      <th>브랜드 충성도 지수</th>\n",
       "    </tr>\n",
       "  </thead>\n",
       "  <tbody>\n",
       "    <tr>\n",
       "      <th>0</th>\n",
       "      <td>1</td>\n",
       "      <td>강주온</td>\n",
       "      <td>2002-03-04</td>\n",
       "      <td>23</td>\n",
       "      <td>20대</td>\n",
       "      <td>남</td>\n",
       "      <td>010-6502-8753</td>\n",
       "      <td>janisi@himedia.co.kr</td>\n",
       "      <td>법인</td>\n",
       "      <td>인천광역시 남동구 구월동 88-10</td>\n",
       "      <td>...</td>\n",
       "      <td>2분기</td>\n",
       "      <td>평일</td>\n",
       "      <td>350</td>\n",
       "      <td>22</td>\n",
       "      <td>35170000</td>\n",
       "      <td>신용카드</td>\n",
       "      <td>오프라인</td>\n",
       "      <td>1</td>\n",
       "      <td>0.002</td>\n",
       "      <td>0.135</td>\n",
       "    </tr>\n",
       "    <tr>\n",
       "      <th>1</th>\n",
       "      <td>2</td>\n",
       "      <td>김경수</td>\n",
       "      <td>1983-01-02</td>\n",
       "      <td>42</td>\n",
       "      <td>40대</td>\n",
       "      <td>남</td>\n",
       "      <td>010-1111-2222</td>\n",
       "      <td>kimkyoungsoo31@himedia.co.kr</td>\n",
       "      <td>법인</td>\n",
       "      <td>광주광역시 서구 치평동 14-7</td>\n",
       "      <td>...</td>\n",
       "      <td>1분기</td>\n",
       "      <td>평일</td>\n",
       "      <td>38</td>\n",
       "      <td>42</td>\n",
       "      <td>85790000</td>\n",
       "      <td>신용카드</td>\n",
       "      <td>오프라인</td>\n",
       "      <td>5</td>\n",
       "      <td>0.508</td>\n",
       "      <td>0.037</td>\n",
       "    </tr>\n",
       "    <tr>\n",
       "      <th>2</th>\n",
       "      <td>3</td>\n",
       "      <td>김다은</td>\n",
       "      <td>1999-05-02</td>\n",
       "      <td>26</td>\n",
       "      <td>20대</td>\n",
       "      <td>여</td>\n",
       "      <td>010-6789-0123</td>\n",
       "      <td>kimdaeun26@himedia.co.kr</td>\n",
       "      <td>법인</td>\n",
       "      <td>부산광역시 해운대구 우동 101-12</td>\n",
       "      <td>...</td>\n",
       "      <td>1분기</td>\n",
       "      <td>평일</td>\n",
       "      <td>10</td>\n",
       "      <td>26</td>\n",
       "      <td>69500000</td>\n",
       "      <td>계좌이체</td>\n",
       "      <td>오프라인</td>\n",
       "      <td>1</td>\n",
       "      <td>0.161</td>\n",
       "      <td>0.004</td>\n",
       "    </tr>\n",
       "    <tr>\n",
       "      <th>3</th>\n",
       "      <td>4</td>\n",
       "      <td>김민수</td>\n",
       "      <td>1960-07-01</td>\n",
       "      <td>65</td>\n",
       "      <td>60대</td>\n",
       "      <td>남</td>\n",
       "      <td>010-1234-5678</td>\n",
       "      <td>kimminsu1@himedia.co.kr</td>\n",
       "      <td>법인</td>\n",
       "      <td>전라남도 목포시 부주동 77-8</td>\n",
       "      <td>...</td>\n",
       "      <td>2분기</td>\n",
       "      <td>평일</td>\n",
       "      <td>689</td>\n",
       "      <td>63</td>\n",
       "      <td>34920000</td>\n",
       "      <td>현금</td>\n",
       "      <td>오프라인</td>\n",
       "      <td>1</td>\n",
       "      <td>0.002</td>\n",
       "      <td>0.130</td>\n",
       "    </tr>\n",
       "    <tr>\n",
       "      <th>4</th>\n",
       "      <td>5</td>\n",
       "      <td>김승현</td>\n",
       "      <td>1970-03-02</td>\n",
       "      <td>55</td>\n",
       "      <td>50대</td>\n",
       "      <td>남</td>\n",
       "      <td>010-0123-4567</td>\n",
       "      <td>kimseunghyun20@himedia.co.kr</td>\n",
       "      <td>법인</td>\n",
       "      <td>경기도 수원시 영통구 원천동 12-34</td>\n",
       "      <td>...</td>\n",
       "      <td>4분기</td>\n",
       "      <td>주말</td>\n",
       "      <td>536</td>\n",
       "      <td>53</td>\n",
       "      <td>50230000</td>\n",
       "      <td>신용카드</td>\n",
       "      <td>오프라인</td>\n",
       "      <td>1</td>\n",
       "      <td>0.004</td>\n",
       "      <td>0.103</td>\n",
       "    </tr>\n",
       "    <tr>\n",
       "      <th>...</th>\n",
       "      <td>...</td>\n",
       "      <td>...</td>\n",
       "      <td>...</td>\n",
       "      <td>...</td>\n",
       "      <td>...</td>\n",
       "      <td>...</td>\n",
       "      <td>...</td>\n",
       "      <td>...</td>\n",
       "      <td>...</td>\n",
       "      <td>...</td>\n",
       "      <td>...</td>\n",
       "      <td>...</td>\n",
       "      <td>...</td>\n",
       "      <td>...</td>\n",
       "      <td>...</td>\n",
       "      <td>...</td>\n",
       "      <td>...</td>\n",
       "      <td>...</td>\n",
       "      <td>...</td>\n",
       "      <td>...</td>\n",
       "      <td>...</td>\n",
       "    </tr>\n",
       "    <tr>\n",
       "      <th>286</th>\n",
       "      <td>288</td>\n",
       "      <td>신시우</td>\n",
       "      <td>1958-07-11</td>\n",
       "      <td>67</td>\n",
       "      <td>60대</td>\n",
       "      <td>여</td>\n",
       "      <td>042-207-6955</td>\n",
       "      <td>gyeonghyi78@gmail.com</td>\n",
       "      <td>개인</td>\n",
       "      <td>전라북도 전주시 완산구 덕진동 33-7</td>\n",
       "      <td>...</td>\n",
       "      <td>4분기</td>\n",
       "      <td>평일</td>\n",
       "      <td>90</td>\n",
       "      <td>66</td>\n",
       "      <td>86770000</td>\n",
       "      <td>신용카드</td>\n",
       "      <td>온라인</td>\n",
       "      <td>2</td>\n",
       "      <td>0.011</td>\n",
       "      <td>0.280</td>\n",
       "    </tr>\n",
       "    <tr>\n",
       "      <th>287</th>\n",
       "      <td>289</td>\n",
       "      <td>최춘자</td>\n",
       "      <td>1976-06-27</td>\n",
       "      <td>49</td>\n",
       "      <td>40대</td>\n",
       "      <td>여</td>\n",
       "      <td>031-170-7739</td>\n",
       "      <td>hancunja@yu.kr</td>\n",
       "      <td>개인</td>\n",
       "      <td>충청남도 천안시 동남구 성성동 22-3</td>\n",
       "      <td>...</td>\n",
       "      <td>3분기</td>\n",
       "      <td>평일</td>\n",
       "      <td>574</td>\n",
       "      <td>47</td>\n",
       "      <td>69510000</td>\n",
       "      <td>현금</td>\n",
       "      <td>오프라인</td>\n",
       "      <td>3</td>\n",
       "      <td>0.047</td>\n",
       "      <td>0.116</td>\n",
       "    </tr>\n",
       "    <tr>\n",
       "      <th>288</th>\n",
       "      <td>290</td>\n",
       "      <td>차서준</td>\n",
       "      <td>1968-01-22</td>\n",
       "      <td>57</td>\n",
       "      <td>50대</td>\n",
       "      <td>여</td>\n",
       "      <td>064-741-3740</td>\n",
       "      <td>qgim@simryujo.com</td>\n",
       "      <td>개인</td>\n",
       "      <td>경상남도 창원시 의창구 봉곡동 48-6</td>\n",
       "      <td>...</td>\n",
       "      <td>1분기</td>\n",
       "      <td>평일</td>\n",
       "      <td>433</td>\n",
       "      <td>56</td>\n",
       "      <td>39890000</td>\n",
       "      <td>계좌이체</td>\n",
       "      <td>온라인</td>\n",
       "      <td>2</td>\n",
       "      <td>0.005</td>\n",
       "      <td>0.304</td>\n",
       "    </tr>\n",
       "    <tr>\n",
       "      <th>289</th>\n",
       "      <td>291</td>\n",
       "      <td>안정희</td>\n",
       "      <td>1984-01-10</td>\n",
       "      <td>41</td>\n",
       "      <td>40대</td>\n",
       "      <td>남</td>\n",
       "      <td>051-406-1803</td>\n",
       "      <td>donghyeonbae@joyunson.com</td>\n",
       "      <td>개인</td>\n",
       "      <td>대구광역시 수성구 범어동 55-3</td>\n",
       "      <td>...</td>\n",
       "      <td>1분기</td>\n",
       "      <td>평일</td>\n",
       "      <td>415</td>\n",
       "      <td>40</td>\n",
       "      <td>44530000</td>\n",
       "      <td>현금</td>\n",
       "      <td>온라인</td>\n",
       "      <td>2</td>\n",
       "      <td>0.006</td>\n",
       "      <td>0.268</td>\n",
       "    </tr>\n",
       "    <tr>\n",
       "      <th>290</th>\n",
       "      <td>292</td>\n",
       "      <td>최민수</td>\n",
       "      <td>1960-06-24</td>\n",
       "      <td>65</td>\n",
       "      <td>60대</td>\n",
       "      <td>여</td>\n",
       "      <td>041-028-3477</td>\n",
       "      <td>ihyejin@jusighoesa.kr</td>\n",
       "      <td>개인</td>\n",
       "      <td>전라남도 목포시 부주동 77-8</td>\n",
       "      <td>...</td>\n",
       "      <td>2분기</td>\n",
       "      <td>평일</td>\n",
       "      <td>265</td>\n",
       "      <td>64</td>\n",
       "      <td>43950000</td>\n",
       "      <td>현금</td>\n",
       "      <td>오프라인</td>\n",
       "      <td>5</td>\n",
       "      <td>0.012</td>\n",
       "      <td>0.811</td>\n",
       "    </tr>\n",
       "  </tbody>\n",
       "</table>\n",
       "<p>291 rows × 32 columns</p>\n",
       "</div>"
      ],
      "text/plain": [
       "      연번   이름        생년월일  현재 나이  연령대 성별         휴대폰 번호  \\\n",
       "0      1  강주온  2002-03-04     23  20대  남  010-6502-8753   \n",
       "1      2  김경수  1983-01-02     42  40대  남  010-1111-2222   \n",
       "2      3  김다은  1999-05-02     26  20대  여  010-6789-0123   \n",
       "3      4  김민수  1960-07-01     65  60대  남  010-1234-5678   \n",
       "4      5  김승현  1970-03-02     55  50대  남  010-0123-4567   \n",
       "..   ...  ...         ...    ...  ... ..            ...   \n",
       "286  288  신시우  1958-07-11     67  60대  여   042-207-6955   \n",
       "287  289  최춘자  1976-06-27     49  40대  여   031-170-7739   \n",
       "288  290  차서준  1968-01-22     57  50대  여   064-741-3740   \n",
       "289  291  안정희  1984-01-10     41  40대  남   051-406-1803   \n",
       "290  292  최민수  1960-06-24     65  60대  여   041-028-3477   \n",
       "\n",
       "                              이메일 고객 구분                     주소  ... 최근 구매 시점  \\\n",
       "0            janisi@himedia.co.kr    법인    인천광역시 남동구 구월동 88-10  ...      2분기   \n",
       "1    kimkyoungsoo31@himedia.co.kr    법인      광주광역시 서구 치평동 14-7  ...      1분기   \n",
       "2        kimdaeun26@himedia.co.kr    법인   부산광역시 해운대구 우동 101-12  ...      1분기   \n",
       "3         kimminsu1@himedia.co.kr    법인      전라남도 목포시 부주동 77-8  ...      2분기   \n",
       "4    kimseunghyun20@himedia.co.kr    법인  경기도 수원시 영통구 원천동 12-34  ...      4분기   \n",
       "..                            ...   ...                    ...  ...      ...   \n",
       "286         gyeonghyi78@gmail.com    개인  전라북도 전주시 완산구 덕진동 33-7  ...      4분기   \n",
       "287                hancunja@yu.kr    개인  충청남도 천안시 동남구 성성동 22-3  ...      3분기   \n",
       "288             qgim@simryujo.com    개인  경상남도 창원시 의창구 봉곡동 48-6  ...      1분기   \n",
       "289     donghyeonbae@joyunson.com    개인     대구광역시 수성구 범어동 55-3  ...      1분기   \n",
       "290         ihyejin@jusighoesa.kr    개인      전라남도 목포시 부주동 77-8  ...      2분기   \n",
       "\n",
       "     최근 구매 요일 마지막 구매 이후 경과 기간 최근 구매 당시 나이  최근 거래 금액 선호 거래 방식 선호 구매 경로  \\\n",
       "0          평일             350          22  35170000     신용카드     오프라인   \n",
       "1          평일              38          42  85790000     신용카드     오프라인   \n",
       "2          평일              10          26  69500000     계좌이체     오프라인   \n",
       "3          평일             689          63  34920000       현금     오프라인   \n",
       "4          주말             536          53  50230000     신용카드     오프라인   \n",
       "..        ...             ...         ...       ...      ...      ...   \n",
       "286        평일              90          66  86770000     신용카드      온라인   \n",
       "287        평일             574          47  69510000       현금     오프라인   \n",
       "288        평일             433          56  39890000     계좌이체      온라인   \n",
       "289        평일             415          40  44530000       현금      온라인   \n",
       "290        평일             265          64  43950000       현금     오프라인   \n",
       "\n",
       "    차량 구매 횟수 신차 구매 지수 브랜드 충성도 지수  \n",
       "0          1    0.002      0.135  \n",
       "1          5    0.508      0.037  \n",
       "2          1    0.161      0.004  \n",
       "3          1    0.002      0.130  \n",
       "4          1    0.004      0.103  \n",
       "..       ...      ...        ...  \n",
       "286        2    0.011      0.280  \n",
       "287        3    0.047      0.116  \n",
       "288        2    0.005      0.304  \n",
       "289        2    0.006      0.268  \n",
       "290        5    0.012      0.811  \n",
       "\n",
       "[291 rows x 32 columns]"
      ]
     },
     "execution_count": 56,
     "metadata": {},
     "output_type": "execute_result"
    }
   ],
   "source": [
    "df"
   ]
  },
  {
   "cell_type": "code",
   "execution_count": 57,
   "metadata": {
    "colab": {
     "base_uri": "https://localhost:8080/",
     "height": 423
    },
    "executionInfo": {
     "elapsed": 94,
     "status": "ok",
     "timestamp": 1742183674501,
     "user": {
      "displayName": "한성현",
      "userId": "01354754736659999008"
     },
     "user_tz": -540
    },
    "id": "UhgGewwt_bJx",
    "outputId": "4f33c6de-4bf2-44ea-fa63-459f8fad55bc"
   },
   "outputs": [
    {
     "data": {
      "text/html": [
       "<div>\n",
       "<style scoped>\n",
       "    .dataframe tbody tr th:only-of-type {\n",
       "        vertical-align: middle;\n",
       "    }\n",
       "\n",
       "    .dataframe tbody tr th {\n",
       "        vertical-align: top;\n",
       "    }\n",
       "\n",
       "    .dataframe thead th {\n",
       "        text-align: right;\n",
       "    }\n",
       "</style>\n",
       "<table border=\"1\" class=\"dataframe\">\n",
       "  <thead>\n",
       "    <tr style=\"text-align: right;\">\n",
       "      <th></th>\n",
       "      <th>선호 거래 방식</th>\n",
       "      <th>선호 구매 경로</th>\n",
       "    </tr>\n",
       "  </thead>\n",
       "  <tbody>\n",
       "    <tr>\n",
       "      <th>0</th>\n",
       "      <td>신용카드</td>\n",
       "      <td>오프라인</td>\n",
       "    </tr>\n",
       "    <tr>\n",
       "      <th>1</th>\n",
       "      <td>신용카드</td>\n",
       "      <td>오프라인</td>\n",
       "    </tr>\n",
       "    <tr>\n",
       "      <th>2</th>\n",
       "      <td>계좌이체</td>\n",
       "      <td>오프라인</td>\n",
       "    </tr>\n",
       "    <tr>\n",
       "      <th>3</th>\n",
       "      <td>현금</td>\n",
       "      <td>오프라인</td>\n",
       "    </tr>\n",
       "    <tr>\n",
       "      <th>4</th>\n",
       "      <td>신용카드</td>\n",
       "      <td>오프라인</td>\n",
       "    </tr>\n",
       "    <tr>\n",
       "      <th>...</th>\n",
       "      <td>...</td>\n",
       "      <td>...</td>\n",
       "    </tr>\n",
       "    <tr>\n",
       "      <th>286</th>\n",
       "      <td>신용카드</td>\n",
       "      <td>온라인</td>\n",
       "    </tr>\n",
       "    <tr>\n",
       "      <th>287</th>\n",
       "      <td>현금</td>\n",
       "      <td>오프라인</td>\n",
       "    </tr>\n",
       "    <tr>\n",
       "      <th>288</th>\n",
       "      <td>계좌이체</td>\n",
       "      <td>온라인</td>\n",
       "    </tr>\n",
       "    <tr>\n",
       "      <th>289</th>\n",
       "      <td>현금</td>\n",
       "      <td>온라인</td>\n",
       "    </tr>\n",
       "    <tr>\n",
       "      <th>290</th>\n",
       "      <td>현금</td>\n",
       "      <td>오프라인</td>\n",
       "    </tr>\n",
       "  </tbody>\n",
       "</table>\n",
       "<p>291 rows × 2 columns</p>\n",
       "</div>"
      ],
      "text/plain": [
       "    선호 거래 방식 선호 구매 경로\n",
       "0       신용카드     오프라인\n",
       "1       신용카드     오프라인\n",
       "2       계좌이체     오프라인\n",
       "3         현금     오프라인\n",
       "4       신용카드     오프라인\n",
       "..       ...      ...\n",
       "286     신용카드      온라인\n",
       "287       현금     오프라인\n",
       "288     계좌이체      온라인\n",
       "289       현금      온라인\n",
       "290       현금     오프라인\n",
       "\n",
       "[291 rows x 2 columns]"
      ]
     },
     "execution_count": 57,
     "metadata": {},
     "output_type": "execute_result"
    }
   ],
   "source": [
    "# 필요 컬럼만 추출\n",
    "df[['선호 거래 방식', '선호 구매 경로']]"
   ]
  },
  {
   "cell_type": "code",
   "execution_count": 58,
   "metadata": {
    "executionInfo": {
     "elapsed": 2,
     "status": "ok",
     "timestamp": 1742183678390,
     "user": {
      "displayName": "한성현",
      "userId": "01354754736659999008"
     },
     "user_tz": -540
    },
    "id": "iF3TcFEM_bHe"
   },
   "outputs": [],
   "source": [
    "result = df[['선호 거래 방식', '선호 구매 경로']]"
   ]
  },
  {
   "cell_type": "code",
   "execution_count": 59,
   "metadata": {
    "colab": {
     "base_uri": "https://localhost:8080/"
    },
    "executionInfo": {
     "elapsed": 51,
     "status": "ok",
     "timestamp": 1742183679728,
     "user": {
      "displayName": "한성현",
      "userId": "01354754736659999008"
     },
     "user_tz": -540
    },
    "id": "IgZyMKaF_bEx",
    "outputId": "4ed19689-9df0-48c4-dd23-53103988cc23"
   },
   "outputs": [
    {
     "data": {
      "text/plain": [
       "<pandas.core.groupby.generic.SeriesGroupBy object at 0x0000026349249990>"
      ]
     },
     "execution_count": 59,
     "metadata": {},
     "output_type": "execute_result"
    }
   ],
   "source": [
    "df.groupby(['선호 거래 방식'])['선호 구매 경로']"
   ]
  },
  {
   "cell_type": "code",
   "execution_count": 60,
   "metadata": {
    "executionInfo": {
     "elapsed": 6,
     "status": "ok",
     "timestamp": 1742184226945,
     "user": {
      "displayName": "한성현",
      "userId": "01354754736659999008"
     },
     "user_tz": -540
    },
    "id": "onxdv3Cf_bCc"
   },
   "outputs": [],
   "source": [
    "# groupby 하고 count() 한 뒤 reset_index() 하여 데이터프레임으로 변환환\n",
    "result1 = df['선호 거래 방식'].value_counts().reset_index()"
   ]
  },
  {
   "cell_type": "code",
   "execution_count": 61,
   "metadata": {
    "executionInfo": {
     "elapsed": 43,
     "status": "ok",
     "timestamp": 1742184237241,
     "user": {
      "displayName": "한성현",
      "userId": "01354754736659999008"
     },
     "user_tz": -540
    },
    "id": "HL-DNbk_MXNd"
   },
   "outputs": [],
   "source": [
    "result2 = df['선호 구매 경로'].value_counts().reset_index()"
   ]
  },
  {
   "cell_type": "code",
   "execution_count": 62,
   "metadata": {
    "colab": {
     "base_uri": "https://localhost:8080/",
     "height": 143
    },
    "executionInfo": {
     "elapsed": 40,
     "status": "ok",
     "timestamp": 1742184244153,
     "user": {
      "displayName": "한성현",
      "userId": "01354754736659999008"
     },
     "user_tz": -540
    },
    "id": "wgu9yLFiMXF0",
    "outputId": "9c99a717-6d01-47a1-fd57-2ef4505b251e"
   },
   "outputs": [
    {
     "data": {
      "text/html": [
       "<div>\n",
       "<style scoped>\n",
       "    .dataframe tbody tr th:only-of-type {\n",
       "        vertical-align: middle;\n",
       "    }\n",
       "\n",
       "    .dataframe tbody tr th {\n",
       "        vertical-align: top;\n",
       "    }\n",
       "\n",
       "    .dataframe thead th {\n",
       "        text-align: right;\n",
       "    }\n",
       "</style>\n",
       "<table border=\"1\" class=\"dataframe\">\n",
       "  <thead>\n",
       "    <tr style=\"text-align: right;\">\n",
       "      <th></th>\n",
       "      <th>선호 거래 방식</th>\n",
       "      <th>count</th>\n",
       "    </tr>\n",
       "  </thead>\n",
       "  <tbody>\n",
       "    <tr>\n",
       "      <th>0</th>\n",
       "      <td>신용카드</td>\n",
       "      <td>114</td>\n",
       "    </tr>\n",
       "    <tr>\n",
       "      <th>1</th>\n",
       "      <td>현금</td>\n",
       "      <td>94</td>\n",
       "    </tr>\n",
       "    <tr>\n",
       "      <th>2</th>\n",
       "      <td>계좌이체</td>\n",
       "      <td>83</td>\n",
       "    </tr>\n",
       "  </tbody>\n",
       "</table>\n",
       "</div>"
      ],
      "text/plain": [
       "  선호 거래 방식  count\n",
       "0     신용카드    114\n",
       "1       현금     94\n",
       "2     계좌이체     83"
      ]
     },
     "execution_count": 62,
     "metadata": {},
     "output_type": "execute_result"
    }
   ],
   "source": [
    "result1"
   ]
  },
  {
   "cell_type": "code",
   "execution_count": 63,
   "metadata": {
    "colab": {
     "base_uri": "https://localhost:8080/",
     "height": 125
    },
    "executionInfo": {
     "elapsed": 39,
     "status": "ok",
     "timestamp": 1742184246600,
     "user": {
      "displayName": "한성현",
      "userId": "01354754736659999008"
     },
     "user_tz": -540
    },
    "id": "U6-LBwtMMXEK",
    "outputId": "a75e49f7-130d-49aa-e28a-4ee2281872b5"
   },
   "outputs": [
    {
     "data": {
      "text/html": [
       "<div>\n",
       "<style scoped>\n",
       "    .dataframe tbody tr th:only-of-type {\n",
       "        vertical-align: middle;\n",
       "    }\n",
       "\n",
       "    .dataframe tbody tr th {\n",
       "        vertical-align: top;\n",
       "    }\n",
       "\n",
       "    .dataframe thead th {\n",
       "        text-align: right;\n",
       "    }\n",
       "</style>\n",
       "<table border=\"1\" class=\"dataframe\">\n",
       "  <thead>\n",
       "    <tr style=\"text-align: right;\">\n",
       "      <th></th>\n",
       "      <th>선호 구매 경로</th>\n",
       "      <th>count</th>\n",
       "    </tr>\n",
       "  </thead>\n",
       "  <tbody>\n",
       "    <tr>\n",
       "      <th>0</th>\n",
       "      <td>오프라인</td>\n",
       "      <td>157</td>\n",
       "    </tr>\n",
       "    <tr>\n",
       "      <th>1</th>\n",
       "      <td>온라인</td>\n",
       "      <td>134</td>\n",
       "    </tr>\n",
       "  </tbody>\n",
       "</table>\n",
       "</div>"
      ],
      "text/plain": [
       "  선호 구매 경로  count\n",
       "0     오프라인    157\n",
       "1      온라인    134"
      ]
     },
     "execution_count": 63,
     "metadata": {},
     "output_type": "execute_result"
    }
   ],
   "source": [
    "result2"
   ]
  },
  {
   "cell_type": "code",
   "execution_count": 64,
   "metadata": {
    "executionInfo": {
     "elapsed": 3,
     "status": "ok",
     "timestamp": 1742184267810,
     "user": {
      "displayName": "한성현",
      "userId": "01354754736659999008"
     },
     "user_tz": -540
    },
    "id": "ddLs4dWiMXBN"
   },
   "outputs": [],
   "source": [
    "# count 컬럼명을 '거래 수', '구매 수' 컬럼 명으로 각 각 변경\n",
    "result1 = result1.rename(columns={'count' : '거래 수'})"
   ]
  },
  {
   "cell_type": "code",
   "execution_count": 65,
   "metadata": {
    "colab": {
     "base_uri": "https://localhost:8080/",
     "height": 143
    },
    "executionInfo": {
     "elapsed": 53,
     "status": "ok",
     "timestamp": 1742184275145,
     "user": {
      "displayName": "한성현",
      "userId": "01354754736659999008"
     },
     "user_tz": -540
    },
    "id": "tFP5qc_yMW_X",
    "outputId": "84aa3c05-13ff-4457-b390-9790d180deaa"
   },
   "outputs": [
    {
     "data": {
      "text/html": [
       "<div>\n",
       "<style scoped>\n",
       "    .dataframe tbody tr th:only-of-type {\n",
       "        vertical-align: middle;\n",
       "    }\n",
       "\n",
       "    .dataframe tbody tr th {\n",
       "        vertical-align: top;\n",
       "    }\n",
       "\n",
       "    .dataframe thead th {\n",
       "        text-align: right;\n",
       "    }\n",
       "</style>\n",
       "<table border=\"1\" class=\"dataframe\">\n",
       "  <thead>\n",
       "    <tr style=\"text-align: right;\">\n",
       "      <th></th>\n",
       "      <th>선호 거래 방식</th>\n",
       "      <th>거래 수</th>\n",
       "    </tr>\n",
       "  </thead>\n",
       "  <tbody>\n",
       "    <tr>\n",
       "      <th>0</th>\n",
       "      <td>신용카드</td>\n",
       "      <td>114</td>\n",
       "    </tr>\n",
       "    <tr>\n",
       "      <th>1</th>\n",
       "      <td>현금</td>\n",
       "      <td>94</td>\n",
       "    </tr>\n",
       "    <tr>\n",
       "      <th>2</th>\n",
       "      <td>계좌이체</td>\n",
       "      <td>83</td>\n",
       "    </tr>\n",
       "  </tbody>\n",
       "</table>\n",
       "</div>"
      ],
      "text/plain": [
       "  선호 거래 방식  거래 수\n",
       "0     신용카드   114\n",
       "1       현금    94\n",
       "2     계좌이체    83"
      ]
     },
     "execution_count": 65,
     "metadata": {},
     "output_type": "execute_result"
    }
   ],
   "source": [
    "result1"
   ]
  },
  {
   "cell_type": "code",
   "execution_count": 66,
   "metadata": {
    "executionInfo": {
     "elapsed": 3,
     "status": "ok",
     "timestamp": 1742184310976,
     "user": {
      "displayName": "한성현",
      "userId": "01354754736659999008"
     },
     "user_tz": -540
    },
    "id": "5ehPdqbAMW8v"
   },
   "outputs": [],
   "source": [
    "result2 = result2.rename(columns={'count' : '구매 수'})"
   ]
  },
  {
   "cell_type": "code",
   "execution_count": 67,
   "metadata": {
    "colab": {
     "base_uri": "https://localhost:8080/",
     "height": 125
    },
    "executionInfo": {
     "elapsed": 61,
     "status": "ok",
     "timestamp": 1742184314219,
     "user": {
      "displayName": "한성현",
      "userId": "01354754736659999008"
     },
     "user_tz": -540
    },
    "id": "L0Kk8EzSMW5c",
    "outputId": "5450da2c-0d9b-4800-c74c-e703d0a6c6e3"
   },
   "outputs": [
    {
     "data": {
      "text/html": [
       "<div>\n",
       "<style scoped>\n",
       "    .dataframe tbody tr th:only-of-type {\n",
       "        vertical-align: middle;\n",
       "    }\n",
       "\n",
       "    .dataframe tbody tr th {\n",
       "        vertical-align: top;\n",
       "    }\n",
       "\n",
       "    .dataframe thead th {\n",
       "        text-align: right;\n",
       "    }\n",
       "</style>\n",
       "<table border=\"1\" class=\"dataframe\">\n",
       "  <thead>\n",
       "    <tr style=\"text-align: right;\">\n",
       "      <th></th>\n",
       "      <th>선호 구매 경로</th>\n",
       "      <th>구매 수</th>\n",
       "    </tr>\n",
       "  </thead>\n",
       "  <tbody>\n",
       "    <tr>\n",
       "      <th>0</th>\n",
       "      <td>오프라인</td>\n",
       "      <td>157</td>\n",
       "    </tr>\n",
       "    <tr>\n",
       "      <th>1</th>\n",
       "      <td>온라인</td>\n",
       "      <td>134</td>\n",
       "    </tr>\n",
       "  </tbody>\n",
       "</table>\n",
       "</div>"
      ],
      "text/plain": [
       "  선호 구매 경로  구매 수\n",
       "0     오프라인   157\n",
       "1      온라인   134"
      ]
     },
     "execution_count": 67,
     "metadata": {},
     "output_type": "execute_result"
    }
   ],
   "source": [
    "result2"
   ]
  },
  {
   "cell_type": "code",
   "execution_count": null,
   "metadata": {
    "id": "D7Wjd-D1MWuo"
   },
   "outputs": [],
   "source": []
  },
  {
   "cell_type": "code",
   "execution_count": 94,
   "metadata": {
    "executionInfo": {
     "elapsed": 40,
     "status": "ok",
     "timestamp": 1742184846359,
     "user": {
      "displayName": "한성현",
      "userId": "01354754736659999008"
     },
     "user_tz": -540
    },
    "id": "7b_lZ3aE_av1"
   },
   "outputs": [],
   "source": [
    "import pandas as pd\n",
    "import matplotlib.pyplot as plt\n",
    "import seaborn as sb\n",
    "import matplotlib\n",
    "\n",
    "# 한글 폰트 설정 (운영체제에 맞는 폰트를 설정)\n",
    "# matplotlib.rcParams['font.family'] = 'AppleGothic'  # Mac 사용자\n",
    "matplotlib.rcParams['font.family'] = 'Malgun Gothic'  # Windows 사용자\n",
    "# matplotlib.rcParams['font.family'] = 'NanumGothic'  # Linux 사용자\n",
    "matplotlib.rcParams['axes.unicode_minus'] = False  # 마이너스 기호 깨짐 방지"
   ]
  },
  {
   "cell_type": "code",
   "execution_count": 95,
   "metadata": {
    "id": "zaRDdDuY_atz"
   },
   "outputs": [],
   "source": [
    "# 거래방식과 구매경로 시각화 하기\n",
    "# 1. 거래 방식 시각화"
   ]
  },
  {
   "cell_type": "code",
   "execution_count": 130,
   "metadata": {
    "id": "a0j93Bik_arM"
   },
   "outputs": [
    {
     "data": {
      "image/png": "[encoded data removed]",
      "text/plain": [
       "<Figure size 800x500 with 1 Axes>"
      ]
     },
     "metadata": {},
     "output_type": "display_data"
    }
   ],
   "source": [
    "plt.figure(figsize=(8, 5))\n",
    "sb.countplot(data=df, x='선호 거래 방식', hue= '선호 거래 방식', palette='Set3', legend=False)\n",
    "plt.title('선호 거래 방식')\n",
    "plt.show()"
   ]
  },
  {
   "cell_type": "code",
   "execution_count": 97,
   "metadata": {
    "id": "XyJbRWt3_apJ"
   },
   "outputs": [],
   "source": [
    "# 2. 구매 경로 시각화"
   ]
  },
  {
   "cell_type": "code",
   "execution_count": 131,
   "metadata": {
    "id": "vQcs5z9b_amE"
   },
   "outputs": [
    {
     "data": {
      "image/png": "[encoded data removed]",
      "text/plain": [
       "<Figure size 800x500 with 1 Axes>"
      ]
     },
     "metadata": {},
     "output_type": "display_data"
    }
   ],
   "source": [
    "plt.figure(figsize=(8, 5))\n",
    "sb.countplot(data=df, x='선호 구매 경로', hue='선호 구매 경로', palette='Set3', legend=False)\n",
    "plt.title('선호 구매 경로')\n",
    "plt.show()"
   ]
  },
  {
   "cell_type": "code",
   "execution_count": 99,
   "metadata": {},
   "outputs": [],
   "source": [
    "import matplotlib.pyplot as plt\n",
    "import seaborn as sb"
   ]
  },
  {
   "cell_type": "code",
   "execution_count": 129,
   "metadata": {
    "id": "JaVDLLbn_aO2"
   },
   "outputs": [
    {
     "data": {
      "image/png": "[encoded data removed]",
      "text/plain": [
       "<Figure size 1200x500 with 2 Axes>"
      ]
     },
     "metadata": {},
     "output_type": "display_data"
    }
   ],
   "source": [
    "# 시각화한두 개의 그래프를 한 화면에 같이 출력하기\n",
    "plt.figure(figsize=(12, 5))\n",
    "plt.subplot(1, 2, 1)\n",
    "sb.countplot(data=df, x='선호 거래 방식', hue= '선호 거래 방식', palette='Set3', legend=False)\n",
    "plt.title('선호 거래 방식')\n",
    "plt.subplot(1, 2, 2)\n",
    "sb.countplot(data=df, x='선호 구매 경로', hue= '선호 구매 경로', palette='Set3', legend=False)\n",
    "plt.title('선호 구매 경로')\n",
    "plt.show()"
   ]
  },
  {
   "cell_type": "code",
   "execution_count": null,
   "metadata": {
    "id": "Gc4si4Bm_aMk"
   },
   "outputs": [],
   "source": []
  },
  {
   "cell_type": "code",
   "execution_count": null,
   "metadata": {
    "id": "Z1ezLnuG_aKA"
   },
   "outputs": [],
   "source": []
  },
  {
   "cell_type": "code",
   "execution_count": null,
   "metadata": {
    "id": "Q4IQ3tCG_aHY"
   },
   "outputs": [],
   "source": []
  },
  {
   "cell_type": "code",
   "execution_count": null,
   "metadata": {
    "id": "sUU7K3VR_aE3"
   },
   "outputs": [],
   "source": []
  },
  {
   "cell_type": "code",
   "execution_count": null,
   "metadata": {
    "id": "f8dvNSo1_aCh"
   },
   "outputs": [],
   "source": []
  },
  {
   "cell_type": "code",
   "execution_count": null,
   "metadata": {
    "id": "ZkpJm-r-_aAG"
   },
   "outputs": [],
   "source": []
  },
  {
   "cell_type": "code",
   "execution_count": null,
   "metadata": {
    "id": "nCbl0Eah_Z9Y"
   },
   "outputs": [],
   "source": []
  },
  {
   "cell_type": "code",
   "execution_count": null,
   "metadata": {
    "id": "6emLGpjb_Z7I"
   },
   "outputs": [],
   "source": []
  },
  {
   "cell_type": "code",
   "execution_count": null,
   "metadata": {
    "id": "0mU4UWZ__Z4j"
   },
   "outputs": [],
   "source": []
  },
  {
   "cell_type": "code",
   "execution_count": null,
   "metadata": {
    "id": "CuRIS4ve_Wnj"
   },
   "outputs": [],
   "source": []
  }
 ],
 "metadata": {
  "colab": {
   "authorship_tag": "ABX9TyO4mu2gr28Yg7mzgtMJ7zGV",
   "provenance": []
  },
  "kernelspec": {
   "display_name": "hi",
   "language": "python",
   "name": "python3"
  },
  "language_info": {
   "codemirror_mode": {
    "name": "ipython",
    "version": 3
   },
   "file_extension": ".py",
   "mimetype": "text/x-python",
   "name": "python",
   "nbconvert_exporter": "python",
   "pygments_lexer": "ipython3",
   "version": "3.10.7"
  }
 },
 "nbformat": 4,
 "nbformat_minor": 0
}
