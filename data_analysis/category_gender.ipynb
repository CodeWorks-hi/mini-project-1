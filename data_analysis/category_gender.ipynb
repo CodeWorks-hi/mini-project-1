{
 "cells": [
  {
   "cell_type": "code",
   "execution_count": 2,
   "metadata": {},
   "outputs": [],
   "source": [
    "import pandas as pd"
   ]
  },
  {
   "cell_type": "code",
   "execution_count": 3,
   "metadata": {},
   "outputs": [],
   "source": [
    "import matplotlib.pyplot as plt\n",
    "import seaborn as sb\n",
    "\n",
    "import platform\n",
    "\n",
    "from matplotlib import font_manager, rc\n",
    "plt.rcParams['axes.unicode_minus'] = False\n",
    "\n",
    "if platform.system() == 'Darwin':\n",
    "    rc('font', family='AppleGothic')\n",
    "elif platform.system() == 'Windows':\n",
    "    path = \"c:/Windows/Fonts/malgun.ttf\"\n",
    "    font_name = font_manager.FontProperties(fname=path).get_name()\n",
    "    rc('font', family=font_name)\n",
    "else:\n",
    "    print('Unknown system... sorry~~~~')"
   ]
  },
  {
   "cell_type": "code",
   "execution_count": 4,
   "metadata": {},
   "outputs": [],
   "source": [
    "df=pd.read_csv(\"../data/고객db_전처리.csv\",index_col=0)"
   ]
  },
  {
   "cell_type": "code",
   "execution_count": 5,
   "metadata": {},
   "outputs": [
    {
     "data": {
      "application/vnd.microsoft.datawrangler.viewer.v0+json": {
       "columns": [
        {
         "name": "연번",
         "rawType": "int64",
         "type": "integer"
        },
        {
         "name": "이름",
         "rawType": "object",
         "type": "string"
        },
        {
         "name": "생년월일",
         "rawType": "object",
         "type": "string"
        },
        {
         "name": "현재 나이",
         "rawType": "int64",
         "type": "integer"
        },
        {
         "name": "연령대",
         "rawType": "object",
         "type": "string"
        },
        {
         "name": "성별",
         "rawType": "object",
         "type": "string"
        },
        {
         "name": "휴대폰 번호",
         "rawType": "object",
         "type": "string"
        },
        {
         "name": "이메일",
         "rawType": "object",
         "type": "string"
        },
        {
         "name": "고객 구분",
         "rawType": "object",
         "type": "string"
        },
        {
         "name": "아이디",
         "rawType": "object",
         "type": "string"
        },
        {
         "name": "가입일",
         "rawType": "object",
         "type": "string"
        },
        {
         "name": "가입 이후 경과 기간",
         "rawType": "int64",
         "type": "integer"
        },
        {
         "name": "주소",
         "rawType": "object",
         "type": "string"
        },
        {
         "name": "거주 지역",
         "rawType": "object",
         "type": "string"
        },
        {
         "name": "인구 밀도",
         "rawType": "int64",
         "type": "integer"
        },
        {
         "name": "GDP (조 원)",
         "rawType": "int64",
         "type": "integer"
        },
        {
         "name": "1인당 GDP (만 원)",
         "rawType": "int64",
         "type": "integer"
        },
        {
         "name": "고객 등급",
         "rawType": "object",
         "type": "string"
        },
        {
         "name": "회원가입 이후 구매 이력",
         "rawType": "object",
         "type": "string"
        },
        {
         "name": "최근 구매 제품",
         "rawType": "object",
         "type": "string"
        },
        {
         "name": "차량 사이즈",
         "rawType": "object",
         "type": "string"
        },
        {
         "name": "차량 유형",
         "rawType": "object",
         "type": "string"
        },
        {
         "name": "연료 구분",
         "rawType": "object",
         "type": "string"
        },
        {
         "name": "최근 구매 날짜",
         "rawType": "object",
         "type": "string"
        },
        {
         "name": "최근 구매 연도",
         "rawType": "int64",
         "type": "integer"
        },
        {
         "name": "최근 구매 시점",
         "rawType": "object",
         "type": "string"
        },
        {
         "name": "최근 구매 요일",
         "rawType": "object",
         "type": "string"
        },
        {
         "name": "마지막 구매 이후 경과 기간",
         "rawType": "int64",
         "type": "integer"
        },
        {
         "name": "최근 구매 당시 나이",
         "rawType": "int64",
         "type": "integer"
        },
        {
         "name": "최근 거래 금액",
         "rawType": "int64",
         "type": "integer"
        },
        {
         "name": "선호 거래 방식",
         "rawType": "object",
         "type": "string"
        },
        {
         "name": "선호 구매 경로",
         "rawType": "object",
         "type": "string"
        },
        {
         "name": "차량 구매 횟수",
         "rawType": "int64",
         "type": "integer"
        },
        {
         "name": "신차 구매 지수",
         "rawType": "float64",
         "type": "float"
        },
        {
         "name": "브랜드 충성도 지수",
         "rawType": "float64",
         "type": "float"
        }
       ],
       "conversionMethod": "pd.DataFrame",
       "ref": "3f600d4c-285b-476f-a40c-a010ace86488",
       "rows": [
        [
         "1",
         "강주온",
         "2002-03-04",
         "23",
         "20대 중반",
         "남",
         "010-6502-8753",
         "janisi@himedia.co.kr",
         "법인",
         "14798",
         "2023-04-01",
         "719",
         "인천광역시 남동구 구월동 88-10",
         "인천광역시",
         "2820",
         "117",
         "3000",
         "일반",
         "O",
         "Avante (CN7 N)",
         "준중형",
         "세단",
         "휘발유",
         "2024-04-04",
         "2024",
         "2분기",
         "평일",
         "350",
         "22",
         "35490000",
         "신용카드",
         "오프라인",
         "1",
         "0.002",
         "0.135"
        ],
        [
         "2",
         "김경수",
         "1983-01-02",
         "42",
         "40대 초반",
         "남",
         "010-1111-2222",
         "kimkyoungsoo31@himedia.co.kr",
         "법인",
         "kyoungsoo031",
         "2025-02-09",
         "39",
         "광주광역시 서구 치평동 14-7",
         "광주광역시",
         "2921",
         "52",
         "3090",
         "VIP",
         "O",
         "G80 (RG3)",
         "대형",
         "세단",
         "휘발유",
         "2025-02-10",
         "2025",
         "1분기",
         "평일",
         "38",
         "42",
         "84980000",
         "신용카드",
         "오프라인",
         "5",
         "0.508",
         "0.037"
        ]
       ],
       "shape": {
        "columns": 34,
        "rows": 2
       }
      },
      "text/html": [
       "<div>\n",
       "<style scoped>\n",
       "    .dataframe tbody tr th:only-of-type {\n",
       "        vertical-align: middle;\n",
       "    }\n",
       "\n",
       "    .dataframe tbody tr th {\n",
       "        vertical-align: top;\n",
       "    }\n",
       "\n",
       "    .dataframe thead th {\n",
       "        text-align: right;\n",
       "    }\n",
       "</style>\n",
       "<table border=\"1\" class=\"dataframe\">\n",
       "  <thead>\n",
       "    <tr style=\"text-align: right;\">\n",
       "      <th></th>\n",
       "      <th>이름</th>\n",
       "      <th>생년월일</th>\n",
       "      <th>현재 나이</th>\n",
       "      <th>연령대</th>\n",
       "      <th>성별</th>\n",
       "      <th>휴대폰 번호</th>\n",
       "      <th>이메일</th>\n",
       "      <th>고객 구분</th>\n",
       "      <th>아이디</th>\n",
       "      <th>가입일</th>\n",
       "      <th>...</th>\n",
       "      <th>최근 구매 시점</th>\n",
       "      <th>최근 구매 요일</th>\n",
       "      <th>마지막 구매 이후 경과 기간</th>\n",
       "      <th>최근 구매 당시 나이</th>\n",
       "      <th>최근 거래 금액</th>\n",
       "      <th>선호 거래 방식</th>\n",
       "      <th>선호 구매 경로</th>\n",
       "      <th>차량 구매 횟수</th>\n",
       "      <th>신차 구매 지수</th>\n",
       "      <th>브랜드 충성도 지수</th>\n",
       "    </tr>\n",
       "    <tr>\n",
       "      <th>연번</th>\n",
       "      <th></th>\n",
       "      <th></th>\n",
       "      <th></th>\n",
       "      <th></th>\n",
       "      <th></th>\n",
       "      <th></th>\n",
       "      <th></th>\n",
       "      <th></th>\n",
       "      <th></th>\n",
       "      <th></th>\n",
       "      <th></th>\n",
       "      <th></th>\n",
       "      <th></th>\n",
       "      <th></th>\n",
       "      <th></th>\n",
       "      <th></th>\n",
       "      <th></th>\n",
       "      <th></th>\n",
       "      <th></th>\n",
       "      <th></th>\n",
       "      <th></th>\n",
       "    </tr>\n",
       "  </thead>\n",
       "  <tbody>\n",
       "    <tr>\n",
       "      <th>1</th>\n",
       "      <td>강주온</td>\n",
       "      <td>2002-03-04</td>\n",
       "      <td>23</td>\n",
       "      <td>20대 중반</td>\n",
       "      <td>남</td>\n",
       "      <td>010-6502-8753</td>\n",
       "      <td>janisi@himedia.co.kr</td>\n",
       "      <td>법인</td>\n",
       "      <td>14798</td>\n",
       "      <td>2023-04-01</td>\n",
       "      <td>...</td>\n",
       "      <td>2분기</td>\n",
       "      <td>평일</td>\n",
       "      <td>350</td>\n",
       "      <td>22</td>\n",
       "      <td>35490000</td>\n",
       "      <td>신용카드</td>\n",
       "      <td>오프라인</td>\n",
       "      <td>1</td>\n",
       "      <td>0.002</td>\n",
       "      <td>0.135</td>\n",
       "    </tr>\n",
       "    <tr>\n",
       "      <th>2</th>\n",
       "      <td>김경수</td>\n",
       "      <td>1983-01-02</td>\n",
       "      <td>42</td>\n",
       "      <td>40대 초반</td>\n",
       "      <td>남</td>\n",
       "      <td>010-1111-2222</td>\n",
       "      <td>kimkyoungsoo31@himedia.co.kr</td>\n",
       "      <td>법인</td>\n",
       "      <td>kyoungsoo031</td>\n",
       "      <td>2025-02-09</td>\n",
       "      <td>...</td>\n",
       "      <td>1분기</td>\n",
       "      <td>평일</td>\n",
       "      <td>38</td>\n",
       "      <td>42</td>\n",
       "      <td>84980000</td>\n",
       "      <td>신용카드</td>\n",
       "      <td>오프라인</td>\n",
       "      <td>5</td>\n",
       "      <td>0.508</td>\n",
       "      <td>0.037</td>\n",
       "    </tr>\n",
       "  </tbody>\n",
       "</table>\n",
       "<p>2 rows × 34 columns</p>\n",
       "</div>"
      ],
      "text/plain": [
       "     이름        생년월일  현재 나이     연령대 성별         휴대폰 번호  \\\n",
       "연번                                                     \n",
       "1   강주온  2002-03-04     23  20대 중반  남  010-6502-8753   \n",
       "2   김경수  1983-01-02     42  40대 초반  남  010-1111-2222   \n",
       "\n",
       "                             이메일 고객 구분           아이디         가입일  ...  \\\n",
       "연번                                                                ...   \n",
       "1           janisi@himedia.co.kr    법인         14798  2023-04-01  ...   \n",
       "2   kimkyoungsoo31@himedia.co.kr    법인  kyoungsoo031  2025-02-09  ...   \n",
       "\n",
       "    최근 구매 시점 최근 구매 요일 마지막 구매 이후 경과 기간  최근 구매 당시 나이  최근 거래 금액  선호 거래 방식  \\\n",
       "연번                                                                       \n",
       "1        2분기       평일             350           22  35490000      신용카드   \n",
       "2        1분기       평일              38           42  84980000      신용카드   \n",
       "\n",
       "   선호 구매 경로 차량 구매 횟수 신차 구매 지수 브랜드 충성도 지수  \n",
       "연번                                        \n",
       "1      오프라인        1    0.002      0.135  \n",
       "2      오프라인        5    0.508      0.037  \n",
       "\n",
       "[2 rows x 34 columns]"
      ]
     },
     "execution_count": 5,
     "metadata": {},
     "output_type": "execute_result"
    }
   ],
   "source": [
    "df.head(2)"
   ]
  },
  {
   "cell_type": "code",
   "execution_count": 6,
   "metadata": {},
   "outputs": [
    {
     "data": {
      "application/vnd.microsoft.datawrangler.viewer.v0+json": {
       "columns": [
        {
         "name": "연번",
         "rawType": "int64",
         "type": "integer"
        },
        {
         "name": "이름",
         "rawType": "object",
         "type": "string"
        },
        {
         "name": "생년월일",
         "rawType": "object",
         "type": "string"
        },
        {
         "name": "현재 나이",
         "rawType": "int64",
         "type": "integer"
        },
        {
         "name": "연령대",
         "rawType": "object",
         "type": "string"
        },
        {
         "name": "성별",
         "rawType": "object",
         "type": "string"
        },
        {
         "name": "휴대폰 번호",
         "rawType": "object",
         "type": "string"
        },
        {
         "name": "이메일",
         "rawType": "object",
         "type": "string"
        },
        {
         "name": "고객 구분",
         "rawType": "object",
         "type": "string"
        },
        {
         "name": "아이디",
         "rawType": "object",
         "type": "string"
        },
        {
         "name": "가입일",
         "rawType": "object",
         "type": "string"
        },
        {
         "name": "가입 이후 경과 기간",
         "rawType": "int64",
         "type": "integer"
        },
        {
         "name": "주소",
         "rawType": "object",
         "type": "string"
        },
        {
         "name": "거주 지역",
         "rawType": "object",
         "type": "string"
        },
        {
         "name": "인구 밀도",
         "rawType": "int64",
         "type": "integer"
        },
        {
         "name": "GDP (조 원)",
         "rawType": "int64",
         "type": "integer"
        },
        {
         "name": "1인당 GDP (만 원)",
         "rawType": "int64",
         "type": "integer"
        },
        {
         "name": "고객 등급",
         "rawType": "object",
         "type": "string"
        },
        {
         "name": "회원가입 이후 구매 이력",
         "rawType": "object",
         "type": "string"
        },
        {
         "name": "최근 구매 제품",
         "rawType": "object",
         "type": "string"
        },
        {
         "name": "차량 사이즈",
         "rawType": "object",
         "type": "string"
        },
        {
         "name": "차량 유형",
         "rawType": "object",
         "type": "string"
        },
        {
         "name": "연료 구분",
         "rawType": "object",
         "type": "string"
        },
        {
         "name": "최근 구매 날짜",
         "rawType": "object",
         "type": "string"
        },
        {
         "name": "최근 구매 연도",
         "rawType": "int64",
         "type": "integer"
        },
        {
         "name": "최근 구매 시점",
         "rawType": "object",
         "type": "string"
        },
        {
         "name": "최근 구매 요일",
         "rawType": "object",
         "type": "string"
        },
        {
         "name": "마지막 구매 이후 경과 기간",
         "rawType": "int64",
         "type": "integer"
        },
        {
         "name": "최근 구매 당시 나이",
         "rawType": "int64",
         "type": "integer"
        },
        {
         "name": "최근 거래 금액",
         "rawType": "int64",
         "type": "integer"
        },
        {
         "name": "선호 거래 방식",
         "rawType": "object",
         "type": "string"
        },
        {
         "name": "선호 구매 경로",
         "rawType": "object",
         "type": "string"
        },
        {
         "name": "차량 구매 횟수",
         "rawType": "int64",
         "type": "integer"
        },
        {
         "name": "신차 구매 지수",
         "rawType": "float64",
         "type": "float"
        },
        {
         "name": "브랜드 충성도 지수",
         "rawType": "float64",
         "type": "float"
        }
       ],
       "conversionMethod": "pd.DataFrame",
       "ref": "6e77a0ff-3b9d-4fe4-8f2e-35b95520f720",
       "rows": [
        [
         "58",
         "서은정",
         "2005-03-04",
         "20",
         "20대 초반",
         "여",
         "032-170-6440",
         "ugim@daum.net",
         "개인",
         "seoyeon90",
         "2024-07-07",
         "256",
         "서울특별시 종로구 청운동 67-89",
         "서울특별시",
         "15533",
         "548",
         "5161",
         "VIP",
         "O",
         "G70 (IK)",
         "중형",
         "세단",
         "휘발유",
         "2024-08-31",
         "2024",
         "3분기",
         "주말",
         "201",
         "19",
         "49210000",
         "계좌이체",
         "온라인",
         "5",
         "0.052",
         "0.241"
        ],
        [
         "71",
         "이정자",
         "2004-03-16",
         "21",
         "20대 초반",
         "여",
         "010-2415-1251",
         "hgim@daum.net",
         "개인",
         "myeongsug84",
         "2024-02-01",
         "413",
         "충청남도 천안시 동남구 성성동 22-3",
         "충청남도 천안시",
         "1036",
         "143",
         "5894",
         "VIP",
         "X",
         "Avante (CN7 N)",
         "준중형",
         "세단",
         "휘발유",
         "2023-08-26",
         "2023",
         "3분기",
         "주말",
         "572",
         "19",
         "40310000",
         "계좌이체",
         "온라인",
         "5",
         "0.019",
         "0.388"
        ]
       ],
       "shape": {
        "columns": 34,
        "rows": 2
       }
      },
      "text/html": [
       "<div>\n",
       "<style scoped>\n",
       "    .dataframe tbody tr th:only-of-type {\n",
       "        vertical-align: middle;\n",
       "    }\n",
       "\n",
       "    .dataframe tbody tr th {\n",
       "        vertical-align: top;\n",
       "    }\n",
       "\n",
       "    .dataframe thead th {\n",
       "        text-align: right;\n",
       "    }\n",
       "</style>\n",
       "<table border=\"1\" class=\"dataframe\">\n",
       "  <thead>\n",
       "    <tr style=\"text-align: right;\">\n",
       "      <th></th>\n",
       "      <th>이름</th>\n",
       "      <th>생년월일</th>\n",
       "      <th>현재 나이</th>\n",
       "      <th>연령대</th>\n",
       "      <th>성별</th>\n",
       "      <th>휴대폰 번호</th>\n",
       "      <th>이메일</th>\n",
       "      <th>고객 구분</th>\n",
       "      <th>아이디</th>\n",
       "      <th>가입일</th>\n",
       "      <th>...</th>\n",
       "      <th>최근 구매 시점</th>\n",
       "      <th>최근 구매 요일</th>\n",
       "      <th>마지막 구매 이후 경과 기간</th>\n",
       "      <th>최근 구매 당시 나이</th>\n",
       "      <th>최근 거래 금액</th>\n",
       "      <th>선호 거래 방식</th>\n",
       "      <th>선호 구매 경로</th>\n",
       "      <th>차량 구매 횟수</th>\n",
       "      <th>신차 구매 지수</th>\n",
       "      <th>브랜드 충성도 지수</th>\n",
       "    </tr>\n",
       "    <tr>\n",
       "      <th>연번</th>\n",
       "      <th></th>\n",
       "      <th></th>\n",
       "      <th></th>\n",
       "      <th></th>\n",
       "      <th></th>\n",
       "      <th></th>\n",
       "      <th></th>\n",
       "      <th></th>\n",
       "      <th></th>\n",
       "      <th></th>\n",
       "      <th></th>\n",
       "      <th></th>\n",
       "      <th></th>\n",
       "      <th></th>\n",
       "      <th></th>\n",
       "      <th></th>\n",
       "      <th></th>\n",
       "      <th></th>\n",
       "      <th></th>\n",
       "      <th></th>\n",
       "      <th></th>\n",
       "    </tr>\n",
       "  </thead>\n",
       "  <tbody>\n",
       "    <tr>\n",
       "      <th>58</th>\n",
       "      <td>서은정</td>\n",
       "      <td>2005-03-04</td>\n",
       "      <td>20</td>\n",
       "      <td>20대 초반</td>\n",
       "      <td>여</td>\n",
       "      <td>032-170-6440</td>\n",
       "      <td>ugim@daum.net</td>\n",
       "      <td>개인</td>\n",
       "      <td>seoyeon90</td>\n",
       "      <td>2024-07-07</td>\n",
       "      <td>...</td>\n",
       "      <td>3분기</td>\n",
       "      <td>주말</td>\n",
       "      <td>201</td>\n",
       "      <td>19</td>\n",
       "      <td>49210000</td>\n",
       "      <td>계좌이체</td>\n",
       "      <td>온라인</td>\n",
       "      <td>5</td>\n",
       "      <td>0.052</td>\n",
       "      <td>0.241</td>\n",
       "    </tr>\n",
       "    <tr>\n",
       "      <th>71</th>\n",
       "      <td>이정자</td>\n",
       "      <td>2004-03-16</td>\n",
       "      <td>21</td>\n",
       "      <td>20대 초반</td>\n",
       "      <td>여</td>\n",
       "      <td>010-2415-1251</td>\n",
       "      <td>hgim@daum.net</td>\n",
       "      <td>개인</td>\n",
       "      <td>myeongsug84</td>\n",
       "      <td>2024-02-01</td>\n",
       "      <td>...</td>\n",
       "      <td>3분기</td>\n",
       "      <td>주말</td>\n",
       "      <td>572</td>\n",
       "      <td>19</td>\n",
       "      <td>40310000</td>\n",
       "      <td>계좌이체</td>\n",
       "      <td>온라인</td>\n",
       "      <td>5</td>\n",
       "      <td>0.019</td>\n",
       "      <td>0.388</td>\n",
       "    </tr>\n",
       "  </tbody>\n",
       "</table>\n",
       "<p>2 rows × 34 columns</p>\n",
       "</div>"
      ],
      "text/plain": [
       "     이름        생년월일  현재 나이     연령대 성별         휴대폰 번호            이메일 고객 구분  \\\n",
       "연번                                                                          \n",
       "58  서은정  2005-03-04     20  20대 초반  여   032-170-6440  ugim@daum.net    개인   \n",
       "71  이정자  2004-03-16     21  20대 초반  여  010-2415-1251  hgim@daum.net    개인   \n",
       "\n",
       "            아이디         가입일  ...  최근 구매 시점 최근 구매 요일 마지막 구매 이후 경과 기간  \\\n",
       "연번                           ...                                      \n",
       "58    seoyeon90  2024-07-07  ...       3분기       주말             201   \n",
       "71  myeongsug84  2024-02-01  ...       3분기       주말             572   \n",
       "\n",
       "    최근 구매 당시 나이  최근 거래 금액  선호 거래 방식 선호 구매 경로 차량 구매 횟수 신차 구매 지수 브랜드 충성도 지수  \n",
       "연번                                                                         \n",
       "58           19  49210000      계좌이체      온라인        5    0.052      0.241  \n",
       "71           19  40310000      계좌이체      온라인        5    0.019      0.388  \n",
       "\n",
       "[2 rows x 34 columns]"
      ]
     },
     "execution_count": 6,
     "metadata": {},
     "output_type": "execute_result"
    }
   ],
   "source": [
    "df[df[\"최근 구매 당시 나이\"]<20]"
   ]
  },
  {
   "cell_type": "code",
   "execution_count": 7,
   "metadata": {},
   "outputs": [
    {
     "data": {
      "text/plain": [
       "14"
      ]
     },
     "execution_count": 7,
     "metadata": {},
     "output_type": "execute_result"
    }
   ],
   "source": [
    "df[\"최근 구매 제품\"].nunique()"
   ]
  },
  {
   "cell_type": "code",
   "execution_count": 8,
   "metadata": {},
   "outputs": [
    {
     "data": {
      "text/plain": [
       "3"
      ]
     },
     "execution_count": 8,
     "metadata": {},
     "output_type": "execute_result"
    }
   ],
   "source": [
    "df[\"차량 유형\"].nunique()"
   ]
  },
  {
   "cell_type": "code",
   "execution_count": 9,
   "metadata": {},
   "outputs": [
    {
     "data": {
      "text/plain": [
       "5"
      ]
     },
     "execution_count": 9,
     "metadata": {},
     "output_type": "execute_result"
    }
   ],
   "source": [
    "df[\"차량 사이즈\"].nunique()"
   ]
  },
  {
   "cell_type": "code",
   "execution_count": 10,
   "metadata": {},
   "outputs": [],
   "source": [
    "# (성별/구매 당시 연령별) (차량 사이즈/차량 유형) 분석\n",
    "# \t→ ex) 여성 20대 30대 40대 의 차량 우선도"
   ]
  },
  {
   "cell_type": "code",
   "execution_count": 11,
   "metadata": {},
   "outputs": [],
   "source": [
    "category_df=df[[\"성별\",\"최근 구매 당시 나이\",\"최근 구매 제품\",\"차량 사이즈\",\"차량 유형\",\"최근 거래 금액\"]]"
   ]
  },
  {
   "cell_type": "code",
   "execution_count": 12,
   "metadata": {},
   "outputs": [
    {
     "name": "stderr",
     "output_type": "stream",
     "text": [
      "/var/folders/_k/9pcm610n0sb_j9n64tc8zgcw0000gn/T/ipykernel_79319/634928100.py:2: SettingWithCopyWarning: \n",
      "A value is trying to be set on a copy of a slice from a DataFrame.\n",
      "Try using .loc[row_indexer,col_indexer] = value instead\n",
      "\n",
      "See the caveats in the documentation: https://pandas.pydata.org/pandas-docs/stable/user_guide/indexing.html#returning-a-view-versus-a-copy\n",
      "  category_df[\"연령대\"] = (df[\"최근 구매 당시 나이\"] // 10 * 10).astype(str) + \"대\"\n"
     ]
    }
   ],
   "source": [
    "# 구매 당시 나이 연령대 구하기\n",
    "category_df[\"연령대\"] = (df[\"최근 구매 당시 나이\"] // 10 * 10).astype(str) + \"대\""
   ]
  },
  {
   "cell_type": "code",
   "execution_count": 13,
   "metadata": {},
   "outputs": [],
   "source": [
    "# 필요 없는 컬럼 삭제\n",
    "category_df=category_df.drop(columns=[\"최근 구매 당시 나이\"])"
   ]
  },
  {
   "cell_type": "code",
   "execution_count": 14,
   "metadata": {},
   "outputs": [],
   "source": [
    "type_df=category_df.groupby([\"성별\",\"연령대\",\"차량 유형\"])[[\"최근 거래 금액\"]].count().reset_index()"
   ]
  },
  {
   "cell_type": "code",
   "execution_count": 15,
   "metadata": {},
   "outputs": [],
   "source": [
    "type_df=type_df.rename(columns={\"최근 거래 금액\":\"판매량\"})"
   ]
  },
  {
   "cell_type": "code",
   "execution_count": 16,
   "metadata": {},
   "outputs": [
    {
     "data": {
      "application/vnd.microsoft.datawrangler.viewer.v0+json": {
       "columns": [
        {
         "name": "index",
         "rawType": "int64",
         "type": "integer"
        },
        {
         "name": "성별",
         "rawType": "object",
         "type": "string"
        },
        {
         "name": "연령대",
         "rawType": "object",
         "type": "string"
        },
        {
         "name": "차량 유형",
         "rawType": "object",
         "type": "string"
        },
        {
         "name": "판매량",
         "rawType": "int64",
         "type": "integer"
        }
       ],
       "conversionMethod": "pd.DataFrame",
       "ref": "a068b99c-6256-4640-84c1-741bacb3a9c7",
       "rows": [
        [
         "0",
         "남",
         "20대",
         "SUV",
         "12"
        ],
        [
         "1",
         "남",
         "20대",
         "세단",
         "18"
        ]
       ],
       "shape": {
        "columns": 4,
        "rows": 2
       }
      },
      "text/html": [
       "<div>\n",
       "<style scoped>\n",
       "    .dataframe tbody tr th:only-of-type {\n",
       "        vertical-align: middle;\n",
       "    }\n",
       "\n",
       "    .dataframe tbody tr th {\n",
       "        vertical-align: top;\n",
       "    }\n",
       "\n",
       "    .dataframe thead th {\n",
       "        text-align: right;\n",
       "    }\n",
       "</style>\n",
       "<table border=\"1\" class=\"dataframe\">\n",
       "  <thead>\n",
       "    <tr style=\"text-align: right;\">\n",
       "      <th></th>\n",
       "      <th>성별</th>\n",
       "      <th>연령대</th>\n",
       "      <th>차량 유형</th>\n",
       "      <th>판매량</th>\n",
       "    </tr>\n",
       "  </thead>\n",
       "  <tbody>\n",
       "    <tr>\n",
       "      <th>0</th>\n",
       "      <td>남</td>\n",
       "      <td>20대</td>\n",
       "      <td>SUV</td>\n",
       "      <td>12</td>\n",
       "    </tr>\n",
       "    <tr>\n",
       "      <th>1</th>\n",
       "      <td>남</td>\n",
       "      <td>20대</td>\n",
       "      <td>세단</td>\n",
       "      <td>18</td>\n",
       "    </tr>\n",
       "  </tbody>\n",
       "</table>\n",
       "</div>"
      ],
      "text/plain": [
       "  성별  연령대 차량 유형  판매량\n",
       "0  남  20대   SUV   12\n",
       "1  남  20대    세단   18"
      ]
     },
     "execution_count": 16,
     "metadata": {},
     "output_type": "execute_result"
    }
   ],
   "source": [
    "type_df.head(2)"
   ]
  },
  {
   "cell_type": "code",
   "execution_count": 17,
   "metadata": {},
   "outputs": [],
   "source": [
    "type_man=type_df[type_df[\"성별\"]==\"남\"]"
   ]
  },
  {
   "cell_type": "code",
   "execution_count": 18,
   "metadata": {},
   "outputs": [
    {
     "data": {
      "image/png": "[encoded data removed]",
      "text/plain": [
       "<Figure size 1200x800 with 1 Axes>"
      ]
     },
     "metadata": {},
     "output_type": "display_data"
    }
   ],
   "source": [
    "# 연령대와 제품별 판매량 합산\n",
    "df_pivot = type_man.pivot_table(index='연령대', columns='차량 유형', values='판매량', aggfunc='sum', fill_value=0)\n",
    "\n",
    "# 색상 설정 (Seaborn 팔레트 사용)\n",
    "colors = sb.color_palette(\"Set2\", n_colors=len(df_pivot.columns))\n",
    "\n",
    "# 스택형 막대 그래프 그리기 (색상 적용)\n",
    "ax = df_pivot.plot(kind='bar', figsize=(12, 8), color=colors)  # color=colors 추가\n",
    "\n",
    "# 그래프 제목과 레이블 설정\n",
    "ax.set_title('연령대별 선호 차량 유형 (남)', fontsize=16)\n",
    "ax.set_xlabel('연령대', fontsize=12)\n",
    "ax.set_ylabel('판매량', fontsize=12)\n",
    "\n",
    "# 범례 설정\n",
    "plt.legend(title='차량 유형', bbox_to_anchor=(1.05, 1), loc='upper left')\n",
    "\n",
    "# 그래프 표시\n",
    "plt.tight_layout()\n",
    "plt.show()"
   ]
  },
  {
   "cell_type": "code",
   "execution_count": 19,
   "metadata": {},
   "outputs": [],
   "source": [
    "# 전반적으로 세단 선호도가 두드러짐\n",
    "# 30대가 되면서 세단 선호도가 약간 주춤하는 경향\n",
    "# 이유가 뭘까?\n",
    "\n",
    "# SUV 선호도는 비교적 고른 분포를 보임\n",
    "# 이유가 뭘까?"
   ]
  },
  {
   "cell_type": "code",
   "execution_count": 20,
   "metadata": {},
   "outputs": [],
   "source": [
    "type_female=type_df[type_df[\"성별\"]==\"여\"]"
   ]
  },
  {
   "cell_type": "code",
   "execution_count": 21,
   "metadata": {},
   "outputs": [
    {
     "data": {
      "application/vnd.microsoft.datawrangler.viewer.v0+json": {
       "columns": [
        {
         "name": "index",
         "rawType": "int64",
         "type": "integer"
        },
        {
         "name": "성별",
         "rawType": "object",
         "type": "string"
        },
        {
         "name": "연령대",
         "rawType": "object",
         "type": "string"
        },
        {
         "name": "차량 유형",
         "rawType": "object",
         "type": "string"
        },
        {
         "name": "판매량",
         "rawType": "int64",
         "type": "integer"
        }
       ],
       "conversionMethod": "pd.DataFrame",
       "ref": "61e36631-666e-48af-a989-0b830dcad61c",
       "rows": [
        [
         "14",
         "여",
         "10대",
         "세단",
         "2"
        ],
        [
         "15",
         "여",
         "20대",
         "SUV",
         "13"
        ],
        [
         "16",
         "여",
         "20대",
         "세단",
         "15"
        ],
        [
         "17",
         "여",
         "20대",
         "해치백",
         "2"
        ],
        [
         "18",
         "여",
         "30대",
         "SUV",
         "7"
        ],
        [
         "19",
         "여",
         "30대",
         "세단",
         "8"
        ],
        [
         "20",
         "여",
         "40대",
         "SUV",
         "15"
        ],
        [
         "21",
         "여",
         "40대",
         "세단",
         "16"
        ],
        [
         "22",
         "여",
         "40대",
         "해치백",
         "1"
        ],
        [
         "23",
         "여",
         "50대",
         "SUV",
         "12"
        ],
        [
         "24",
         "여",
         "50대",
         "세단",
         "16"
        ],
        [
         "25",
         "여",
         "50대",
         "해치백",
         "1"
        ],
        [
         "26",
         "여",
         "60대",
         "SUV",
         "6"
        ],
        [
         "27",
         "여",
         "60대",
         "세단",
         "19"
        ],
        [
         "28",
         "여",
         "70대",
         "세단",
         "1"
        ]
       ],
       "shape": {
        "columns": 4,
        "rows": 15
       }
      },
      "text/html": [
       "<div>\n",
       "<style scoped>\n",
       "    .dataframe tbody tr th:only-of-type {\n",
       "        vertical-align: middle;\n",
       "    }\n",
       "\n",
       "    .dataframe tbody tr th {\n",
       "        vertical-align: top;\n",
       "    }\n",
       "\n",
       "    .dataframe thead th {\n",
       "        text-align: right;\n",
       "    }\n",
       "</style>\n",
       "<table border=\"1\" class=\"dataframe\">\n",
       "  <thead>\n",
       "    <tr style=\"text-align: right;\">\n",
       "      <th></th>\n",
       "      <th>성별</th>\n",
       "      <th>연령대</th>\n",
       "      <th>차량 유형</th>\n",
       "      <th>판매량</th>\n",
       "    </tr>\n",
       "  </thead>\n",
       "  <tbody>\n",
       "    <tr>\n",
       "      <th>14</th>\n",
       "      <td>여</td>\n",
       "      <td>10대</td>\n",
       "      <td>세단</td>\n",
       "      <td>2</td>\n",
       "    </tr>\n",
       "    <tr>\n",
       "      <th>15</th>\n",
       "      <td>여</td>\n",
       "      <td>20대</td>\n",
       "      <td>SUV</td>\n",
       "      <td>13</td>\n",
       "    </tr>\n",
       "    <tr>\n",
       "      <th>16</th>\n",
       "      <td>여</td>\n",
       "      <td>20대</td>\n",
       "      <td>세단</td>\n",
       "      <td>15</td>\n",
       "    </tr>\n",
       "    <tr>\n",
       "      <th>17</th>\n",
       "      <td>여</td>\n",
       "      <td>20대</td>\n",
       "      <td>해치백</td>\n",
       "      <td>2</td>\n",
       "    </tr>\n",
       "    <tr>\n",
       "      <th>18</th>\n",
       "      <td>여</td>\n",
       "      <td>30대</td>\n",
       "      <td>SUV</td>\n",
       "      <td>7</td>\n",
       "    </tr>\n",
       "    <tr>\n",
       "      <th>19</th>\n",
       "      <td>여</td>\n",
       "      <td>30대</td>\n",
       "      <td>세단</td>\n",
       "      <td>8</td>\n",
       "    </tr>\n",
       "    <tr>\n",
       "      <th>20</th>\n",
       "      <td>여</td>\n",
       "      <td>40대</td>\n",
       "      <td>SUV</td>\n",
       "      <td>15</td>\n",
       "    </tr>\n",
       "    <tr>\n",
       "      <th>21</th>\n",
       "      <td>여</td>\n",
       "      <td>40대</td>\n",
       "      <td>세단</td>\n",
       "      <td>16</td>\n",
       "    </tr>\n",
       "    <tr>\n",
       "      <th>22</th>\n",
       "      <td>여</td>\n",
       "      <td>40대</td>\n",
       "      <td>해치백</td>\n",
       "      <td>1</td>\n",
       "    </tr>\n",
       "    <tr>\n",
       "      <th>23</th>\n",
       "      <td>여</td>\n",
       "      <td>50대</td>\n",
       "      <td>SUV</td>\n",
       "      <td>12</td>\n",
       "    </tr>\n",
       "    <tr>\n",
       "      <th>24</th>\n",
       "      <td>여</td>\n",
       "      <td>50대</td>\n",
       "      <td>세단</td>\n",
       "      <td>16</td>\n",
       "    </tr>\n",
       "    <tr>\n",
       "      <th>25</th>\n",
       "      <td>여</td>\n",
       "      <td>50대</td>\n",
       "      <td>해치백</td>\n",
       "      <td>1</td>\n",
       "    </tr>\n",
       "    <tr>\n",
       "      <th>26</th>\n",
       "      <td>여</td>\n",
       "      <td>60대</td>\n",
       "      <td>SUV</td>\n",
       "      <td>6</td>\n",
       "    </tr>\n",
       "    <tr>\n",
       "      <th>27</th>\n",
       "      <td>여</td>\n",
       "      <td>60대</td>\n",
       "      <td>세단</td>\n",
       "      <td>19</td>\n",
       "    </tr>\n",
       "    <tr>\n",
       "      <th>28</th>\n",
       "      <td>여</td>\n",
       "      <td>70대</td>\n",
       "      <td>세단</td>\n",
       "      <td>1</td>\n",
       "    </tr>\n",
       "  </tbody>\n",
       "</table>\n",
       "</div>"
      ],
      "text/plain": [
       "   성별  연령대 차량 유형  판매량\n",
       "14  여  10대    세단    2\n",
       "15  여  20대   SUV   13\n",
       "16  여  20대    세단   15\n",
       "17  여  20대   해치백    2\n",
       "18  여  30대   SUV    7\n",
       "19  여  30대    세단    8\n",
       "20  여  40대   SUV   15\n",
       "21  여  40대    세단   16\n",
       "22  여  40대   해치백    1\n",
       "23  여  50대   SUV   12\n",
       "24  여  50대    세단   16\n",
       "25  여  50대   해치백    1\n",
       "26  여  60대   SUV    6\n",
       "27  여  60대    세단   19\n",
       "28  여  70대    세단    1"
      ]
     },
     "execution_count": 21,
     "metadata": {},
     "output_type": "execute_result"
    }
   ],
   "source": [
    "type_female"
   ]
  },
  {
   "cell_type": "code",
   "execution_count": 22,
   "metadata": {},
   "outputs": [
    {
     "data": {
      "image/png": "[encoded data removed]",
      "text/plain": [
       "<Figure size 1200x800 with 1 Axes>"
      ]
     },
     "metadata": {},
     "output_type": "display_data"
    }
   ],
   "source": [
    "# 연령대와 제품별 판매량 합산\n",
    "df_pivot = type_female.pivot_table(index='연령대', columns='차량 유형', values='판매량', aggfunc='sum', fill_value=0)\n",
    "\n",
    "# 색상 설정 (Seaborn 팔레트 사용)\n",
    "colors = sb.color_palette(\"Set2\", n_colors=len(df_pivot.columns))\n",
    "\n",
    "# 스택형 막대 그래프 그리기 (색상 적용)\n",
    "ax = df_pivot.plot(kind='bar', figsize=(12, 8), color=colors)  # color=colors 추가\n",
    "\n",
    "# 그래프 제목과 레이블 설정\n",
    "ax.set_title('연령대별 선호 차량 유형 (여)', fontsize=16)\n",
    "ax.set_xlabel('연령대', fontsize=12)\n",
    "ax.set_ylabel('판매량', fontsize=12)\n",
    "\n",
    "# 범례 설정\n",
    "plt.legend(title='차량 유형', bbox_to_anchor=(1.05, 1), loc='upper left')\n",
    "\n",
    "# 그래프 표시\n",
    "plt.tight_layout()\n",
    "plt.show()"
   ]
  },
  {
   "cell_type": "code",
   "execution_count": 23,
   "metadata": {},
   "outputs": [],
   "source": [
    "# 남성과 비슷하게 전반적으로 세단 선호도가 두드러짐\n",
    "\n",
    "# 60대가 되면서 세단 선호도가 매우 높아지는 양상\n",
    "# 이유가 뭘까?\n",
    "\n",
    "# SUV 역시 세단과 비슷한 선호도를 보임\n",
    "# 이유가 뭘까?\n",
    "\n",
    "# 30대에 차량 판매량이 급감\n",
    "# 이유가 뭘까?\n",
    "\n",
    "# 남성과 다르게 20대의 차량 구매량이 적음\n",
    "# 이유가 뭘까?"
   ]
  },
  {
   "cell_type": "code",
   "execution_count": null,
   "metadata": {},
   "outputs": [],
   "source": []
  },
  {
   "cell_type": "code",
   "execution_count": 24,
   "metadata": {},
   "outputs": [],
   "source": [
    "# 성별/나이별 차량 사이즈 분석"
   ]
  },
  {
   "cell_type": "code",
   "execution_count": 25,
   "metadata": {},
   "outputs": [
    {
     "data": {
      "application/vnd.microsoft.datawrangler.viewer.v0+json": {
       "columns": [
        {
         "name": "연번",
         "rawType": "int64",
         "type": "integer"
        },
        {
         "name": "성별",
         "rawType": "object",
         "type": "string"
        },
        {
         "name": "최근 구매 제품",
         "rawType": "object",
         "type": "string"
        },
        {
         "name": "차량 사이즈",
         "rawType": "object",
         "type": "string"
        },
        {
         "name": "차량 유형",
         "rawType": "object",
         "type": "string"
        },
        {
         "name": "최근 거래 금액",
         "rawType": "int64",
         "type": "integer"
        },
        {
         "name": "연령대",
         "rawType": "object",
         "type": "string"
        }
       ],
       "conversionMethod": "pd.DataFrame",
       "ref": "4fcfaa44-8329-4e9d-8938-39ebaf5abd35",
       "rows": [
        [
         "1",
         "남",
         "Avante (CN7 N)",
         "준중형",
         "세단",
         "35490000",
         "20대"
        ],
        [
         "2",
         "남",
         "G80 (RG3)",
         "대형",
         "세단",
         "84980000",
         "40대"
        ]
       ],
       "shape": {
        "columns": 6,
        "rows": 2
       }
      },
      "text/html": [
       "<div>\n",
       "<style scoped>\n",
       "    .dataframe tbody tr th:only-of-type {\n",
       "        vertical-align: middle;\n",
       "    }\n",
       "\n",
       "    .dataframe tbody tr th {\n",
       "        vertical-align: top;\n",
       "    }\n",
       "\n",
       "    .dataframe thead th {\n",
       "        text-align: right;\n",
       "    }\n",
       "</style>\n",
       "<table border=\"1\" class=\"dataframe\">\n",
       "  <thead>\n",
       "    <tr style=\"text-align: right;\">\n",
       "      <th></th>\n",
       "      <th>성별</th>\n",
       "      <th>최근 구매 제품</th>\n",
       "      <th>차량 사이즈</th>\n",
       "      <th>차량 유형</th>\n",
       "      <th>최근 거래 금액</th>\n",
       "      <th>연령대</th>\n",
       "    </tr>\n",
       "    <tr>\n",
       "      <th>연번</th>\n",
       "      <th></th>\n",
       "      <th></th>\n",
       "      <th></th>\n",
       "      <th></th>\n",
       "      <th></th>\n",
       "      <th></th>\n",
       "    </tr>\n",
       "  </thead>\n",
       "  <tbody>\n",
       "    <tr>\n",
       "      <th>1</th>\n",
       "      <td>남</td>\n",
       "      <td>Avante (CN7 N)</td>\n",
       "      <td>준중형</td>\n",
       "      <td>세단</td>\n",
       "      <td>35490000</td>\n",
       "      <td>20대</td>\n",
       "    </tr>\n",
       "    <tr>\n",
       "      <th>2</th>\n",
       "      <td>남</td>\n",
       "      <td>G80 (RG3)</td>\n",
       "      <td>대형</td>\n",
       "      <td>세단</td>\n",
       "      <td>84980000</td>\n",
       "      <td>40대</td>\n",
       "    </tr>\n",
       "  </tbody>\n",
       "</table>\n",
       "</div>"
      ],
      "text/plain": [
       "   성별        최근 구매 제품 차량 사이즈 차량 유형  최근 거래 금액  연령대\n",
       "연번                                               \n",
       "1   남  Avante (CN7 N)    준중형    세단  35490000  20대\n",
       "2   남       G80 (RG3)     대형    세단  84980000  40대"
      ]
     },
     "execution_count": 25,
     "metadata": {},
     "output_type": "execute_result"
    }
   ],
   "source": [
    "category_df.head(2)"
   ]
  },
  {
   "cell_type": "code",
   "execution_count": 26,
   "metadata": {},
   "outputs": [],
   "source": [
    "# 성별/ 연령대/ 차량 사이즈/ 거래금액\n",
    "size_df=category_df[[\"성별\",\"연령대\",\"차량 사이즈\",\"최근 거래 금액\"]]"
   ]
  },
  {
   "cell_type": "code",
   "execution_count": 27,
   "metadata": {},
   "outputs": [
    {
     "data": {
      "application/vnd.microsoft.datawrangler.viewer.v0+json": {
       "columns": [
        {
         "name": "연번",
         "rawType": "int64",
         "type": "integer"
        },
        {
         "name": "성별",
         "rawType": "object",
         "type": "string"
        },
        {
         "name": "연령대",
         "rawType": "object",
         "type": "string"
        },
        {
         "name": "차량 사이즈",
         "rawType": "object",
         "type": "string"
        },
        {
         "name": "최근 거래 금액",
         "rawType": "int64",
         "type": "integer"
        }
       ],
       "conversionMethod": "pd.DataFrame",
       "ref": "f208b9e4-1200-420b-b764-a6a48bf9573f",
       "rows": [
        [
         "1",
         "남",
         "20대",
         "준중형",
         "35490000"
        ],
        [
         "2",
         "남",
         "40대",
         "대형",
         "84980000"
        ]
       ],
       "shape": {
        "columns": 4,
        "rows": 2
       }
      },
      "text/html": [
       "<div>\n",
       "<style scoped>\n",
       "    .dataframe tbody tr th:only-of-type {\n",
       "        vertical-align: middle;\n",
       "    }\n",
       "\n",
       "    .dataframe tbody tr th {\n",
       "        vertical-align: top;\n",
       "    }\n",
       "\n",
       "    .dataframe thead th {\n",
       "        text-align: right;\n",
       "    }\n",
       "</style>\n",
       "<table border=\"1\" class=\"dataframe\">\n",
       "  <thead>\n",
       "    <tr style=\"text-align: right;\">\n",
       "      <th></th>\n",
       "      <th>성별</th>\n",
       "      <th>연령대</th>\n",
       "      <th>차량 사이즈</th>\n",
       "      <th>최근 거래 금액</th>\n",
       "    </tr>\n",
       "    <tr>\n",
       "      <th>연번</th>\n",
       "      <th></th>\n",
       "      <th></th>\n",
       "      <th></th>\n",
       "      <th></th>\n",
       "    </tr>\n",
       "  </thead>\n",
       "  <tbody>\n",
       "    <tr>\n",
       "      <th>1</th>\n",
       "      <td>남</td>\n",
       "      <td>20대</td>\n",
       "      <td>준중형</td>\n",
       "      <td>35490000</td>\n",
       "    </tr>\n",
       "    <tr>\n",
       "      <th>2</th>\n",
       "      <td>남</td>\n",
       "      <td>40대</td>\n",
       "      <td>대형</td>\n",
       "      <td>84980000</td>\n",
       "    </tr>\n",
       "  </tbody>\n",
       "</table>\n",
       "</div>"
      ],
      "text/plain": [
       "   성별  연령대 차량 사이즈  최근 거래 금액\n",
       "연번                         \n",
       "1   남  20대    준중형  35490000\n",
       "2   남  40대     대형  84980000"
      ]
     },
     "execution_count": 27,
     "metadata": {},
     "output_type": "execute_result"
    }
   ],
   "source": [
    "size_df.head(2)"
   ]
  },
  {
   "cell_type": "code",
   "execution_count": 28,
   "metadata": {},
   "outputs": [],
   "source": [
    "# 남성과 나이, 차량 사이즈로 그룹화 하고 거래 금액으로 판매량 컬럼 만들기\n",
    "size_df=size_df.groupby([\"성별\",\"연령대\",\"차량 사이즈\"])[[\"최근 거래 금액\"]].count().reset_index()"
   ]
  },
  {
   "cell_type": "code",
   "execution_count": 29,
   "metadata": {},
   "outputs": [],
   "source": [
    "# 컬럼 이름 변경\n",
    "size_df=size_df.rename(columns={\"최근 거래 금액\":\"판매량\"})"
   ]
  },
  {
   "cell_type": "code",
   "execution_count": 30,
   "metadata": {},
   "outputs": [],
   "source": [
    "# 남성만 가져오기\n",
    "size_man=size_df[size_df[\"성별\"]==\"남\"]"
   ]
  },
  {
   "cell_type": "code",
   "execution_count": 31,
   "metadata": {},
   "outputs": [
    {
     "data": {
      "application/vnd.microsoft.datawrangler.viewer.v0+json": {
       "columns": [
        {
         "name": "index",
         "rawType": "int64",
         "type": "integer"
        },
        {
         "name": "성별",
         "rawType": "object",
         "type": "string"
        },
        {
         "name": "연령대",
         "rawType": "object",
         "type": "string"
        },
        {
         "name": "차량 사이즈",
         "rawType": "object",
         "type": "string"
        },
        {
         "name": "판매량",
         "rawType": "int64",
         "type": "integer"
        }
       ],
       "conversionMethod": "pd.DataFrame",
       "ref": "c42d7821-e7ad-4209-9bcb-287d61067846",
       "rows": [
        [
         "0",
         "남",
         "20대",
         "대형",
         "6"
        ],
        [
         "1",
         "남",
         "20대",
         "준대형",
         "2"
        ]
       ],
       "shape": {
        "columns": 4,
        "rows": 2
       }
      },
      "text/html": [
       "<div>\n",
       "<style scoped>\n",
       "    .dataframe tbody tr th:only-of-type {\n",
       "        vertical-align: middle;\n",
       "    }\n",
       "\n",
       "    .dataframe tbody tr th {\n",
       "        vertical-align: top;\n",
       "    }\n",
       "\n",
       "    .dataframe thead th {\n",
       "        text-align: right;\n",
       "    }\n",
       "</style>\n",
       "<table border=\"1\" class=\"dataframe\">\n",
       "  <thead>\n",
       "    <tr style=\"text-align: right;\">\n",
       "      <th></th>\n",
       "      <th>성별</th>\n",
       "      <th>연령대</th>\n",
       "      <th>차량 사이즈</th>\n",
       "      <th>판매량</th>\n",
       "    </tr>\n",
       "  </thead>\n",
       "  <tbody>\n",
       "    <tr>\n",
       "      <th>0</th>\n",
       "      <td>남</td>\n",
       "      <td>20대</td>\n",
       "      <td>대형</td>\n",
       "      <td>6</td>\n",
       "    </tr>\n",
       "    <tr>\n",
       "      <th>1</th>\n",
       "      <td>남</td>\n",
       "      <td>20대</td>\n",
       "      <td>준대형</td>\n",
       "      <td>2</td>\n",
       "    </tr>\n",
       "  </tbody>\n",
       "</table>\n",
       "</div>"
      ],
      "text/plain": [
       "  성별  연령대 차량 사이즈  판매량\n",
       "0  남  20대     대형    6\n",
       "1  남  20대    준대형    2"
      ]
     },
     "execution_count": 31,
     "metadata": {},
     "output_type": "execute_result"
    }
   ],
   "source": [
    "size_man.head(2)"
   ]
  },
  {
   "cell_type": "code",
   "execution_count": 36,
   "metadata": {},
   "outputs": [
    {
     "data": {
      "image/png": "[encoded data removed]",
      "text/plain": [
       "<Figure size 1200x800 with 1 Axes>"
      ]
     },
     "metadata": {},
     "output_type": "display_data"
    }
   ],
   "source": [
    "# 연령대와 제품별 판매량 합산\n",
    "df_pivot = size_man.pivot_table(index='연령대', columns='차량 사이즈', values='판매량', aggfunc='sum', fill_value=0)\n",
    "\n",
    "# 색상 설정 (Seaborn 팔레트 사용)\n",
    "colors = sb.color_palette(\"Set3\", n_colors=len(df_pivot.columns))\n",
    "\n",
    "# 스택형 막대 그래프 그리기\n",
    "ax = df_pivot.plot(kind='bar', figsize=(12, 8), color=colors)\n",
    "\n",
    "# 그래프 제목과 레이블 설정\n",
    "ax.set_title('연령대별 선호 차량 사이즈 (남)', fontsize=16)\n",
    "ax.set_xlabel('연령대', fontsize=12)\n",
    "ax.set_xticklabels(ax.get_xticklabels(), rotation=0)\n",
    "ax.set_ylabel('판매량', fontsize=12)\n",
    "\n",
    "# 범례 설정\n",
    "plt.legend(title='차량 사이즈', bbox_to_anchor=(1.05, 1), loc='upper left')\n",
    "\n",
    "# 그래프 표시\n",
    "plt.tight_layout()\n",
    "plt.show()"
   ]
  },
  {
   "cell_type": "code",
   "execution_count": null,
   "metadata": {},
   "outputs": [],
   "source": []
  },
  {
   "cell_type": "code",
   "execution_count": 33,
   "metadata": {},
   "outputs": [],
   "source": [
    "# 여성만 가져오기\n",
    "size_female=size_df[size_df[\"성별\"]==\"여\"]"
   ]
  },
  {
   "cell_type": "code",
   "execution_count": 34,
   "metadata": {},
   "outputs": [
    {
     "data": {
      "application/vnd.microsoft.datawrangler.viewer.v0+json": {
       "columns": [
        {
         "name": "index",
         "rawType": "int64",
         "type": "integer"
        },
        {
         "name": "성별",
         "rawType": "object",
         "type": "string"
        },
        {
         "name": "연령대",
         "rawType": "object",
         "type": "string"
        },
        {
         "name": "차량 사이즈",
         "rawType": "object",
         "type": "string"
        },
        {
         "name": "판매량",
         "rawType": "int64",
         "type": "integer"
        }
       ],
       "conversionMethod": "pd.DataFrame",
       "ref": "ed0d34cb-cc6d-46ad-ad9b-63ac086dc975",
       "rows": [
        [
         "23",
         "여",
         "10대",
         "준중형",
         "1"
        ],
        [
         "24",
         "여",
         "10대",
         "중형",
         "1"
        ],
        [
         "25",
         "여",
         "20대",
         "대형",
         "1"
        ],
        [
         "26",
         "여",
         "20대",
         "준중형",
         "9"
        ],
        [
         "27",
         "여",
         "20대",
         "중형",
         "20"
        ],
        [
         "28",
         "여",
         "30대",
         "대형",
         "2"
        ],
        [
         "29",
         "여",
         "30대",
         "준중형",
         "3"
        ],
        [
         "30",
         "여",
         "30대",
         "중형",
         "10"
        ],
        [
         "31",
         "여",
         "40대",
         "대형",
         "5"
        ],
        [
         "32",
         "여",
         "40대",
         "준중형",
         "5"
        ],
        [
         "33",
         "여",
         "40대",
         "중형",
         "22"
        ],
        [
         "34",
         "여",
         "50대",
         "대형",
         "6"
        ],
        [
         "35",
         "여",
         "50대",
         "준대형",
         "1"
        ],
        [
         "36",
         "여",
         "50대",
         "준중형",
         "4"
        ],
        [
         "37",
         "여",
         "50대",
         "중형",
         "18"
        ],
        [
         "38",
         "여",
         "60대",
         "대형",
         "7"
        ],
        [
         "39",
         "여",
         "60대",
         "준중형",
         "3"
        ],
        [
         "40",
         "여",
         "60대",
         "중형",
         "15"
        ],
        [
         "41",
         "여",
         "70대",
         "중형",
         "1"
        ]
       ],
       "shape": {
        "columns": 4,
        "rows": 19
       }
      },
      "text/html": [
       "<div>\n",
       "<style scoped>\n",
       "    .dataframe tbody tr th:only-of-type {\n",
       "        vertical-align: middle;\n",
       "    }\n",
       "\n",
       "    .dataframe tbody tr th {\n",
       "        vertical-align: top;\n",
       "    }\n",
       "\n",
       "    .dataframe thead th {\n",
       "        text-align: right;\n",
       "    }\n",
       "</style>\n",
       "<table border=\"1\" class=\"dataframe\">\n",
       "  <thead>\n",
       "    <tr style=\"text-align: right;\">\n",
       "      <th></th>\n",
       "      <th>성별</th>\n",
       "      <th>연령대</th>\n",
       "      <th>차량 사이즈</th>\n",
       "      <th>판매량</th>\n",
       "    </tr>\n",
       "  </thead>\n",
       "  <tbody>\n",
       "    <tr>\n",
       "      <th>23</th>\n",
       "      <td>여</td>\n",
       "      <td>10대</td>\n",
       "      <td>준중형</td>\n",
       "      <td>1</td>\n",
       "    </tr>\n",
       "    <tr>\n",
       "      <th>24</th>\n",
       "      <td>여</td>\n",
       "      <td>10대</td>\n",
       "      <td>중형</td>\n",
       "      <td>1</td>\n",
       "    </tr>\n",
       "    <tr>\n",
       "      <th>25</th>\n",
       "      <td>여</td>\n",
       "      <td>20대</td>\n",
       "      <td>대형</td>\n",
       "      <td>1</td>\n",
       "    </tr>\n",
       "    <tr>\n",
       "      <th>26</th>\n",
       "      <td>여</td>\n",
       "      <td>20대</td>\n",
       "      <td>준중형</td>\n",
       "      <td>9</td>\n",
       "    </tr>\n",
       "    <tr>\n",
       "      <th>27</th>\n",
       "      <td>여</td>\n",
       "      <td>20대</td>\n",
       "      <td>중형</td>\n",
       "      <td>20</td>\n",
       "    </tr>\n",
       "    <tr>\n",
       "      <th>28</th>\n",
       "      <td>여</td>\n",
       "      <td>30대</td>\n",
       "      <td>대형</td>\n",
       "      <td>2</td>\n",
       "    </tr>\n",
       "    <tr>\n",
       "      <th>29</th>\n",
       "      <td>여</td>\n",
       "      <td>30대</td>\n",
       "      <td>준중형</td>\n",
       "      <td>3</td>\n",
       "    </tr>\n",
       "    <tr>\n",
       "      <th>30</th>\n",
       "      <td>여</td>\n",
       "      <td>30대</td>\n",
       "      <td>중형</td>\n",
       "      <td>10</td>\n",
       "    </tr>\n",
       "    <tr>\n",
       "      <th>31</th>\n",
       "      <td>여</td>\n",
       "      <td>40대</td>\n",
       "      <td>대형</td>\n",
       "      <td>5</td>\n",
       "    </tr>\n",
       "    <tr>\n",
       "      <th>32</th>\n",
       "      <td>여</td>\n",
       "      <td>40대</td>\n",
       "      <td>준중형</td>\n",
       "      <td>5</td>\n",
       "    </tr>\n",
       "    <tr>\n",
       "      <th>33</th>\n",
       "      <td>여</td>\n",
       "      <td>40대</td>\n",
       "      <td>중형</td>\n",
       "      <td>22</td>\n",
       "    </tr>\n",
       "    <tr>\n",
       "      <th>34</th>\n",
       "      <td>여</td>\n",
       "      <td>50대</td>\n",
       "      <td>대형</td>\n",
       "      <td>6</td>\n",
       "    </tr>\n",
       "    <tr>\n",
       "      <th>35</th>\n",
       "      <td>여</td>\n",
       "      <td>50대</td>\n",
       "      <td>준대형</td>\n",
       "      <td>1</td>\n",
       "    </tr>\n",
       "    <tr>\n",
       "      <th>36</th>\n",
       "      <td>여</td>\n",
       "      <td>50대</td>\n",
       "      <td>준중형</td>\n",
       "      <td>4</td>\n",
       "    </tr>\n",
       "    <tr>\n",
       "      <th>37</th>\n",
       "      <td>여</td>\n",
       "      <td>50대</td>\n",
       "      <td>중형</td>\n",
       "      <td>18</td>\n",
       "    </tr>\n",
       "    <tr>\n",
       "      <th>38</th>\n",
       "      <td>여</td>\n",
       "      <td>60대</td>\n",
       "      <td>대형</td>\n",
       "      <td>7</td>\n",
       "    </tr>\n",
       "    <tr>\n",
       "      <th>39</th>\n",
       "      <td>여</td>\n",
       "      <td>60대</td>\n",
       "      <td>준중형</td>\n",
       "      <td>3</td>\n",
       "    </tr>\n",
       "    <tr>\n",
       "      <th>40</th>\n",
       "      <td>여</td>\n",
       "      <td>60대</td>\n",
       "      <td>중형</td>\n",
       "      <td>15</td>\n",
       "    </tr>\n",
       "    <tr>\n",
       "      <th>41</th>\n",
       "      <td>여</td>\n",
       "      <td>70대</td>\n",
       "      <td>중형</td>\n",
       "      <td>1</td>\n",
       "    </tr>\n",
       "  </tbody>\n",
       "</table>\n",
       "</div>"
      ],
      "text/plain": [
       "   성별  연령대 차량 사이즈  판매량\n",
       "23  여  10대    준중형    1\n",
       "24  여  10대     중형    1\n",
       "25  여  20대     대형    1\n",
       "26  여  20대    준중형    9\n",
       "27  여  20대     중형   20\n",
       "28  여  30대     대형    2\n",
       "29  여  30대    준중형    3\n",
       "30  여  30대     중형   10\n",
       "31  여  40대     대형    5\n",
       "32  여  40대    준중형    5\n",
       "33  여  40대     중형   22\n",
       "34  여  50대     대형    6\n",
       "35  여  50대    준대형    1\n",
       "36  여  50대    준중형    4\n",
       "37  여  50대     중형   18\n",
       "38  여  60대     대형    7\n",
       "39  여  60대    준중형    3\n",
       "40  여  60대     중형   15\n",
       "41  여  70대     중형    1"
      ]
     },
     "execution_count": 34,
     "metadata": {},
     "output_type": "execute_result"
    }
   ],
   "source": [
    "size_female"
   ]
  },
  {
   "cell_type": "code",
   "execution_count": 35,
   "metadata": {},
   "outputs": [
    {
     "data": {
      "image/png": "[encoded data removed]",
      "text/plain": [
       "<Figure size 1200x800 with 1 Axes>"
      ]
     },
     "metadata": {},
     "output_type": "display_data"
    }
   ],
   "source": [
    "# 연령대와 제품별 판매량 합산\n",
    "df_pivot = size_female.pivot_table(index='연령대', columns='차량 사이즈', values='판매량', aggfunc='sum', fill_value=0)\n",
    "\n",
    "# 색상 설정 (Seaborn 팔레트 사용)\n",
    "colors = sb.color_palette(\"Set3\", n_colors=len(df_pivot.columns))\n",
    "\n",
    "# 스택형 막대 그래프 그리기\n",
    "ax = df_pivot.plot(kind='bar', figsize=(12, 8), color=colors)\n",
    "\n",
    "# 그래프 제목과 레이블 설정\n",
    "ax.set_title('연령대별 선호 차량 사이즈 (여)', fontsize=16)\n",
    "ax.set_xlabel('연령대', fontsize=12)\n",
    "ax.set_xticklabels(ax.get_xticklabels(), rotation=0)\n",
    "ax.set_ylabel('판매량', fontsize=12)\n",
    "\n",
    "# 범례 설정\n",
    "plt.legend(title='차량 사이즈', bbox_to_anchor=(1.05, 1), loc='upper left')\n",
    "\n",
    "# 그래프 표시\n",
    "plt.tight_layout()\n",
    "plt.show()"
   ]
  },
  {
   "cell_type": "code",
   "execution_count": null,
   "metadata": {},
   "outputs": [],
   "source": [
    "# 연령대별 선호 차량 유형\n",
    "\n",
    "# 1) 세단이 가장 인기 있음\n",
    "# \t•\t모든 연령대에서 세단의 판매량이 가장 많음.\n",
    "# \t•\t특히 40대에서 가장 높은 판매량을 기록하는데, 이는 경제적 안정성과 실용성을 고려한 선택으로 보임.\n",
    "# \t•\t세단은 승차감이 좋고, 연비와 유지비 측면에서도 효율적이기 때문에 많은 남성이 선호하는 것으로 추정됨.\n",
    "\n",
    "# 2) SUV도 꾸준히 인기\n",
    "# \t•\t30대, 40대, 60대에서 SUV의 선호도가 높게 나타남.\n",
    "# \t•\tSUV는 공간 활용성이 뛰어나고 다양한 환경에서 운전이 가능하여 가족 단위 소비자나 레저 활동을 즐기는 층에서 인기가 많음.\n",
    "# \t•\t다만, 50대에서는 SUV 선호도가 감소하는데, 이는 연비와 유지비 문제 때문일 가능성이 큼.\n",
    "\n",
    "# 3) 해치백은 선호도가 낮음\n",
    "# \t•\t30대와 40대에서 소량 판매되었으며, 다른 연령대에서는 거의 판매되지 않음.\n",
    "# \t•\t해치백은 소형차로서 실용성이 있지만, 공간이 좁고 디자인 면에서 보수적인 소비층에게는 덜 매력적일 수 있음.\n",
    "\n",
    "# 연령대별 선호 차량 크기\n",
    "\n",
    "# 1) 중형차가 가장 인기\n",
    "# \t•\t모든 연령대에서 중형차 판매량이 가장 높음.\n",
    "# \t•\t40대~60대에서 특히 선호도가 높아지는 경향이 있으며, 이는 가족 단위 이동이 많아지는 시기와 관련 있을 것으로 보임.\n",
    "# \t•\t중형차는 세단과 SUV를 포함하여 다양한 선택지가 있어 실용성과 편안함을 동시에 제공함.\n",
    "\n",
    "# 2) 대형차는 40대에서 가장 많이 판매됨\n",
    "# \t•\t40대에서 대형차 판매량이 가장 높음.\n",
    "# \t•\t경제적 여유가 있는 중년층이 대형차를 선호하는 경향이 있으며, 이는 사회적 지위나 안정적인 경제력을 반영하는 소비 패턴일 가능성이 큼.\n",
    "\n",
    "# 3) 준대형과 준중형도 일정 수요 존재\n",
    "# \t•\t30대~50대에서 준중형과 준대형 차량이 꾸준히 판매됨.\n",
    "# \t•\t준중형은 경제성을 고려한 실용적인 선택이며, 준대형은 중형과 대형의 중간 옵션으로 공간과 성능을 모두 고려한 결과로 보임.\n",
    "\n",
    "# 4) 프리미엄 차량은 30대에서 일부 판매\n",
    "# \t•\t프리미엄급 차량은 30대에서 일부 수요가 나타남.\n",
    "# \t•\t이는 젊은 층에서도 고급차를 원하는 소비층이 존재하며, 경제력이 있는 일부 30대가 프리미엄 브랜드를 선호하는 것으로 해석됨.\n",
    "\n",
    "# 종합 분석\n",
    "# \t•\t남성 소비자는 연령이 증가할수록 중형 및 대형 세단을 선호하는 경향이 강함.\n",
    "# \t•\tSUV는 30~40대에서 인기가 많으며, 50대 이후로는 감소하는 패턴을 보임.\n",
    "# \t•\t해치백과 프리미엄 차량의 인기는 상대적으로 낮음, 이는 국내 자동차 시장에서 실용성과 가성비를 중요시하는 소비 경향 때문일 가능성이 큼.\n",
    "# \t•\t중형차는 거의 모든 연령대에서 가장 선호되는 크기로, 공간 활용과 실용성을 고려한 선택이 주를 이룸."
   ]
  }
 ],
 "metadata": {
  "kernelspec": {
   "display_name": "hi",
   "language": "python",
   "name": "python3"
  },
  "language_info": {
   "codemirror_mode": {
    "name": "ipython",
    "version": 3
   },
   "file_extension": ".py",
   "mimetype": "text/x-python",
   "name": "python",
   "nbconvert_exporter": "python",
   "pygments_lexer": "ipython3",
   "version": "3.10.16"
  }
 },
 "nbformat": 4,
 "nbformat_minor": 2
}
