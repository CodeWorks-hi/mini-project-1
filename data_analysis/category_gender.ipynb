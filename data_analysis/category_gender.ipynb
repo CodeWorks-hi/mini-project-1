{
 "cells": [
  {
   "cell_type": "code",
   "execution_count": 1,
   "metadata": {},
   "outputs": [],
   "source": [
    "import pandas as pd"
   ]
  },
  {
   "cell_type": "code",
   "execution_count": 2,
   "metadata": {},
   "outputs": [],
   "source": [
    "import matplotlib.pyplot as plt\n",
    "import seaborn as sb\n",
    "\n",
    "import platform\n",
    "\n",
    "from matplotlib import font_manager, rc\n",
    "plt.rcParams['axes.unicode_minus'] = False\n",
    "\n",
    "if platform.system() == 'Darwin':\n",
    "    rc('font', family='AppleGothic')\n",
    "elif platform.system() == 'Windows':\n",
    "    path = \"c:/Windows/Fonts/malgun.ttf\"\n",
    "    font_name = font_manager.FontProperties(fname=path).get_name()\n",
    "    rc('font', family=font_name)\n",
    "else:\n",
    "    print('Unknown system... sorry~~~~')"
   ]
  },
  {
   "cell_type": "code",
   "execution_count": 3,
   "metadata": {},
   "outputs": [],
   "source": [
    "df=pd.read_csv(\"../data/고객db_전처리.csv\",index_col=0)"
   ]
  },
  {
   "cell_type": "code",
   "execution_count": 4,
   "metadata": {},
   "outputs": [
    {
     "data": {
      "text/html": [
       "<div>\n",
       "<style scoped>\n",
       "    .dataframe tbody tr th:only-of-type {\n",
       "        vertical-align: middle;\n",
       "    }\n",
       "\n",
       "    .dataframe tbody tr th {\n",
       "        vertical-align: top;\n",
       "    }\n",
       "\n",
       "    .dataframe thead th {\n",
       "        text-align: right;\n",
       "    }\n",
       "</style>\n",
       "<table border=\"1\" class=\"dataframe\">\n",
       "  <thead>\n",
       "    <tr style=\"text-align: right;\">\n",
       "      <th></th>\n",
       "      <th>이름</th>\n",
       "      <th>생년월일</th>\n",
       "      <th>현재 나이</th>\n",
       "      <th>연령대</th>\n",
       "      <th>성별</th>\n",
       "      <th>휴대폰 번호</th>\n",
       "      <th>이메일</th>\n",
       "      <th>고객 구분</th>\n",
       "      <th>아이디</th>\n",
       "      <th>가입일</th>\n",
       "      <th>...</th>\n",
       "      <th>최근 구매 시점</th>\n",
       "      <th>최근 구매 요일</th>\n",
       "      <th>마지막 구매 이후 경과 기간</th>\n",
       "      <th>최근 구매 당시 나이</th>\n",
       "      <th>최근 거래 금액</th>\n",
       "      <th>선호 거래 방식</th>\n",
       "      <th>선호 구매 경로</th>\n",
       "      <th>차량 구매 횟수</th>\n",
       "      <th>신차 구매 지수</th>\n",
       "      <th>브랜드 충성도 지수</th>\n",
       "    </tr>\n",
       "    <tr>\n",
       "      <th>연번</th>\n",
       "      <th></th>\n",
       "      <th></th>\n",
       "      <th></th>\n",
       "      <th></th>\n",
       "      <th></th>\n",
       "      <th></th>\n",
       "      <th></th>\n",
       "      <th></th>\n",
       "      <th></th>\n",
       "      <th></th>\n",
       "      <th></th>\n",
       "      <th></th>\n",
       "      <th></th>\n",
       "      <th></th>\n",
       "      <th></th>\n",
       "      <th></th>\n",
       "      <th></th>\n",
       "      <th></th>\n",
       "      <th></th>\n",
       "      <th></th>\n",
       "      <th></th>\n",
       "    </tr>\n",
       "  </thead>\n",
       "  <tbody>\n",
       "    <tr>\n",
       "      <th>1</th>\n",
       "      <td>강주온</td>\n",
       "      <td>2002-03-04</td>\n",
       "      <td>23</td>\n",
       "      <td>20대 중반</td>\n",
       "      <td>남</td>\n",
       "      <td>010-6502-8753</td>\n",
       "      <td>janisi@himedia.co.kr</td>\n",
       "      <td>법인</td>\n",
       "      <td>14798</td>\n",
       "      <td>2023-04-01</td>\n",
       "      <td>...</td>\n",
       "      <td>2분기</td>\n",
       "      <td>평일</td>\n",
       "      <td>350</td>\n",
       "      <td>22</td>\n",
       "      <td>33820000</td>\n",
       "      <td>신용카드</td>\n",
       "      <td>오프라인</td>\n",
       "      <td>1</td>\n",
       "      <td>0.002</td>\n",
       "      <td>0.135</td>\n",
       "    </tr>\n",
       "    <tr>\n",
       "      <th>2</th>\n",
       "      <td>김경수</td>\n",
       "      <td>1983-01-02</td>\n",
       "      <td>42</td>\n",
       "      <td>40대 초반</td>\n",
       "      <td>남</td>\n",
       "      <td>010-1111-2222</td>\n",
       "      <td>kimkyoungsoo31@himedia.co.kr</td>\n",
       "      <td>법인</td>\n",
       "      <td>kyoungsoo031</td>\n",
       "      <td>2025-02-09</td>\n",
       "      <td>...</td>\n",
       "      <td>1분기</td>\n",
       "      <td>평일</td>\n",
       "      <td>38</td>\n",
       "      <td>42</td>\n",
       "      <td>89930000</td>\n",
       "      <td>신용카드</td>\n",
       "      <td>오프라인</td>\n",
       "      <td>5</td>\n",
       "      <td>0.508</td>\n",
       "      <td>0.037</td>\n",
       "    </tr>\n",
       "  </tbody>\n",
       "</table>\n",
       "<p>2 rows × 33 columns</p>\n",
       "</div>"
      ],
      "text/plain": [
       "     이름        생년월일  현재 나이     연령대 성별         휴대폰 번호  \\\n",
       "연번                                                     \n",
       "1   강주온  2002-03-04     23  20대 중반  남  010-6502-8753   \n",
       "2   김경수  1983-01-02     42  40대 초반  남  010-1111-2222   \n",
       "\n",
       "                             이메일 고객 구분           아이디         가입일  ...  \\\n",
       "연번                                                                ...   \n",
       "1           janisi@himedia.co.kr    법인         14798  2023-04-01  ...   \n",
       "2   kimkyoungsoo31@himedia.co.kr    법인  kyoungsoo031  2025-02-09  ...   \n",
       "\n",
       "    최근 구매 시점 최근 구매 요일 마지막 구매 이후 경과 기간  최근 구매 당시 나이  최근 거래 금액  선호 거래 방식  \\\n",
       "연번                                                                       \n",
       "1        2분기       평일             350           22  33820000      신용카드   \n",
       "2        1분기       평일              38           42  89930000      신용카드   \n",
       "\n",
       "   선호 구매 경로 차량 구매 횟수 신차 구매 지수 브랜드 충성도 지수  \n",
       "연번                                        \n",
       "1      오프라인        1    0.002      0.135  \n",
       "2      오프라인        5    0.508      0.037  \n",
       "\n",
       "[2 rows x 33 columns]"
      ]
     },
     "execution_count": 4,
     "metadata": {},
     "output_type": "execute_result"
    }
   ],
   "source": [
    "df.head(2)"
   ]
  },
  {
   "cell_type": "code",
   "execution_count": 29,
   "metadata": {},
   "outputs": [
    {
     "data": {
      "application/vnd.microsoft.datawrangler.viewer.v0+json": {
       "columns": [
        {
         "name": "연번",
         "rawType": "int64",
         "type": "integer"
        },
        {
         "name": "이름",
         "rawType": "object",
         "type": "string"
        },
        {
         "name": "생년월일",
         "rawType": "object",
         "type": "string"
        },
        {
         "name": "현재 나이",
         "rawType": "int64",
         "type": "integer"
        },
        {
         "name": "연령대",
         "rawType": "object",
         "type": "string"
        },
        {
         "name": "성별",
         "rawType": "object",
         "type": "string"
        },
        {
         "name": "휴대폰 번호",
         "rawType": "object",
         "type": "string"
        },
        {
         "name": "이메일",
         "rawType": "object",
         "type": "string"
        },
        {
         "name": "고객 구분",
         "rawType": "object",
         "type": "string"
        },
        {
         "name": "아이디",
         "rawType": "object",
         "type": "string"
        },
        {
         "name": "가입일",
         "rawType": "object",
         "type": "string"
        },
        {
         "name": "가입 이후 경과 기간",
         "rawType": "int64",
         "type": "integer"
        },
        {
         "name": "주소",
         "rawType": "object",
         "type": "string"
        },
        {
         "name": "거주 지역",
         "rawType": "object",
         "type": "string"
        },
        {
         "name": "인구 밀도",
         "rawType": "int64",
         "type": "integer"
        },
        {
         "name": "GDP (조 원)",
         "rawType": "int64",
         "type": "integer"
        },
        {
         "name": "1인당 GDP (만 원)",
         "rawType": "int64",
         "type": "integer"
        },
        {
         "name": "고객 등급",
         "rawType": "object",
         "type": "string"
        },
        {
         "name": "회원가입 이후 구매 이력",
         "rawType": "object",
         "type": "string"
        },
        {
         "name": "최근 구매 제품",
         "rawType": "object",
         "type": "string"
        },
        {
         "name": "차량 사이즈",
         "rawType": "object",
         "type": "string"
        },
        {
         "name": "차량 유형",
         "rawType": "object",
         "type": "string"
        },
        {
         "name": "연료 구분",
         "rawType": "object",
         "type": "string"
        },
        {
         "name": "최근 구매 날짜",
         "rawType": "object",
         "type": "string"
        },
        {
         "name": "최근 구매 시점",
         "rawType": "object",
         "type": "string"
        },
        {
         "name": "최근 구매 요일",
         "rawType": "object",
         "type": "string"
        },
        {
         "name": "마지막 구매 이후 경과 기간",
         "rawType": "int64",
         "type": "integer"
        },
        {
         "name": "최근 구매 당시 나이",
         "rawType": "int64",
         "type": "integer"
        },
        {
         "name": "최근 거래 금액",
         "rawType": "int64",
         "type": "integer"
        },
        {
         "name": "선호 거래 방식",
         "rawType": "object",
         "type": "string"
        },
        {
         "name": "선호 구매 경로",
         "rawType": "object",
         "type": "string"
        },
        {
         "name": "차량 구매 횟수",
         "rawType": "int64",
         "type": "integer"
        },
        {
         "name": "신차 구매 지수",
         "rawType": "float64",
         "type": "float"
        },
        {
         "name": "브랜드 충성도 지수",
         "rawType": "float64",
         "type": "float"
        }
       ],
       "conversionMethod": "pd.DataFrame",
       "ref": "d6cdf883-8830-4355-97ac-c95e75d880f9",
       "rows": [
        [
         "58",
         "서은정",
         "2005-03-04",
         "20",
         "20대 초반",
         "여",
         "032-170-6440",
         "ugim@daum.net",
         "개인",
         "seoyeon90",
         "2024-07-07",
         "256",
         "서울특별시 종로구 청운동 67-89",
         "서울특별시",
         "15533",
         "548",
         "5161",
         "VIP",
         "O",
         "G70 (IK)",
         "중형",
         "세단",
         "휘발유",
         "2024-08-31",
         "3분기",
         "주말",
         "201",
         "19",
         "49330000",
         "계좌이체",
         "온라인",
         "5",
         "0.052",
         "0.241"
        ],
        [
         "71",
         "이정자",
         "2004-03-16",
         "21",
         "20대 초반",
         "여",
         "010-2415-1251",
         "hgim@daum.net",
         "개인",
         "myeongsug84",
         "2024-02-01",
         "413",
         "충청남도 천안시 동남구 성성동 22-3",
         "충청남도 천안시",
         "1036",
         "143",
         "5894",
         "VIP",
         "X",
         "Avante (CN7 N)",
         "준중형",
         "세단",
         "휘발유",
         "2023-08-26",
         "3분기",
         "주말",
         "572",
         "19",
         "40200000",
         "계좌이체",
         "온라인",
         "5",
         "0.019",
         "0.388"
        ]
       ],
       "shape": {
        "columns": 33,
        "rows": 2
       }
      },
      "text/html": [
       "<div>\n",
       "<style scoped>\n",
       "    .dataframe tbody tr th:only-of-type {\n",
       "        vertical-align: middle;\n",
       "    }\n",
       "\n",
       "    .dataframe tbody tr th {\n",
       "        vertical-align: top;\n",
       "    }\n",
       "\n",
       "    .dataframe thead th {\n",
       "        text-align: right;\n",
       "    }\n",
       "</style>\n",
       "<table border=\"1\" class=\"dataframe\">\n",
       "  <thead>\n",
       "    <tr style=\"text-align: right;\">\n",
       "      <th></th>\n",
       "      <th>이름</th>\n",
       "      <th>생년월일</th>\n",
       "      <th>현재 나이</th>\n",
       "      <th>연령대</th>\n",
       "      <th>성별</th>\n",
       "      <th>휴대폰 번호</th>\n",
       "      <th>이메일</th>\n",
       "      <th>고객 구분</th>\n",
       "      <th>아이디</th>\n",
       "      <th>가입일</th>\n",
       "      <th>...</th>\n",
       "      <th>최근 구매 시점</th>\n",
       "      <th>최근 구매 요일</th>\n",
       "      <th>마지막 구매 이후 경과 기간</th>\n",
       "      <th>최근 구매 당시 나이</th>\n",
       "      <th>최근 거래 금액</th>\n",
       "      <th>선호 거래 방식</th>\n",
       "      <th>선호 구매 경로</th>\n",
       "      <th>차량 구매 횟수</th>\n",
       "      <th>신차 구매 지수</th>\n",
       "      <th>브랜드 충성도 지수</th>\n",
       "    </tr>\n",
       "    <tr>\n",
       "      <th>연번</th>\n",
       "      <th></th>\n",
       "      <th></th>\n",
       "      <th></th>\n",
       "      <th></th>\n",
       "      <th></th>\n",
       "      <th></th>\n",
       "      <th></th>\n",
       "      <th></th>\n",
       "      <th></th>\n",
       "      <th></th>\n",
       "      <th></th>\n",
       "      <th></th>\n",
       "      <th></th>\n",
       "      <th></th>\n",
       "      <th></th>\n",
       "      <th></th>\n",
       "      <th></th>\n",
       "      <th></th>\n",
       "      <th></th>\n",
       "      <th></th>\n",
       "      <th></th>\n",
       "    </tr>\n",
       "  </thead>\n",
       "  <tbody>\n",
       "    <tr>\n",
       "      <th>58</th>\n",
       "      <td>서은정</td>\n",
       "      <td>2005-03-04</td>\n",
       "      <td>20</td>\n",
       "      <td>20대 초반</td>\n",
       "      <td>여</td>\n",
       "      <td>032-170-6440</td>\n",
       "      <td>ugim@daum.net</td>\n",
       "      <td>개인</td>\n",
       "      <td>seoyeon90</td>\n",
       "      <td>2024-07-07</td>\n",
       "      <td>...</td>\n",
       "      <td>3분기</td>\n",
       "      <td>주말</td>\n",
       "      <td>201</td>\n",
       "      <td>19</td>\n",
       "      <td>49330000</td>\n",
       "      <td>계좌이체</td>\n",
       "      <td>온라인</td>\n",
       "      <td>5</td>\n",
       "      <td>0.052</td>\n",
       "      <td>0.241</td>\n",
       "    </tr>\n",
       "    <tr>\n",
       "      <th>71</th>\n",
       "      <td>이정자</td>\n",
       "      <td>2004-03-16</td>\n",
       "      <td>21</td>\n",
       "      <td>20대 초반</td>\n",
       "      <td>여</td>\n",
       "      <td>010-2415-1251</td>\n",
       "      <td>hgim@daum.net</td>\n",
       "      <td>개인</td>\n",
       "      <td>myeongsug84</td>\n",
       "      <td>2024-02-01</td>\n",
       "      <td>...</td>\n",
       "      <td>3분기</td>\n",
       "      <td>주말</td>\n",
       "      <td>572</td>\n",
       "      <td>19</td>\n",
       "      <td>40200000</td>\n",
       "      <td>계좌이체</td>\n",
       "      <td>온라인</td>\n",
       "      <td>5</td>\n",
       "      <td>0.019</td>\n",
       "      <td>0.388</td>\n",
       "    </tr>\n",
       "  </tbody>\n",
       "</table>\n",
       "<p>2 rows × 33 columns</p>\n",
       "</div>"
      ],
      "text/plain": [
       "     이름        생년월일  현재 나이     연령대 성별         휴대폰 번호            이메일 고객 구분  \\\n",
       "연번                                                                          \n",
       "58  서은정  2005-03-04     20  20대 초반  여   032-170-6440  ugim@daum.net    개인   \n",
       "71  이정자  2004-03-16     21  20대 초반  여  010-2415-1251  hgim@daum.net    개인   \n",
       "\n",
       "            아이디         가입일  ...  최근 구매 시점 최근 구매 요일 마지막 구매 이후 경과 기간  \\\n",
       "연번                           ...                                      \n",
       "58    seoyeon90  2024-07-07  ...       3분기       주말             201   \n",
       "71  myeongsug84  2024-02-01  ...       3분기       주말             572   \n",
       "\n",
       "    최근 구매 당시 나이  최근 거래 금액  선호 거래 방식 선호 구매 경로 차량 구매 횟수 신차 구매 지수 브랜드 충성도 지수  \n",
       "연번                                                                         \n",
       "58           19  49330000      계좌이체      온라인        5    0.052      0.241  \n",
       "71           19  40200000      계좌이체      온라인        5    0.019      0.388  \n",
       "\n",
       "[2 rows x 33 columns]"
      ]
     },
     "execution_count": 29,
     "metadata": {},
     "output_type": "execute_result"
    }
   ],
   "source": [
    "df[df[\"최근 구매 당시 나이\"]<20]"
   ]
  },
  {
   "cell_type": "code",
   "execution_count": 30,
   "metadata": {},
   "outputs": [
    {
     "data": {
      "text/plain": [
       "14"
      ]
     },
     "execution_count": 30,
     "metadata": {},
     "output_type": "execute_result"
    }
   ],
   "source": [
    "df[\"최근 구매 제품\"].nunique()"
   ]
  },
  {
   "cell_type": "code",
   "execution_count": 31,
   "metadata": {},
   "outputs": [
    {
     "data": {
      "text/plain": [
       "3"
      ]
     },
     "execution_count": 31,
     "metadata": {},
     "output_type": "execute_result"
    }
   ],
   "source": [
    "df[\"차량 유형\"].nunique()"
   ]
  },
  {
   "cell_type": "code",
   "execution_count": 32,
   "metadata": {},
   "outputs": [
    {
     "data": {
      "text/plain": [
       "5"
      ]
     },
     "execution_count": 32,
     "metadata": {},
     "output_type": "execute_result"
    }
   ],
   "source": [
    "df[\"차량 사이즈\"].nunique()"
   ]
  },
  {
   "cell_type": "code",
   "execution_count": 33,
   "metadata": {},
   "outputs": [],
   "source": [
    "# (성별/구매 당시 연령별) (차량 사이즈/차량 유형) 분석\n",
    "# \t→ ex) 여성 20대 30대 40대 의 차량 우선도"
   ]
  },
  {
   "cell_type": "code",
   "execution_count": 9,
   "metadata": {},
   "outputs": [],
   "source": [
    "category_df=df[[\"성별\",\"최근 구매 당시 나이\",\"최근 구매 제품\",\"차량 사이즈\",\"차량 유형\",\"최근 거래 금액\"]]"
   ]
  },
  {
   "cell_type": "code",
   "execution_count": 10,
   "metadata": {},
   "outputs": [
    {
     "name": "stderr",
     "output_type": "stream",
     "text": [
      "/var/folders/6y/dhcn_x315mxfr5mf45wd9ctw0000gp/T/ipykernel_51001/634928100.py:2: SettingWithCopyWarning: \n",
      "A value is trying to be set on a copy of a slice from a DataFrame.\n",
      "Try using .loc[row_indexer,col_indexer] = value instead\n",
      "\n",
      "See the caveats in the documentation: https://pandas.pydata.org/pandas-docs/stable/user_guide/indexing.html#returning-a-view-versus-a-copy\n",
      "  category_df[\"연령대\"] = (df[\"최근 구매 당시 나이\"] // 10 * 10).astype(str) + \"대\"\n"
     ]
    }
   ],
   "source": [
    "# 구매 당시 나이 연령대 구하기\n",
    "category_df[\"연령대\"] = (df[\"최근 구매 당시 나이\"] // 10 * 10).astype(str) + \"대\""
   ]
  },
  {
   "cell_type": "code",
   "execution_count": 14,
   "metadata": {},
   "outputs": [],
   "source": [
    "# 필요 없는 컬럼 삭제\n",
    "category_df=category_df.drop(columns=[\"최근 구매 당시 나이\"])"
   ]
  },
  {
   "cell_type": "code",
   "execution_count": 54,
   "metadata": {},
   "outputs": [],
   "source": [
    "type_df=category_df.groupby([\"성별\",\"연령대\",\"차량 유형\"])[[\"최근 거래 금액\"]].count().reset_index()"
   ]
  },
  {
   "cell_type": "code",
   "execution_count": 61,
   "metadata": {},
   "outputs": [],
   "source": [
    "type_df=type_df.rename(columns={\"최근 거래 금액\":\"판매량\"})"
   ]
  },
  {
   "cell_type": "code",
   "execution_count": 62,
   "metadata": {},
   "outputs": [
    {
     "data": {
      "text/html": [
       "<div>\n",
       "<style scoped>\n",
       "    .dataframe tbody tr th:only-of-type {\n",
       "        vertical-align: middle;\n",
       "    }\n",
       "\n",
       "    .dataframe tbody tr th {\n",
       "        vertical-align: top;\n",
       "    }\n",
       "\n",
       "    .dataframe thead th {\n",
       "        text-align: right;\n",
       "    }\n",
       "</style>\n",
       "<table border=\"1\" class=\"dataframe\">\n",
       "  <thead>\n",
       "    <tr style=\"text-align: right;\">\n",
       "      <th></th>\n",
       "      <th>성별</th>\n",
       "      <th>연령대</th>\n",
       "      <th>차량 유형</th>\n",
       "      <th>판매량</th>\n",
       "    </tr>\n",
       "  </thead>\n",
       "  <tbody>\n",
       "    <tr>\n",
       "      <th>0</th>\n",
       "      <td>남</td>\n",
       "      <td>20대</td>\n",
       "      <td>SUV</td>\n",
       "      <td>12</td>\n",
       "    </tr>\n",
       "    <tr>\n",
       "      <th>1</th>\n",
       "      <td>남</td>\n",
       "      <td>20대</td>\n",
       "      <td>세단</td>\n",
       "      <td>18</td>\n",
       "    </tr>\n",
       "  </tbody>\n",
       "</table>\n",
       "</div>"
      ],
      "text/plain": [
       "  성별  연령대 차량 유형  판매량\n",
       "0  남  20대   SUV   12\n",
       "1  남  20대    세단   18"
      ]
     },
     "execution_count": 62,
     "metadata": {},
     "output_type": "execute_result"
    }
   ],
   "source": [
    "type_df.head(2)"
   ]
  },
  {
   "cell_type": "code",
   "execution_count": 63,
   "metadata": {},
   "outputs": [],
   "source": [
    "type_man=type_df[type_df[\"성별\"]==\"남\"]"
   ]
  },
  {
   "cell_type": "code",
   "execution_count": 68,
   "metadata": {},
   "outputs": [
    {
     "data": {
      "image/png": "[encoded data removed]",
      "text/plain": [
       "<Figure size 1200x800 with 1 Axes>"
      ]
     },
     "metadata": {},
     "output_type": "display_data"
    }
   ],
   "source": [
    "# 연령대와 제품별 판매량 합산\n",
    "df_pivot = type_man.pivot_table(index='연령대', columns='차량 유형', values='판매량', aggfunc='sum', fill_value=0)\n",
    "\n",
    "# 색상 설정 (Seaborn 팔레트 사용)\n",
    "colors = sb.color_palette(\"Set2\", n_colors=len(df_pivot.columns))\n",
    "\n",
    "# 스택형 막대 그래프 그리기 (색상 적용)\n",
    "ax = df_pivot.plot(kind='bar', figsize=(12, 8), color=colors)  # color=colors 추가\n",
    "\n",
    "# 그래프 제목과 레이블 설정\n",
    "ax.set_title('연령대별 선호 차량 유형 (남)', fontsize=16)\n",
    "ax.set_xlabel('연령대', fontsize=12)\n",
    "ax.set_ylabel('판매량', fontsize=12)\n",
    "\n",
    "# 범례 설정\n",
    "plt.legend(title='차량 유형', bbox_to_anchor=(1.05, 1), loc='upper left')\n",
    "\n",
    "# 그래프 표시\n",
    "plt.tight_layout()\n",
    "plt.show()"
   ]
  },
  {
   "cell_type": "code",
   "execution_count": null,
   "metadata": {},
   "outputs": [],
   "source": [
    "# 전반적으로 세단 선호도가 두드러짐\n",
    "# 30대가 되면서 세단 선호도가 약간 주춤하는 경향\n",
    "# 이유가 뭘까?\n",
    "\n",
    "# SUV 선호도는 비교적 고른 분포를 보임\n",
    "# 이유가 뭘까?"
   ]
  },
  {
   "cell_type": "code",
   "execution_count": 69,
   "metadata": {},
   "outputs": [],
   "source": [
    "type_female=type_df[type_df[\"성별\"]==\"여\"]"
   ]
  },
  {
   "cell_type": "code",
   "execution_count": 71,
   "metadata": {},
   "outputs": [
    {
     "data": {
      "text/html": [
       "<div>\n",
       "<style scoped>\n",
       "    .dataframe tbody tr th:only-of-type {\n",
       "        vertical-align: middle;\n",
       "    }\n",
       "\n",
       "    .dataframe tbody tr th {\n",
       "        vertical-align: top;\n",
       "    }\n",
       "\n",
       "    .dataframe thead th {\n",
       "        text-align: right;\n",
       "    }\n",
       "</style>\n",
       "<table border=\"1\" class=\"dataframe\">\n",
       "  <thead>\n",
       "    <tr style=\"text-align: right;\">\n",
       "      <th></th>\n",
       "      <th>성별</th>\n",
       "      <th>연령대</th>\n",
       "      <th>차량 유형</th>\n",
       "      <th>판매량</th>\n",
       "    </tr>\n",
       "  </thead>\n",
       "  <tbody>\n",
       "    <tr>\n",
       "      <th>14</th>\n",
       "      <td>여</td>\n",
       "      <td>10대</td>\n",
       "      <td>세단</td>\n",
       "      <td>2</td>\n",
       "    </tr>\n",
       "    <tr>\n",
       "      <th>15</th>\n",
       "      <td>여</td>\n",
       "      <td>20대</td>\n",
       "      <td>SUV</td>\n",
       "      <td>13</td>\n",
       "    </tr>\n",
       "    <tr>\n",
       "      <th>16</th>\n",
       "      <td>여</td>\n",
       "      <td>20대</td>\n",
       "      <td>세단</td>\n",
       "      <td>15</td>\n",
       "    </tr>\n",
       "    <tr>\n",
       "      <th>17</th>\n",
       "      <td>여</td>\n",
       "      <td>20대</td>\n",
       "      <td>해치백</td>\n",
       "      <td>2</td>\n",
       "    </tr>\n",
       "    <tr>\n",
       "      <th>18</th>\n",
       "      <td>여</td>\n",
       "      <td>30대</td>\n",
       "      <td>SUV</td>\n",
       "      <td>7</td>\n",
       "    </tr>\n",
       "    <tr>\n",
       "      <th>19</th>\n",
       "      <td>여</td>\n",
       "      <td>30대</td>\n",
       "      <td>세단</td>\n",
       "      <td>8</td>\n",
       "    </tr>\n",
       "    <tr>\n",
       "      <th>20</th>\n",
       "      <td>여</td>\n",
       "      <td>40대</td>\n",
       "      <td>SUV</td>\n",
       "      <td>15</td>\n",
       "    </tr>\n",
       "    <tr>\n",
       "      <th>21</th>\n",
       "      <td>여</td>\n",
       "      <td>40대</td>\n",
       "      <td>세단</td>\n",
       "      <td>16</td>\n",
       "    </tr>\n",
       "    <tr>\n",
       "      <th>22</th>\n",
       "      <td>여</td>\n",
       "      <td>40대</td>\n",
       "      <td>해치백</td>\n",
       "      <td>1</td>\n",
       "    </tr>\n",
       "    <tr>\n",
       "      <th>23</th>\n",
       "      <td>여</td>\n",
       "      <td>50대</td>\n",
       "      <td>SUV</td>\n",
       "      <td>12</td>\n",
       "    </tr>\n",
       "    <tr>\n",
       "      <th>24</th>\n",
       "      <td>여</td>\n",
       "      <td>50대</td>\n",
       "      <td>세단</td>\n",
       "      <td>16</td>\n",
       "    </tr>\n",
       "    <tr>\n",
       "      <th>25</th>\n",
       "      <td>여</td>\n",
       "      <td>50대</td>\n",
       "      <td>해치백</td>\n",
       "      <td>1</td>\n",
       "    </tr>\n",
       "    <tr>\n",
       "      <th>26</th>\n",
       "      <td>여</td>\n",
       "      <td>60대</td>\n",
       "      <td>SUV</td>\n",
       "      <td>6</td>\n",
       "    </tr>\n",
       "    <tr>\n",
       "      <th>27</th>\n",
       "      <td>여</td>\n",
       "      <td>60대</td>\n",
       "      <td>세단</td>\n",
       "      <td>19</td>\n",
       "    </tr>\n",
       "    <tr>\n",
       "      <th>28</th>\n",
       "      <td>여</td>\n",
       "      <td>70대</td>\n",
       "      <td>세단</td>\n",
       "      <td>1</td>\n",
       "    </tr>\n",
       "  </tbody>\n",
       "</table>\n",
       "</div>"
      ],
      "text/plain": [
       "   성별  연령대 차량 유형  판매량\n",
       "14  여  10대    세단    2\n",
       "15  여  20대   SUV   13\n",
       "16  여  20대    세단   15\n",
       "17  여  20대   해치백    2\n",
       "18  여  30대   SUV    7\n",
       "19  여  30대    세단    8\n",
       "20  여  40대   SUV   15\n",
       "21  여  40대    세단   16\n",
       "22  여  40대   해치백    1\n",
       "23  여  50대   SUV   12\n",
       "24  여  50대    세단   16\n",
       "25  여  50대   해치백    1\n",
       "26  여  60대   SUV    6\n",
       "27  여  60대    세단   19\n",
       "28  여  70대    세단    1"
      ]
     },
     "execution_count": 71,
     "metadata": {},
     "output_type": "execute_result"
    }
   ],
   "source": [
    "type_female"
   ]
  },
  {
   "cell_type": "code",
   "execution_count": 72,
   "metadata": {},
   "outputs": [
    {
     "data": {
      "image/png": "[encoded data removed]",
      "text/plain": [
       "<Figure size 1200x800 with 1 Axes>"
      ]
     },
     "metadata": {},
     "output_type": "display_data"
    }
   ],
   "source": [
    "# 연령대와 제품별 판매량 합산\n",
    "df_pivot = type_female.pivot_table(index='연령대', columns='차량 유형', values='판매량', aggfunc='sum', fill_value=0)\n",
    "\n",
    "# 색상 설정 (Seaborn 팔레트 사용)\n",
    "colors = sb.color_palette(\"Set2\", n_colors=len(df_pivot.columns))\n",
    "\n",
    "# 스택형 막대 그래프 그리기 (색상 적용)\n",
    "ax = df_pivot.plot(kind='bar', figsize=(12, 8), color=colors)  # color=colors 추가\n",
    "\n",
    "# 그래프 제목과 레이블 설정\n",
    "ax.set_title('연령대별 선호 차량 유형 (여)', fontsize=16)\n",
    "ax.set_xlabel('연령대', fontsize=12)\n",
    "ax.set_ylabel('판매량', fontsize=12)\n",
    "\n",
    "# 범례 설정\n",
    "plt.legend(title='차량 유형', bbox_to_anchor=(1.05, 1), loc='upper left')\n",
    "\n",
    "# 그래프 표시\n",
    "plt.tight_layout()\n",
    "plt.show()"
   ]
  },
  {
   "cell_type": "code",
   "execution_count": null,
   "metadata": {},
   "outputs": [],
   "source": [
    "# 남성과 비슷하게 전반적으로 세단 선호도가 두드러짐\n",
    "\n",
    "# 60대가 되면서 세단 선호도가 매우 높아지는 양상\n",
    "# 이유가 뭘까?\n",
    "\n",
    "# SUV 역시 세단과 비슷한 선호도를 보임\n",
    "# 이유가 뭘까?\n",
    "\n",
    "# 30대에 차량 판매량이 급감\n",
    "# 이유가 뭘까?\n",
    "\n",
    "# 남성과 다르게 20대의 차량 구매량이 적음\n",
    "# 이유가 뭘까?"
   ]
  },
  {
   "cell_type": "code",
   "execution_count": null,
   "metadata": {},
   "outputs": [],
   "source": []
  },
  {
   "cell_type": "code",
   "execution_count": null,
   "metadata": {},
   "outputs": [],
   "source": [
    "# 성별/나이별 차량 사이즈 분석"
   ]
  },
  {
   "cell_type": "code",
   "execution_count": 15,
   "metadata": {},
   "outputs": [
    {
     "data": {
      "text/html": [
       "<div>\n",
       "<style scoped>\n",
       "    .dataframe tbody tr th:only-of-type {\n",
       "        vertical-align: middle;\n",
       "    }\n",
       "\n",
       "    .dataframe tbody tr th {\n",
       "        vertical-align: top;\n",
       "    }\n",
       "\n",
       "    .dataframe thead th {\n",
       "        text-align: right;\n",
       "    }\n",
       "</style>\n",
       "<table border=\"1\" class=\"dataframe\">\n",
       "  <thead>\n",
       "    <tr style=\"text-align: right;\">\n",
       "      <th></th>\n",
       "      <th>성별</th>\n",
       "      <th>최근 구매 제품</th>\n",
       "      <th>차량 사이즈</th>\n",
       "      <th>차량 유형</th>\n",
       "      <th>최근 거래 금액</th>\n",
       "      <th>연령대</th>\n",
       "    </tr>\n",
       "    <tr>\n",
       "      <th>연번</th>\n",
       "      <th></th>\n",
       "      <th></th>\n",
       "      <th></th>\n",
       "      <th></th>\n",
       "      <th></th>\n",
       "      <th></th>\n",
       "    </tr>\n",
       "  </thead>\n",
       "  <tbody>\n",
       "    <tr>\n",
       "      <th>1</th>\n",
       "      <td>남</td>\n",
       "      <td>Avante (CN7 N)</td>\n",
       "      <td>준중형</td>\n",
       "      <td>세단</td>\n",
       "      <td>33820000</td>\n",
       "      <td>20대</td>\n",
       "    </tr>\n",
       "    <tr>\n",
       "      <th>2</th>\n",
       "      <td>남</td>\n",
       "      <td>G80 (RG3)</td>\n",
       "      <td>대형</td>\n",
       "      <td>세단</td>\n",
       "      <td>89930000</td>\n",
       "      <td>40대</td>\n",
       "    </tr>\n",
       "  </tbody>\n",
       "</table>\n",
       "</div>"
      ],
      "text/plain": [
       "   성별        최근 구매 제품 차량 사이즈 차량 유형  최근 거래 금액  연령대\n",
       "연번                                               \n",
       "1   남  Avante (CN7 N)    준중형    세단  33820000  20대\n",
       "2   남       G80 (RG3)     대형    세단  89930000  40대"
      ]
     },
     "execution_count": 15,
     "metadata": {},
     "output_type": "execute_result"
    }
   ],
   "source": [
    "category_df.head(2)"
   ]
  },
  {
   "cell_type": "code",
   "execution_count": 17,
   "metadata": {},
   "outputs": [],
   "source": [
    "# 성별/ 연령대/ 차량 사이즈/ 거래금액\n",
    "size_df=category_df[[\"성별\",\"연령대\",\"차량 사이즈\",\"최근 거래 금액\"]]"
   ]
  },
  {
   "cell_type": "code",
   "execution_count": 19,
   "metadata": {},
   "outputs": [
    {
     "data": {
      "text/html": [
       "<div>\n",
       "<style scoped>\n",
       "    .dataframe tbody tr th:only-of-type {\n",
       "        vertical-align: middle;\n",
       "    }\n",
       "\n",
       "    .dataframe tbody tr th {\n",
       "        vertical-align: top;\n",
       "    }\n",
       "\n",
       "    .dataframe thead th {\n",
       "        text-align: right;\n",
       "    }\n",
       "</style>\n",
       "<table border=\"1\" class=\"dataframe\">\n",
       "  <thead>\n",
       "    <tr style=\"text-align: right;\">\n",
       "      <th></th>\n",
       "      <th>성별</th>\n",
       "      <th>연령대</th>\n",
       "      <th>차량 사이즈</th>\n",
       "      <th>최근 거래 금액</th>\n",
       "    </tr>\n",
       "    <tr>\n",
       "      <th>연번</th>\n",
       "      <th></th>\n",
       "      <th></th>\n",
       "      <th></th>\n",
       "      <th></th>\n",
       "    </tr>\n",
       "  </thead>\n",
       "  <tbody>\n",
       "    <tr>\n",
       "      <th>1</th>\n",
       "      <td>남</td>\n",
       "      <td>20대</td>\n",
       "      <td>준중형</td>\n",
       "      <td>33820000</td>\n",
       "    </tr>\n",
       "    <tr>\n",
       "      <th>2</th>\n",
       "      <td>남</td>\n",
       "      <td>40대</td>\n",
       "      <td>대형</td>\n",
       "      <td>89930000</td>\n",
       "    </tr>\n",
       "  </tbody>\n",
       "</table>\n",
       "</div>"
      ],
      "text/plain": [
       "   성별  연령대 차량 사이즈  최근 거래 금액\n",
       "연번                         \n",
       "1   남  20대    준중형  33820000\n",
       "2   남  40대     대형  89930000"
      ]
     },
     "execution_count": 19,
     "metadata": {},
     "output_type": "execute_result"
    }
   ],
   "source": [
    "size_df.head(2)"
   ]
  },
  {
   "cell_type": "code",
   "execution_count": 41,
   "metadata": {},
   "outputs": [],
   "source": [
    "# 남성과 나이, 차량 사이즈로 그룹화 하고 거래 금액으로 판매량 컬럼 만들기\n",
    "size_df=size_df.groupby([\"성별\",\"연령대\",\"차량 사이즈\"])[[\"최근 거래 금액\"]].count().reset_index()"
   ]
  },
  {
   "cell_type": "code",
   "execution_count": 42,
   "metadata": {},
   "outputs": [],
   "source": [
    "# 컬럼 이름 변경\n",
    "size_df=size_df.rename(columns={\"최근 거래 금액\":\"판매량\"})"
   ]
  },
  {
   "cell_type": "code",
   "execution_count": 43,
   "metadata": {},
   "outputs": [],
   "source": [
    "# 남성만 가져오기\n",
    "size_man=size_df[size_df[\"성별\"]==\"남\"]"
   ]
  },
  {
   "cell_type": "code",
   "execution_count": 44,
   "metadata": {},
   "outputs": [
    {
     "data": {
      "text/html": [
       "<div>\n",
       "<style scoped>\n",
       "    .dataframe tbody tr th:only-of-type {\n",
       "        vertical-align: middle;\n",
       "    }\n",
       "\n",
       "    .dataframe tbody tr th {\n",
       "        vertical-align: top;\n",
       "    }\n",
       "\n",
       "    .dataframe thead th {\n",
       "        text-align: right;\n",
       "    }\n",
       "</style>\n",
       "<table border=\"1\" class=\"dataframe\">\n",
       "  <thead>\n",
       "    <tr style=\"text-align: right;\">\n",
       "      <th></th>\n",
       "      <th>성별</th>\n",
       "      <th>연령대</th>\n",
       "      <th>차량 사이즈</th>\n",
       "      <th>판매량</th>\n",
       "    </tr>\n",
       "  </thead>\n",
       "  <tbody>\n",
       "    <tr>\n",
       "      <th>0</th>\n",
       "      <td>남</td>\n",
       "      <td>20대</td>\n",
       "      <td>대형</td>\n",
       "      <td>6</td>\n",
       "    </tr>\n",
       "    <tr>\n",
       "      <th>1</th>\n",
       "      <td>남</td>\n",
       "      <td>20대</td>\n",
       "      <td>준대형</td>\n",
       "      <td>2</td>\n",
       "    </tr>\n",
       "  </tbody>\n",
       "</table>\n",
       "</div>"
      ],
      "text/plain": [
       "  성별  연령대 차량 사이즈  판매량\n",
       "0  남  20대     대형    6\n",
       "1  남  20대    준대형    2"
      ]
     },
     "execution_count": 44,
     "metadata": {},
     "output_type": "execute_result"
    }
   ],
   "source": [
    "size_man.head(2)"
   ]
  },
  {
   "cell_type": "code",
   "execution_count": null,
   "metadata": {},
   "outputs": [
    {
     "data": {
      "image/png": "[encoded data removed]",
      "text/plain": [
       "<Figure size 1200x800 with 1 Axes>"
      ]
     },
     "metadata": {},
     "output_type": "display_data"
    }
   ],
   "source": [
    "# 연령대와 제품별 판매량 합산\n",
    "df_pivot = size_man.pivot_table(index='연령대', columns='차량 사이즈', values='판매량', aggfunc='sum', fill_value=0)\n",
    "\n",
    "# 색상 설정 (Seaborn 팔레트 사용)\n",
    "colors = sb.color_palette(\"Set3\", n_colors=len(df_pivot.columns))\n",
    "\n",
    "# 스택형 막대 그래프 그리기\n",
    "ax = df_pivot.plot(kind='bar', figsize=(12, 8), color=colors)\n",
    "\n",
    "# 그래프 제목과 레이블 설정\n",
    "ax.set_title('연령대별 선호 차량 사이즈 (남)', fontsize=16)\n",
    "ax.set_xlabel('연령대', fontsize=12)\n",
    "ax.set_ylabel('판매량', fontsize=12)\n",
    "\n",
    "# 범례 설정\n",
    "plt.legend(title='차량 사이즈', bbox_to_anchor=(1.05, 1), loc='upper left')\n",
    "\n",
    "# 그래프 표시\n",
    "plt.tight_layout()\n",
    "plt.show()"
   ]
  },
  {
   "cell_type": "code",
   "execution_count": null,
   "metadata": {},
   "outputs": [],
   "source": []
  },
  {
   "cell_type": "code",
   "execution_count": 74,
   "metadata": {},
   "outputs": [],
   "source": [
    "# 여성만 가져오기\n",
    "size_female=size_df[size_df[\"성별\"]==\"여\"]"
   ]
  },
  {
   "cell_type": "code",
   "execution_count": 75,
   "metadata": {},
   "outputs": [
    {
     "data": {
      "text/html": [
       "<div>\n",
       "<style scoped>\n",
       "    .dataframe tbody tr th:only-of-type {\n",
       "        vertical-align: middle;\n",
       "    }\n",
       "\n",
       "    .dataframe tbody tr th {\n",
       "        vertical-align: top;\n",
       "    }\n",
       "\n",
       "    .dataframe thead th {\n",
       "        text-align: right;\n",
       "    }\n",
       "</style>\n",
       "<table border=\"1\" class=\"dataframe\">\n",
       "  <thead>\n",
       "    <tr style=\"text-align: right;\">\n",
       "      <th></th>\n",
       "      <th>성별</th>\n",
       "      <th>연령대</th>\n",
       "      <th>차량 사이즈</th>\n",
       "      <th>판매량</th>\n",
       "    </tr>\n",
       "  </thead>\n",
       "  <tbody>\n",
       "    <tr>\n",
       "      <th>23</th>\n",
       "      <td>여</td>\n",
       "      <td>10대</td>\n",
       "      <td>준중형</td>\n",
       "      <td>1</td>\n",
       "    </tr>\n",
       "    <tr>\n",
       "      <th>24</th>\n",
       "      <td>여</td>\n",
       "      <td>10대</td>\n",
       "      <td>중형</td>\n",
       "      <td>1</td>\n",
       "    </tr>\n",
       "    <tr>\n",
       "      <th>25</th>\n",
       "      <td>여</td>\n",
       "      <td>20대</td>\n",
       "      <td>대형</td>\n",
       "      <td>1</td>\n",
       "    </tr>\n",
       "    <tr>\n",
       "      <th>26</th>\n",
       "      <td>여</td>\n",
       "      <td>20대</td>\n",
       "      <td>준중형</td>\n",
       "      <td>9</td>\n",
       "    </tr>\n",
       "    <tr>\n",
       "      <th>27</th>\n",
       "      <td>여</td>\n",
       "      <td>20대</td>\n",
       "      <td>중형</td>\n",
       "      <td>20</td>\n",
       "    </tr>\n",
       "    <tr>\n",
       "      <th>28</th>\n",
       "      <td>여</td>\n",
       "      <td>30대</td>\n",
       "      <td>대형</td>\n",
       "      <td>2</td>\n",
       "    </tr>\n",
       "    <tr>\n",
       "      <th>29</th>\n",
       "      <td>여</td>\n",
       "      <td>30대</td>\n",
       "      <td>준중형</td>\n",
       "      <td>3</td>\n",
       "    </tr>\n",
       "    <tr>\n",
       "      <th>30</th>\n",
       "      <td>여</td>\n",
       "      <td>30대</td>\n",
       "      <td>중형</td>\n",
       "      <td>10</td>\n",
       "    </tr>\n",
       "    <tr>\n",
       "      <th>31</th>\n",
       "      <td>여</td>\n",
       "      <td>40대</td>\n",
       "      <td>대형</td>\n",
       "      <td>5</td>\n",
       "    </tr>\n",
       "    <tr>\n",
       "      <th>32</th>\n",
       "      <td>여</td>\n",
       "      <td>40대</td>\n",
       "      <td>준중형</td>\n",
       "      <td>5</td>\n",
       "    </tr>\n",
       "    <tr>\n",
       "      <th>33</th>\n",
       "      <td>여</td>\n",
       "      <td>40대</td>\n",
       "      <td>중형</td>\n",
       "      <td>22</td>\n",
       "    </tr>\n",
       "    <tr>\n",
       "      <th>34</th>\n",
       "      <td>여</td>\n",
       "      <td>50대</td>\n",
       "      <td>대형</td>\n",
       "      <td>6</td>\n",
       "    </tr>\n",
       "    <tr>\n",
       "      <th>35</th>\n",
       "      <td>여</td>\n",
       "      <td>50대</td>\n",
       "      <td>준대형</td>\n",
       "      <td>1</td>\n",
       "    </tr>\n",
       "    <tr>\n",
       "      <th>36</th>\n",
       "      <td>여</td>\n",
       "      <td>50대</td>\n",
       "      <td>준중형</td>\n",
       "      <td>4</td>\n",
       "    </tr>\n",
       "    <tr>\n",
       "      <th>37</th>\n",
       "      <td>여</td>\n",
       "      <td>50대</td>\n",
       "      <td>중형</td>\n",
       "      <td>18</td>\n",
       "    </tr>\n",
       "    <tr>\n",
       "      <th>38</th>\n",
       "      <td>여</td>\n",
       "      <td>60대</td>\n",
       "      <td>대형</td>\n",
       "      <td>7</td>\n",
       "    </tr>\n",
       "    <tr>\n",
       "      <th>39</th>\n",
       "      <td>여</td>\n",
       "      <td>60대</td>\n",
       "      <td>준중형</td>\n",
       "      <td>3</td>\n",
       "    </tr>\n",
       "    <tr>\n",
       "      <th>40</th>\n",
       "      <td>여</td>\n",
       "      <td>60대</td>\n",
       "      <td>중형</td>\n",
       "      <td>15</td>\n",
       "    </tr>\n",
       "    <tr>\n",
       "      <th>41</th>\n",
       "      <td>여</td>\n",
       "      <td>70대</td>\n",
       "      <td>중형</td>\n",
       "      <td>1</td>\n",
       "    </tr>\n",
       "  </tbody>\n",
       "</table>\n",
       "</div>"
      ],
      "text/plain": [
       "   성별  연령대 차량 사이즈  판매량\n",
       "23  여  10대    준중형    1\n",
       "24  여  10대     중형    1\n",
       "25  여  20대     대형    1\n",
       "26  여  20대    준중형    9\n",
       "27  여  20대     중형   20\n",
       "28  여  30대     대형    2\n",
       "29  여  30대    준중형    3\n",
       "30  여  30대     중형   10\n",
       "31  여  40대     대형    5\n",
       "32  여  40대    준중형    5\n",
       "33  여  40대     중형   22\n",
       "34  여  50대     대형    6\n",
       "35  여  50대    준대형    1\n",
       "36  여  50대    준중형    4\n",
       "37  여  50대     중형   18\n",
       "38  여  60대     대형    7\n",
       "39  여  60대    준중형    3\n",
       "40  여  60대     중형   15\n",
       "41  여  70대     중형    1"
      ]
     },
     "execution_count": 75,
     "metadata": {},
     "output_type": "execute_result"
    }
   ],
   "source": [
    "size_female"
   ]
  },
  {
   "cell_type": "code",
   "execution_count": 76,
   "metadata": {},
   "outputs": [
    {
     "data": {
      "image/png": "[encoded data removed]",
      "text/plain": [
       "<Figure size 1200x800 with 1 Axes>"
      ]
     },
     "metadata": {},
     "output_type": "display_data"
    }
   ],
   "source": [
    "# 연령대와 제품별 판매량 합산\n",
    "df_pivot = size_female.pivot_table(index='연령대', columns='차량 사이즈', values='판매량', aggfunc='sum', fill_value=0)\n",
    "\n",
    "# 색상 설정 (Seaborn 팔레트 사용)\n",
    "colors = sb.color_palette(\"Set3\", n_colors=len(df_pivot.columns))\n",
    "\n",
    "# 스택형 막대 그래프 그리기\n",
    "ax = df_pivot.plot(kind='bar', figsize=(12, 8), color=colors)\n",
    "\n",
    "# 그래프 제목과 레이블 설정\n",
    "ax.set_title('연령대별 선호 차량 사이즈 (여)', fontsize=16)\n",
    "ax.set_xlabel('연령대', fontsize=12)\n",
    "ax.set_ylabel('판매량', fontsize=12)\n",
    "\n",
    "# 범례 설정\n",
    "plt.legend(title='차량 사이즈', bbox_to_anchor=(1.05, 1), loc='upper left')\n",
    "\n",
    "# 그래프 표시\n",
    "plt.tight_layout()\n",
    "plt.show()"
   ]
  },
  {
   "cell_type": "code",
   "execution_count": null,
   "metadata": {},
   "outputs": [],
   "source": []
  }
 ],
 "metadata": {
  "kernelspec": {
   "display_name": "hi",
   "language": "python",
   "name": "python3"
  },
  "language_info": {
   "codemirror_mode": {
    "name": "ipython",
    "version": 3
   },
   "file_extension": ".py",
   "mimetype": "text/x-python",
   "name": "python",
   "nbconvert_exporter": "python",
   "pygments_lexer": "ipython3",
   "version": "3.10.16"
  }
 },
 "nbformat": 4,
 "nbformat_minor": 2
}
