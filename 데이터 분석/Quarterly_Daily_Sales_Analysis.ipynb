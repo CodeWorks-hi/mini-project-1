{
 "cells": [
  {
   "cell_type": "code",
   "execution_count": 1,
   "metadata": {
    "executionInfo": {
     "elapsed": 2,
     "status": "ok",
     "timestamp": 1741940293513,
     "user": {
      "displayName": "한성현",
      "userId": "01354754736659999008"
     },
     "user_tz": -540
    },
    "id": "ahRqVZpuknxc"
   },
   "outputs": [],
   "source": [
    "import pandas as pd, numpy as np, matplotlib.pyplot as plt, seaborn as sb"
   ]
  },
  {
   "cell_type": "code",
   "execution_count": 2,
   "metadata": {
    "colab": {
     "base_uri": "https://localhost:8080/"
    },
    "executionInfo": {
     "elapsed": 47,
     "status": "ok",
     "timestamp": 1741940310679,
     "user": {
      "displayName": "한성현",
      "userId": "01354754736659999008"
     },
     "user_tz": -540
    },
    "id": "V7ssAINPu6ny",
    "outputId": "499352ad-1388-4fe4-dfac-a7abd767a2ad"
   },
   "outputs": [],
   "source": [
    "%matplotlib inline\n",
    "\n",
    "import platform\n",
    "\n",
    "from matplotlib import font_manager, rc\n",
    "plt.rcParams['axes.unicode_minus'] = False\n",
    "\n",
    "if platform.system() == 'Darwin':\n",
    "    rc('font', family='AppleGothic')\n",
    "elif platform.system() == 'Windows':\n",
    "    path = \"c:/Windows/Fonts/malgun.ttf\"\n",
    "    font_name = font_manager.FontProperties(fname=path).get_name()\n",
    "    rc('font', family=font_name)\n",
    "else:\n",
    "    print('Unknown system... sorry~~~~')"
   ]
  },
  {
   "cell_type": "code",
   "execution_count": 3,
   "metadata": {
    "executionInfo": {
     "elapsed": 27,
     "status": "ok",
     "timestamp": 1741931112181,
     "user": {
      "displayName": "한성현",
      "userId": "01354754736659999008"
     },
     "user_tz": -540
    },
    "id": "Cst0dLEjkxR8"
   },
   "outputs": [],
   "source": [
    "df = pd.read_csv(\"data/고객db_전처리.csv\")"
   ]
  },
  {
   "cell_type": "code",
   "execution_count": 24,
   "metadata": {
    "colab": {
     "base_uri": "https://localhost:8080/",
     "height": 806
    },
    "executionInfo": {
     "elapsed": 157,
     "status": "ok",
     "timestamp": 1741931114103,
     "user": {
      "displayName": "한성현",
      "userId": "01354754736659999008"
     },
     "user_tz": -540
    },
    "id": "H6GJv-5gkxPV",
    "outputId": "7a5f086f-2a34-4f2c-e53e-637140cc7f39"
   },
   "outputs": [
    {
     "data": {
      "application/vnd.google.colaboratory.intrinsic+json": {
       "type": "dataframe",
       "variable_name": "df"
      },
      "text/html": [
       "\n",
       "  <div id=\"df-ce59f40b-0fa3-44d9-b339-1f075c82f613\" class=\"colab-df-container\">\n",
       "    <div>\n",
       "<style scoped>\n",
       "    .dataframe tbody tr th:only-of-type {\n",
       "        vertical-align: middle;\n",
       "    }\n",
       "\n",
       "    .dataframe tbody tr th {\n",
       "        vertical-align: top;\n",
       "    }\n",
       "\n",
       "    .dataframe thead th {\n",
       "        text-align: right;\n",
       "    }\n",
       "</style>\n",
       "<table border=\"1\" class=\"dataframe\">\n",
       "  <thead>\n",
       "    <tr style=\"text-align: right;\">\n",
       "      <th></th>\n",
       "      <th>연번</th>\n",
       "      <th>이름</th>\n",
       "      <th>생년월일</th>\n",
       "      <th>현재 나이</th>\n",
       "      <th>연령대</th>\n",
       "      <th>성별</th>\n",
       "      <th>휴대폰 번호</th>\n",
       "      <th>이메일</th>\n",
       "      <th>고객 구분</th>\n",
       "      <th>아이디</th>\n",
       "      <th>...</th>\n",
       "      <th>최근 구매 시점</th>\n",
       "      <th>최근 구매 요일</th>\n",
       "      <th>마지막 구매 이후 경과 기간</th>\n",
       "      <th>최근 구매 당시 나이</th>\n",
       "      <th>최근 거래 금액</th>\n",
       "      <th>선호 거래 방식</th>\n",
       "      <th>선호 구매 경로</th>\n",
       "      <th>차량 구매 횟수</th>\n",
       "      <th>신차 구매 지수</th>\n",
       "      <th>브랜드 충성도 지수</th>\n",
       "    </tr>\n",
       "  </thead>\n",
       "  <tbody>\n",
       "    <tr>\n",
       "      <th>0</th>\n",
       "      <td>1</td>\n",
       "      <td>강주온</td>\n",
       "      <td>2002-03-04</td>\n",
       "      <td>23</td>\n",
       "      <td>20대</td>\n",
       "      <td>남</td>\n",
       "      <td>010-6502-8753</td>\n",
       "      <td>janisi@himedia.co.kr</td>\n",
       "      <td>법인</td>\n",
       "      <td>14798</td>\n",
       "      <td>...</td>\n",
       "      <td>2분기</td>\n",
       "      <td>평일</td>\n",
       "      <td>350</td>\n",
       "      <td>22</td>\n",
       "      <td>40920000</td>\n",
       "      <td>신용카드</td>\n",
       "      <td>오프라인</td>\n",
       "      <td>1</td>\n",
       "      <td>0.002</td>\n",
       "      <td>0.135</td>\n",
       "    </tr>\n",
       "    <tr>\n",
       "      <th>1</th>\n",
       "      <td>2</td>\n",
       "      <td>김경수</td>\n",
       "      <td>1983-01-02</td>\n",
       "      <td>42</td>\n",
       "      <td>40대</td>\n",
       "      <td>남</td>\n",
       "      <td>010-1111-2222</td>\n",
       "      <td>kimkyoungsoo31@himedia.co.kr</td>\n",
       "      <td>법인</td>\n",
       "      <td>kyoungsoo031</td>\n",
       "      <td>...</td>\n",
       "      <td>1분기</td>\n",
       "      <td>평일</td>\n",
       "      <td>38</td>\n",
       "      <td>42</td>\n",
       "      <td>86750000</td>\n",
       "      <td>신용카드</td>\n",
       "      <td>오프라인</td>\n",
       "      <td>5</td>\n",
       "      <td>0.508</td>\n",
       "      <td>0.037</td>\n",
       "    </tr>\n",
       "    <tr>\n",
       "      <th>2</th>\n",
       "      <td>3</td>\n",
       "      <td>김다은</td>\n",
       "      <td>1999-05-02</td>\n",
       "      <td>26</td>\n",
       "      <td>20대</td>\n",
       "      <td>여</td>\n",
       "      <td>010-6789-0123</td>\n",
       "      <td>kimdaeun26@himedia.co.kr</td>\n",
       "      <td>법인</td>\n",
       "      <td>daeun026</td>\n",
       "      <td>...</td>\n",
       "      <td>1분기</td>\n",
       "      <td>평일</td>\n",
       "      <td>10</td>\n",
       "      <td>26</td>\n",
       "      <td>69540000</td>\n",
       "      <td>계좌이체</td>\n",
       "      <td>오프라인</td>\n",
       "      <td>1</td>\n",
       "      <td>0.161</td>\n",
       "      <td>0.004</td>\n",
       "    </tr>\n",
       "    <tr>\n",
       "      <th>3</th>\n",
       "      <td>4</td>\n",
       "      <td>김민수</td>\n",
       "      <td>1960-07-01</td>\n",
       "      <td>65</td>\n",
       "      <td>60대</td>\n",
       "      <td>남</td>\n",
       "      <td>010-1234-5678</td>\n",
       "      <td>kimminsu1@himedia.co.kr</td>\n",
       "      <td>법인</td>\n",
       "      <td>minsu001</td>\n",
       "      <td>...</td>\n",
       "      <td>2분기</td>\n",
       "      <td>평일</td>\n",
       "      <td>689</td>\n",
       "      <td>63</td>\n",
       "      <td>48510000</td>\n",
       "      <td>현금</td>\n",
       "      <td>오프라인</td>\n",
       "      <td>1</td>\n",
       "      <td>0.002</td>\n",
       "      <td>0.130</td>\n",
       "    </tr>\n",
       "    <tr>\n",
       "      <th>4</th>\n",
       "      <td>5</td>\n",
       "      <td>김승현</td>\n",
       "      <td>1970-03-02</td>\n",
       "      <td>55</td>\n",
       "      <td>50대</td>\n",
       "      <td>남</td>\n",
       "      <td>010-0123-4567</td>\n",
       "      <td>kimseunghyun20@himedia.co.kr</td>\n",
       "      <td>법인</td>\n",
       "      <td>seunghyun020</td>\n",
       "      <td>...</td>\n",
       "      <td>4분기</td>\n",
       "      <td>주말</td>\n",
       "      <td>536</td>\n",
       "      <td>53</td>\n",
       "      <td>50330000</td>\n",
       "      <td>신용카드</td>\n",
       "      <td>오프라인</td>\n",
       "      <td>1</td>\n",
       "      <td>0.004</td>\n",
       "      <td>0.103</td>\n",
       "    </tr>\n",
       "    <tr>\n",
       "      <th>...</th>\n",
       "      <td>...</td>\n",
       "      <td>...</td>\n",
       "      <td>...</td>\n",
       "      <td>...</td>\n",
       "      <td>...</td>\n",
       "      <td>...</td>\n",
       "      <td>...</td>\n",
       "      <td>...</td>\n",
       "      <td>...</td>\n",
       "      <td>...</td>\n",
       "      <td>...</td>\n",
       "      <td>...</td>\n",
       "      <td>...</td>\n",
       "      <td>...</td>\n",
       "      <td>...</td>\n",
       "      <td>...</td>\n",
       "      <td>...</td>\n",
       "      <td>...</td>\n",
       "      <td>...</td>\n",
       "      <td>...</td>\n",
       "      <td>...</td>\n",
       "    </tr>\n",
       "    <tr>\n",
       "      <th>286</th>\n",
       "      <td>288</td>\n",
       "      <td>신시우</td>\n",
       "      <td>1958-07-11</td>\n",
       "      <td>67</td>\n",
       "      <td>60대</td>\n",
       "      <td>여</td>\n",
       "      <td>042-207-6955</td>\n",
       "      <td>gyeonghyi78@gmail.com</td>\n",
       "      <td>개인</td>\n",
       "      <td>jihungim</td>\n",
       "      <td>...</td>\n",
       "      <td>4분기</td>\n",
       "      <td>평일</td>\n",
       "      <td>90</td>\n",
       "      <td>66</td>\n",
       "      <td>88050000</td>\n",
       "      <td>신용카드</td>\n",
       "      <td>온라인</td>\n",
       "      <td>2</td>\n",
       "      <td>0.011</td>\n",
       "      <td>0.280</td>\n",
       "    </tr>\n",
       "    <tr>\n",
       "      <th>287</th>\n",
       "      <td>289</td>\n",
       "      <td>최춘자</td>\n",
       "      <td>1976-06-27</td>\n",
       "      <td>49</td>\n",
       "      <td>40대</td>\n",
       "      <td>여</td>\n",
       "      <td>031-170-7739</td>\n",
       "      <td>hancunja@yu.kr</td>\n",
       "      <td>개인</td>\n",
       "      <td>jinho50</td>\n",
       "      <td>...</td>\n",
       "      <td>3분기</td>\n",
       "      <td>평일</td>\n",
       "      <td>574</td>\n",
       "      <td>47</td>\n",
       "      <td>39990000</td>\n",
       "      <td>현금</td>\n",
       "      <td>오프라인</td>\n",
       "      <td>3</td>\n",
       "      <td>0.047</td>\n",
       "      <td>0.116</td>\n",
       "    </tr>\n",
       "    <tr>\n",
       "      <th>288</th>\n",
       "      <td>290</td>\n",
       "      <td>차서준</td>\n",
       "      <td>1968-01-22</td>\n",
       "      <td>57</td>\n",
       "      <td>50대</td>\n",
       "      <td>여</td>\n",
       "      <td>064-741-3740</td>\n",
       "      <td>qgim@simryujo.com</td>\n",
       "      <td>개인</td>\n",
       "      <td>jihun41</td>\n",
       "      <td>...</td>\n",
       "      <td>1분기</td>\n",
       "      <td>평일</td>\n",
       "      <td>433</td>\n",
       "      <td>56</td>\n",
       "      <td>71120000</td>\n",
       "      <td>계좌이체</td>\n",
       "      <td>온라인</td>\n",
       "      <td>2</td>\n",
       "      <td>0.005</td>\n",
       "      <td>0.304</td>\n",
       "    </tr>\n",
       "    <tr>\n",
       "      <th>289</th>\n",
       "      <td>291</td>\n",
       "      <td>안정희</td>\n",
       "      <td>1984-01-10</td>\n",
       "      <td>41</td>\n",
       "      <td>40대</td>\n",
       "      <td>남</td>\n",
       "      <td>051-406-1803</td>\n",
       "      <td>donghyeonbae@joyunson.com</td>\n",
       "      <td>개인</td>\n",
       "      <td>yeongil47</td>\n",
       "      <td>...</td>\n",
       "      <td>1분기</td>\n",
       "      <td>평일</td>\n",
       "      <td>415</td>\n",
       "      <td>40</td>\n",
       "      <td>83040000</td>\n",
       "      <td>현금</td>\n",
       "      <td>온라인</td>\n",
       "      <td>2</td>\n",
       "      <td>0.006</td>\n",
       "      <td>0.268</td>\n",
       "    </tr>\n",
       "    <tr>\n",
       "      <th>290</th>\n",
       "      <td>292</td>\n",
       "      <td>최민수</td>\n",
       "      <td>1960-06-24</td>\n",
       "      <td>65</td>\n",
       "      <td>60대</td>\n",
       "      <td>여</td>\n",
       "      <td>041-028-3477</td>\n",
       "      <td>ihyejin@jusighoesa.kr</td>\n",
       "      <td>개인</td>\n",
       "      <td>gyeongsugson</td>\n",
       "      <td>...</td>\n",
       "      <td>2분기</td>\n",
       "      <td>평일</td>\n",
       "      <td>265</td>\n",
       "      <td>64</td>\n",
       "      <td>87740000</td>\n",
       "      <td>현금</td>\n",
       "      <td>오프라인</td>\n",
       "      <td>5</td>\n",
       "      <td>0.012</td>\n",
       "      <td>0.811</td>\n",
       "    </tr>\n",
       "  </tbody>\n",
       "</table>\n",
       "<p>291 rows × 34 columns</p>\n",
       "</div>\n",
       "    <div class=\"colab-df-buttons\">\n",
       "\n",
       "  <div class=\"colab-df-container\">\n",
       "    <button class=\"colab-df-convert\" onclick=\"convertToInteractive('df-ce59f40b-0fa3-44d9-b339-1f075c82f613')\"\n",
       "            title=\"Convert this dataframe to an interactive table.\"\n",
       "            style=\"display:none;\">\n",
       "\n",
       "  <svg xmlns=\"http://www.w3.org/2000/svg\" height=\"24px\" viewBox=\"0 -960 960 960\">\n",
       "    <path d=\"M120-120v-720h720v720H120Zm60-500h600v-160H180v160Zm220 220h160v-160H400v160Zm0 220h160v-160H400v160ZM180-400h160v-160H180v160Zm440 0h160v-160H620v160ZM180-180h160v-160H180v160Zm440 0h160v-160H620v160Z\"/>\n",
       "  </svg>\n",
       "    </button>\n",
       "\n",
       "  <style>\n",
       "    .colab-df-container {\n",
       "      display:flex;\n",
       "      gap: 12px;\n",
       "    }\n",
       "\n",
       "    .colab-df-convert {\n",
       "      background-color: #E8F0FE;\n",
       "      border: none;\n",
       "      border-radius: 50%;\n",
       "      cursor: pointer;\n",
       "      display: none;\n",
       "      fill: #1967D2;\n",
       "      height: 32px;\n",
       "      padding: 0 0 0 0;\n",
       "      width: 32px;\n",
       "    }\n",
       "\n",
       "    .colab-df-convert:hover {\n",
       "      background-color: #E2EBFA;\n",
       "      box-shadow: 0px 1px 2px rgba(60, 64, 67, 0.3), 0px 1px 3px 1px rgba(60, 64, 67, 0.15);\n",
       "      fill: #174EA6;\n",
       "    }\n",
       "\n",
       "    .colab-df-buttons div {\n",
       "      margin-bottom: 4px;\n",
       "    }\n",
       "\n",
       "    [theme=dark] .colab-df-convert {\n",
       "      background-color: #3B4455;\n",
       "      fill: #D2E3FC;\n",
       "    }\n",
       "\n",
       "    [theme=dark] .colab-df-convert:hover {\n",
       "      background-color: #434B5C;\n",
       "      box-shadow: 0px 1px 3px 1px rgba(0, 0, 0, 0.15);\n",
       "      filter: drop-shadow(0px 1px 2px rgba(0, 0, 0, 0.3));\n",
       "      fill: #FFFFFF;\n",
       "    }\n",
       "  </style>\n",
       "\n",
       "    <script>\n",
       "      const buttonEl =\n",
       "        document.querySelector('#df-ce59f40b-0fa3-44d9-b339-1f075c82f613 button.colab-df-convert');\n",
       "      buttonEl.style.display =\n",
       "        google.colab.kernel.accessAllowed ? 'block' : 'none';\n",
       "\n",
       "      async function convertToInteractive(key) {\n",
       "        const element = document.querySelector('#df-ce59f40b-0fa3-44d9-b339-1f075c82f613');\n",
       "        const dataTable =\n",
       "          await google.colab.kernel.invokeFunction('convertToInteractive',\n",
       "                                                    [key], {});\n",
       "        if (!dataTable) return;\n",
       "\n",
       "        const docLinkHtml = 'Like what you see? Visit the ' +\n",
       "          '<a target=\"_blank\" href=https://colab.research.google.com/notebooks/data_table.ipynb>data table notebook</a>'\n",
       "          + ' to learn more about interactive tables.';\n",
       "        element.innerHTML = '';\n",
       "        dataTable['output_type'] = 'display_data';\n",
       "        await google.colab.output.renderOutput(dataTable, element);\n",
       "        const docLink = document.createElement('div');\n",
       "        docLink.innerHTML = docLinkHtml;\n",
       "        element.appendChild(docLink);\n",
       "      }\n",
       "    </script>\n",
       "  </div>\n",
       "\n",
       "\n",
       "<div id=\"df-db55afb0-cb96-4c9f-9878-c6ad3ba94744\">\n",
       "  <button class=\"colab-df-quickchart\" onclick=\"quickchart('df-db55afb0-cb96-4c9f-9878-c6ad3ba94744')\"\n",
       "            title=\"Suggest charts\"\n",
       "            style=\"display:none;\">\n",
       "\n",
       "<svg xmlns=\"http://www.w3.org/2000/svg\" height=\"24px\"viewBox=\"0 0 24 24\"\n",
       "     width=\"24px\">\n",
       "    <g>\n",
       "        <path d=\"M19 3H5c-1.1 0-2 .9-2 2v14c0 1.1.9 2 2 2h14c1.1 0 2-.9 2-2V5c0-1.1-.9-2-2-2zM9 17H7v-7h2v7zm4 0h-2V7h2v10zm4 0h-2v-4h2v4z\"/>\n",
       "    </g>\n",
       "</svg>\n",
       "  </button>\n",
       "\n",
       "<style>\n",
       "  .colab-df-quickchart {\n",
       "      --bg-color: #E8F0FE;\n",
       "      --fill-color: #1967D2;\n",
       "      --hover-bg-color: #E2EBFA;\n",
       "      --hover-fill-color: #174EA6;\n",
       "      --disabled-fill-color: #AAA;\n",
       "      --disabled-bg-color: #DDD;\n",
       "  }\n",
       "\n",
       "  [theme=dark] .colab-df-quickchart {\n",
       "      --bg-color: #3B4455;\n",
       "      --fill-color: #D2E3FC;\n",
       "      --hover-bg-color: #434B5C;\n",
       "      --hover-fill-color: #FFFFFF;\n",
       "      --disabled-bg-color: #3B4455;\n",
       "      --disabled-fill-color: #666;\n",
       "  }\n",
       "\n",
       "  .colab-df-quickchart {\n",
       "    background-color: var(--bg-color);\n",
       "    border: none;\n",
       "    border-radius: 50%;\n",
       "    cursor: pointer;\n",
       "    display: none;\n",
       "    fill: var(--fill-color);\n",
       "    height: 32px;\n",
       "    padding: 0;\n",
       "    width: 32px;\n",
       "  }\n",
       "\n",
       "  .colab-df-quickchart:hover {\n",
       "    background-color: var(--hover-bg-color);\n",
       "    box-shadow: 0 1px 2px rgba(60, 64, 67, 0.3), 0 1px 3px 1px rgba(60, 64, 67, 0.15);\n",
       "    fill: var(--button-hover-fill-color);\n",
       "  }\n",
       "\n",
       "  .colab-df-quickchart-complete:disabled,\n",
       "  .colab-df-quickchart-complete:disabled:hover {\n",
       "    background-color: var(--disabled-bg-color);\n",
       "    fill: var(--disabled-fill-color);\n",
       "    box-shadow: none;\n",
       "  }\n",
       "\n",
       "  .colab-df-spinner {\n",
       "    border: 2px solid var(--fill-color);\n",
       "    border-color: transparent;\n",
       "    border-bottom-color: var(--fill-color);\n",
       "    animation:\n",
       "      spin 1s steps(1) infinite;\n",
       "  }\n",
       "\n",
       "  @keyframes spin {\n",
       "    0% {\n",
       "      border-color: transparent;\n",
       "      border-bottom-color: var(--fill-color);\n",
       "      border-left-color: var(--fill-color);\n",
       "    }\n",
       "    20% {\n",
       "      border-color: transparent;\n",
       "      border-left-color: var(--fill-color);\n",
       "      border-top-color: var(--fill-color);\n",
       "    }\n",
       "    30% {\n",
       "      border-color: transparent;\n",
       "      border-left-color: var(--fill-color);\n",
       "      border-top-color: var(--fill-color);\n",
       "      border-right-color: var(--fill-color);\n",
       "    }\n",
       "    40% {\n",
       "      border-color: transparent;\n",
       "      border-right-color: var(--fill-color);\n",
       "      border-top-color: var(--fill-color);\n",
       "    }\n",
       "    60% {\n",
       "      border-color: transparent;\n",
       "      border-right-color: var(--fill-color);\n",
       "    }\n",
       "    80% {\n",
       "      border-color: transparent;\n",
       "      border-right-color: var(--fill-color);\n",
       "      border-bottom-color: var(--fill-color);\n",
       "    }\n",
       "    90% {\n",
       "      border-color: transparent;\n",
       "      border-bottom-color: var(--fill-color);\n",
       "    }\n",
       "  }\n",
       "</style>\n",
       "\n",
       "  <script>\n",
       "    async function quickchart(key) {\n",
       "      const quickchartButtonEl =\n",
       "        document.querySelector('#' + key + ' button');\n",
       "      quickchartButtonEl.disabled = true;  // To prevent multiple clicks.\n",
       "      quickchartButtonEl.classList.add('colab-df-spinner');\n",
       "      try {\n",
       "        const charts = await google.colab.kernel.invokeFunction(\n",
       "            'suggestCharts', [key], {});\n",
       "      } catch (error) {\n",
       "        console.error('Error during call to suggestCharts:', error);\n",
       "      }\n",
       "      quickchartButtonEl.classList.remove('colab-df-spinner');\n",
       "      quickchartButtonEl.classList.add('colab-df-quickchart-complete');\n",
       "    }\n",
       "    (() => {\n",
       "      let quickchartButtonEl =\n",
       "        document.querySelector('#df-db55afb0-cb96-4c9f-9878-c6ad3ba94744 button');\n",
       "      quickchartButtonEl.style.display =\n",
       "        google.colab.kernel.accessAllowed ? 'block' : 'none';\n",
       "    })();\n",
       "  </script>\n",
       "</div>\n",
       "\n",
       "  <div id=\"id_95a04f4f-12b5-4ade-8f33-51343101944d\">\n",
       "    <style>\n",
       "      .colab-df-generate {\n",
       "        background-color: #E8F0FE;\n",
       "        border: none;\n",
       "        border-radius: 50%;\n",
       "        cursor: pointer;\n",
       "        display: none;\n",
       "        fill: #1967D2;\n",
       "        height: 32px;\n",
       "        padding: 0 0 0 0;\n",
       "        width: 32px;\n",
       "      }\n",
       "\n",
       "      .colab-df-generate:hover {\n",
       "        background-color: #E2EBFA;\n",
       "        box-shadow: 0px 1px 2px rgba(60, 64, 67, 0.3), 0px 1px 3px 1px rgba(60, 64, 67, 0.15);\n",
       "        fill: #174EA6;\n",
       "      }\n",
       "\n",
       "      [theme=dark] .colab-df-generate {\n",
       "        background-color: #3B4455;\n",
       "        fill: #D2E3FC;\n",
       "      }\n",
       "\n",
       "      [theme=dark] .colab-df-generate:hover {\n",
       "        background-color: #434B5C;\n",
       "        box-shadow: 0px 1px 3px 1px rgba(0, 0, 0, 0.15);\n",
       "        filter: drop-shadow(0px 1px 2px rgba(0, 0, 0, 0.3));\n",
       "        fill: #FFFFFF;\n",
       "      }\n",
       "    </style>\n",
       "    <button class=\"colab-df-generate\" onclick=\"generateWithVariable('df')\"\n",
       "            title=\"Generate code using this dataframe.\"\n",
       "            style=\"display:none;\">\n",
       "\n",
       "  <svg xmlns=\"http://www.w3.org/2000/svg\" height=\"24px\"viewBox=\"0 0 24 24\"\n",
       "       width=\"24px\">\n",
       "    <path d=\"M7,19H8.4L18.45,9,17,7.55,7,17.6ZM5,21V16.75L18.45,3.32a2,2,0,0,1,2.83,0l1.4,1.43a1.91,1.91,0,0,1,.58,1.4,1.91,1.91,0,0,1-.58,1.4L9.25,21ZM18.45,9,17,7.55Zm-12,3A5.31,5.31,0,0,0,4.9,8.1,5.31,5.31,0,0,0,1,6.5,5.31,5.31,0,0,0,4.9,4.9,5.31,5.31,0,0,0,6.5,1,5.31,5.31,0,0,0,8.1,4.9,5.31,5.31,0,0,0,12,6.5,5.46,5.46,0,0,0,6.5,12Z\"/>\n",
       "  </svg>\n",
       "    </button>\n",
       "    <script>\n",
       "      (() => {\n",
       "      const buttonEl =\n",
       "        document.querySelector('#id_95a04f4f-12b5-4ade-8f33-51343101944d button.colab-df-generate');\n",
       "      buttonEl.style.display =\n",
       "        google.colab.kernel.accessAllowed ? 'block' : 'none';\n",
       "\n",
       "      buttonEl.onclick = () => {\n",
       "        google.colab.notebook.generateWithVariable('df');\n",
       "      }\n",
       "      })();\n",
       "    </script>\n",
       "  </div>\n",
       "\n",
       "    </div>\n",
       "  </div>\n"
      ],
      "text/plain": [
       "      연번   이름        생년월일  현재 나이  연령대 성별         휴대폰 번호  \\\n",
       "0      1  강주온  2002-03-04     23  20대  남  010-6502-8753   \n",
       "1      2  김경수  1983-01-02     42  40대  남  010-1111-2222   \n",
       "2      3  김다은  1999-05-02     26  20대  여  010-6789-0123   \n",
       "3      4  김민수  1960-07-01     65  60대  남  010-1234-5678   \n",
       "4      5  김승현  1970-03-02     55  50대  남  010-0123-4567   \n",
       "..   ...  ...         ...    ...  ... ..            ...   \n",
       "286  288  신시우  1958-07-11     67  60대  여   042-207-6955   \n",
       "287  289  최춘자  1976-06-27     49  40대  여   031-170-7739   \n",
       "288  290  차서준  1968-01-22     57  50대  여   064-741-3740   \n",
       "289  291  안정희  1984-01-10     41  40대  남   051-406-1803   \n",
       "290  292  최민수  1960-06-24     65  60대  여   041-028-3477   \n",
       "\n",
       "                              이메일 고객 구분           아이디  ... 최근 구매 시점  최근 구매 요일  \\\n",
       "0            janisi@himedia.co.kr    법인         14798  ...      2분기        평일   \n",
       "1    kimkyoungsoo31@himedia.co.kr    법인  kyoungsoo031  ...      1분기        평일   \n",
       "2        kimdaeun26@himedia.co.kr    법인      daeun026  ...      1분기        평일   \n",
       "3         kimminsu1@himedia.co.kr    법인      minsu001  ...      2분기        평일   \n",
       "4    kimseunghyun20@himedia.co.kr    법인  seunghyun020  ...      4분기        주말   \n",
       "..                            ...   ...           ...  ...      ...       ...   \n",
       "286         gyeonghyi78@gmail.com    개인      jihungim  ...      4분기        평일   \n",
       "287                hancunja@yu.kr    개인       jinho50  ...      3분기        평일   \n",
       "288             qgim@simryujo.com    개인       jihun41  ...      1분기        평일   \n",
       "289     donghyeonbae@joyunson.com    개인     yeongil47  ...      1분기        평일   \n",
       "290         ihyejin@jusighoesa.kr    개인  gyeongsugson  ...      2분기        평일   \n",
       "\n",
       "    마지막 구매 이후 경과 기간 최근 구매 당시 나이  최근 거래 금액  선호 거래 방식  선호 구매 경로 차량 구매 횟수  \\\n",
       "0               350          22  40920000      신용카드      오프라인        1   \n",
       "1                38          42  86750000      신용카드      오프라인        5   \n",
       "2                10          26  69540000      계좌이체      오프라인        1   \n",
       "3               689          63  48510000        현금      오프라인        1   \n",
       "4               536          53  50330000      신용카드      오프라인        1   \n",
       "..              ...         ...       ...       ...       ...      ...   \n",
       "286              90          66  88050000      신용카드       온라인        2   \n",
       "287             574          47  39990000        현금      오프라인        3   \n",
       "288             433          56  71120000      계좌이체       온라인        2   \n",
       "289             415          40  83040000        현금       온라인        2   \n",
       "290             265          64  87740000        현금      오프라인        5   \n",
       "\n",
       "    신차 구매 지수 브랜드 충성도 지수  \n",
       "0      0.002      0.135  \n",
       "1      0.508      0.037  \n",
       "2      0.161      0.004  \n",
       "3      0.002      0.130  \n",
       "4      0.004      0.103  \n",
       "..       ...        ...  \n",
       "286    0.011      0.280  \n",
       "287    0.047      0.116  \n",
       "288    0.005      0.304  \n",
       "289    0.006      0.268  \n",
       "290    0.012      0.811  \n",
       "\n",
       "[291 rows x 34 columns]"
      ]
     },
     "execution_count": 24,
     "metadata": {},
     "output_type": "execute_result"
    }
   ],
   "source": [
    "df"
   ]
  },
  {
   "cell_type": "code",
   "execution_count": 4,
   "metadata": {
    "colab": {
     "base_uri": "https://localhost:8080/",
     "height": 424
    },
    "executionInfo": {
     "elapsed": 103,
     "status": "ok",
     "timestamp": 1741932446807,
     "user": {
      "displayName": "한성현",
      "userId": "01354754736659999008"
     },
     "user_tz": -540
    },
    "id": "PWjtynZu0cJS",
    "outputId": "de43d088-ca2f-44f6-f84f-c17fe5b66570"
   },
   "outputs": [
    {
     "data": {
      "text/html": [
       "<div>\n",
       "<style scoped>\n",
       "    .dataframe tbody tr th:only-of-type {\n",
       "        vertical-align: middle;\n",
       "    }\n",
       "\n",
       "    .dataframe tbody tr th {\n",
       "        vertical-align: top;\n",
       "    }\n",
       "\n",
       "    .dataframe thead th {\n",
       "        text-align: right;\n",
       "    }\n",
       "</style>\n",
       "<table border=\"1\" class=\"dataframe\">\n",
       "  <thead>\n",
       "    <tr style=\"text-align: right;\">\n",
       "      <th></th>\n",
       "      <th>최근 구매 시점</th>\n",
       "      <th>최근 구매 요일</th>\n",
       "      <th>최근 거래 금액</th>\n",
       "    </tr>\n",
       "  </thead>\n",
       "  <tbody>\n",
       "    <tr>\n",
       "      <th>0</th>\n",
       "      <td>2분기</td>\n",
       "      <td>평일</td>\n",
       "      <td>40920000</td>\n",
       "    </tr>\n",
       "    <tr>\n",
       "      <th>1</th>\n",
       "      <td>1분기</td>\n",
       "      <td>평일</td>\n",
       "      <td>86750000</td>\n",
       "    </tr>\n",
       "    <tr>\n",
       "      <th>2</th>\n",
       "      <td>1분기</td>\n",
       "      <td>평일</td>\n",
       "      <td>69540000</td>\n",
       "    </tr>\n",
       "    <tr>\n",
       "      <th>3</th>\n",
       "      <td>2분기</td>\n",
       "      <td>평일</td>\n",
       "      <td>48510000</td>\n",
       "    </tr>\n",
       "    <tr>\n",
       "      <th>4</th>\n",
       "      <td>4분기</td>\n",
       "      <td>주말</td>\n",
       "      <td>50330000</td>\n",
       "    </tr>\n",
       "    <tr>\n",
       "      <th>...</th>\n",
       "      <td>...</td>\n",
       "      <td>...</td>\n",
       "      <td>...</td>\n",
       "    </tr>\n",
       "    <tr>\n",
       "      <th>286</th>\n",
       "      <td>4분기</td>\n",
       "      <td>평일</td>\n",
       "      <td>88050000</td>\n",
       "    </tr>\n",
       "    <tr>\n",
       "      <th>287</th>\n",
       "      <td>3분기</td>\n",
       "      <td>평일</td>\n",
       "      <td>39990000</td>\n",
       "    </tr>\n",
       "    <tr>\n",
       "      <th>288</th>\n",
       "      <td>1분기</td>\n",
       "      <td>평일</td>\n",
       "      <td>71120000</td>\n",
       "    </tr>\n",
       "    <tr>\n",
       "      <th>289</th>\n",
       "      <td>1분기</td>\n",
       "      <td>평일</td>\n",
       "      <td>83040000</td>\n",
       "    </tr>\n",
       "    <tr>\n",
       "      <th>290</th>\n",
       "      <td>2분기</td>\n",
       "      <td>평일</td>\n",
       "      <td>87740000</td>\n",
       "    </tr>\n",
       "  </tbody>\n",
       "</table>\n",
       "<p>291 rows × 3 columns</p>\n",
       "</div>"
      ],
      "text/plain": [
       "    최근 구매 시점 최근 구매 요일  최근 거래 금액\n",
       "0        2분기       평일  40920000\n",
       "1        1분기       평일  86750000\n",
       "2        1분기       평일  69540000\n",
       "3        2분기       평일  48510000\n",
       "4        4분기       주말  50330000\n",
       "..       ...      ...       ...\n",
       "286      4분기       평일  88050000\n",
       "287      3분기       평일  39990000\n",
       "288      1분기       평일  71120000\n",
       "289      1분기       평일  83040000\n",
       "290      2분기       평일  87740000\n",
       "\n",
       "[291 rows x 3 columns]"
      ]
     },
     "execution_count": 4,
     "metadata": {},
     "output_type": "execute_result"
    }
   ],
   "source": [
    "df[['최근 구매 시점', '최근 구매 요일', '최근 거래 금액']]"
   ]
  },
  {
   "cell_type": "code",
   "execution_count": 5,
   "metadata": {
    "colab": {
     "base_uri": "https://localhost:8080/",
     "height": 241
    },
    "executionInfo": {
     "elapsed": 6,
     "status": "ok",
     "timestamp": 1741938579938,
     "user": {
      "displayName": "한성현",
      "userId": "01354754736659999008"
     },
     "user_tz": -540
    },
    "id": "hN-_DpWXM8eu",
    "outputId": "f7cd48e5-a855-403e-bf0d-b15a6d5e475e"
   },
   "outputs": [
    {
     "data": {
      "text/plain": [
       "최근 구매 시점\n",
       "1분기    80\n",
       "2분기    60\n",
       "3분기    75\n",
       "4분기    76\n",
       "Name: 최근 거래 금액, dtype: int64"
      ]
     },
     "execution_count": 5,
     "metadata": {},
     "output_type": "execute_result"
    }
   ],
   "source": [
    "# groupby 하기\n",
    "# 최근 구매 시점을 groupby 하고, 최근 구매 시점에 대한 최근 거래 금액 count 하기\n",
    "df.groupby(['최근 구매 시점'])['최근 거래 금액'].count()"
   ]
  },
  {
   "cell_type": "code",
   "execution_count": 6,
   "metadata": {
    "colab": {
     "base_uri": "https://localhost:8080/",
     "height": 178
    },
    "executionInfo": {
     "elapsed": 33,
     "status": "ok",
     "timestamp": 1741935055956,
     "user": {
      "displayName": "한성현",
      "userId": "01354754736659999008"
     },
     "user_tz": -540
    },
    "id": "5VakZ73jM8cd",
    "outputId": "c08e8d5b-c04b-4439-e3c8-e934c73846b6"
   },
   "outputs": [
    {
     "data": {
      "text/plain": [
       "최근 구매 요일\n",
       "주말     70\n",
       "평일    221\n",
       "Name: 최근 거래 금액, dtype: int64"
      ]
     },
     "execution_count": 6,
     "metadata": {},
     "output_type": "execute_result"
    }
   ],
   "source": [
    "# 최근 구매 요일 groupby 하고, 최근 구매 요일에 대한 최근 거래 금액 count 하기\n",
    "df.groupby(['최근 구매 요일'])['최근 거래 금액'].count()"
   ]
  },
  {
   "cell_type": "code",
   "execution_count": 7,
   "metadata": {
    "colab": {
     "base_uri": "https://localhost:8080/",
     "height": 366
    },
    "executionInfo": {
     "elapsed": 35,
     "status": "ok",
     "timestamp": 1741932908796,
     "user": {
      "displayName": "한성현",
      "userId": "01354754736659999008"
     },
     "user_tz": -540
    },
    "id": "J2VuKalHkxMn",
    "outputId": "1cf309ee-c65c-446e-a286-71972d4f3d4e"
   },
   "outputs": [
    {
     "data": {
      "text/plain": [
       "최근 구매 시점  최근 구매 요일\n",
       "1분기       주말          22\n",
       "          평일          58\n",
       "2분기       주말          15\n",
       "          평일          45\n",
       "3분기       주말          17\n",
       "          평일          58\n",
       "4분기       주말          16\n",
       "          평일          60\n",
       "Name: 최근 거래 금액, dtype: int64"
      ]
     },
     "execution_count": 7,
     "metadata": {},
     "output_type": "execute_result"
    }
   ],
   "source": [
    "# 따로따로 했을 시 정상적으로 출력되니까 합쳐서 출력하기\n",
    "df.groupby(['최근 구매 시점', '최근 구매 요일'])['최근 거래 금액'].count()"
   ]
  },
  {
   "cell_type": "code",
   "execution_count": 8,
   "metadata": {
    "colab": {
     "base_uri": "https://localhost:8080/",
     "height": 300
    },
    "executionInfo": {
     "elapsed": 64,
     "status": "ok",
     "timestamp": 1741935062728,
     "user": {
      "displayName": "한성현",
      "userId": "01354754736659999008"
     },
     "user_tz": -540
    },
    "id": "bflLZhvtkxGl",
    "outputId": "db960c83-e546-4a0d-ddb6-c9fce9f3215e"
   },
   "outputs": [
    {
     "data": {
      "text/html": [
       "<div>\n",
       "<style scoped>\n",
       "    .dataframe tbody tr th:only-of-type {\n",
       "        vertical-align: middle;\n",
       "    }\n",
       "\n",
       "    .dataframe tbody tr th {\n",
       "        vertical-align: top;\n",
       "    }\n",
       "\n",
       "    .dataframe thead th {\n",
       "        text-align: right;\n",
       "    }\n",
       "</style>\n",
       "<table border=\"1\" class=\"dataframe\">\n",
       "  <thead>\n",
       "    <tr style=\"text-align: right;\">\n",
       "      <th></th>\n",
       "      <th>최근 구매 시점</th>\n",
       "      <th>최근 구매 요일</th>\n",
       "      <th>최근 거래 금액</th>\n",
       "    </tr>\n",
       "  </thead>\n",
       "  <tbody>\n",
       "    <tr>\n",
       "      <th>0</th>\n",
       "      <td>1분기</td>\n",
       "      <td>주말</td>\n",
       "      <td>22</td>\n",
       "    </tr>\n",
       "    <tr>\n",
       "      <th>1</th>\n",
       "      <td>1분기</td>\n",
       "      <td>평일</td>\n",
       "      <td>58</td>\n",
       "    </tr>\n",
       "    <tr>\n",
       "      <th>2</th>\n",
       "      <td>2분기</td>\n",
       "      <td>주말</td>\n",
       "      <td>15</td>\n",
       "    </tr>\n",
       "    <tr>\n",
       "      <th>3</th>\n",
       "      <td>2분기</td>\n",
       "      <td>평일</td>\n",
       "      <td>45</td>\n",
       "    </tr>\n",
       "    <tr>\n",
       "      <th>4</th>\n",
       "      <td>3분기</td>\n",
       "      <td>주말</td>\n",
       "      <td>17</td>\n",
       "    </tr>\n",
       "    <tr>\n",
       "      <th>5</th>\n",
       "      <td>3분기</td>\n",
       "      <td>평일</td>\n",
       "      <td>58</td>\n",
       "    </tr>\n",
       "    <tr>\n",
       "      <th>6</th>\n",
       "      <td>4분기</td>\n",
       "      <td>주말</td>\n",
       "      <td>16</td>\n",
       "    </tr>\n",
       "    <tr>\n",
       "      <th>7</th>\n",
       "      <td>4분기</td>\n",
       "      <td>평일</td>\n",
       "      <td>60</td>\n",
       "    </tr>\n",
       "  </tbody>\n",
       "</table>\n",
       "</div>"
      ],
      "text/plain": [
       "  최근 구매 시점 최근 구매 요일  최근 거래 금액\n",
       "0      1분기       주말        22\n",
       "1      1분기       평일        58\n",
       "2      2분기       주말        15\n",
       "3      2분기       평일        45\n",
       "4      3분기       주말        17\n",
       "5      3분기       평일        58\n",
       "6      4분기       주말        16\n",
       "7      4분기       평일        60"
      ]
     },
     "execution_count": 8,
     "metadata": {},
     "output_type": "execute_result"
    }
   ],
   "source": [
    "# reset()_index() 활용하여 DataFrame 으로 변환하기\n",
    "df.groupby(['최근 구매 시점', '최근 구매 요일'])['최근 거래 금액'].count().reset_index()"
   ]
  },
  {
   "cell_type": "code",
   "execution_count": 9,
   "metadata": {
    "executionInfo": {
     "elapsed": 10,
     "status": "ok",
     "timestamp": 1741935064032,
     "user": {
      "displayName": "한성현",
      "userId": "01354754736659999008"
     },
     "user_tz": -540
    },
    "id": "DH8iVIhukxDk"
   },
   "outputs": [],
   "source": [
    "result = df.groupby(['최근 구매 시점', '최근 구매 요일'])['최근 거래 금액'].count().reset_index()"
   ]
  },
  {
   "cell_type": "code",
   "execution_count": 10,
   "metadata": {
    "colab": {
     "base_uri": "https://localhost:8080/",
     "height": 300
    },
    "executionInfo": {
     "elapsed": 57,
     "status": "ok",
     "timestamp": 1741935065328,
     "user": {
      "displayName": "한성현",
      "userId": "01354754736659999008"
     },
     "user_tz": -540
    },
    "id": "hUkaCv-OkxAt",
    "outputId": "0311aa1a-a2b2-4196-fffd-ab875c0212f4"
   },
   "outputs": [
    {
     "data": {
      "text/html": [
       "<div>\n",
       "<style scoped>\n",
       "    .dataframe tbody tr th:only-of-type {\n",
       "        vertical-align: middle;\n",
       "    }\n",
       "\n",
       "    .dataframe tbody tr th {\n",
       "        vertical-align: top;\n",
       "    }\n",
       "\n",
       "    .dataframe thead th {\n",
       "        text-align: right;\n",
       "    }\n",
       "</style>\n",
       "<table border=\"1\" class=\"dataframe\">\n",
       "  <thead>\n",
       "    <tr style=\"text-align: right;\">\n",
       "      <th></th>\n",
       "      <th>최근 구매 시점</th>\n",
       "      <th>최근 구매 요일</th>\n",
       "      <th>최근 거래 금액</th>\n",
       "    </tr>\n",
       "  </thead>\n",
       "  <tbody>\n",
       "    <tr>\n",
       "      <th>0</th>\n",
       "      <td>1분기</td>\n",
       "      <td>주말</td>\n",
       "      <td>22</td>\n",
       "    </tr>\n",
       "    <tr>\n",
       "      <th>1</th>\n",
       "      <td>1분기</td>\n",
       "      <td>평일</td>\n",
       "      <td>58</td>\n",
       "    </tr>\n",
       "    <tr>\n",
       "      <th>2</th>\n",
       "      <td>2분기</td>\n",
       "      <td>주말</td>\n",
       "      <td>15</td>\n",
       "    </tr>\n",
       "    <tr>\n",
       "      <th>3</th>\n",
       "      <td>2분기</td>\n",
       "      <td>평일</td>\n",
       "      <td>45</td>\n",
       "    </tr>\n",
       "    <tr>\n",
       "      <th>4</th>\n",
       "      <td>3분기</td>\n",
       "      <td>주말</td>\n",
       "      <td>17</td>\n",
       "    </tr>\n",
       "    <tr>\n",
       "      <th>5</th>\n",
       "      <td>3분기</td>\n",
       "      <td>평일</td>\n",
       "      <td>58</td>\n",
       "    </tr>\n",
       "    <tr>\n",
       "      <th>6</th>\n",
       "      <td>4분기</td>\n",
       "      <td>주말</td>\n",
       "      <td>16</td>\n",
       "    </tr>\n",
       "    <tr>\n",
       "      <th>7</th>\n",
       "      <td>4분기</td>\n",
       "      <td>평일</td>\n",
       "      <td>60</td>\n",
       "    </tr>\n",
       "  </tbody>\n",
       "</table>\n",
       "</div>"
      ],
      "text/plain": [
       "  최근 구매 시점 최근 구매 요일  최근 거래 금액\n",
       "0      1분기       주말        22\n",
       "1      1분기       평일        58\n",
       "2      2분기       주말        15\n",
       "3      2분기       평일        45\n",
       "4      3분기       주말        17\n",
       "5      3분기       평일        58\n",
       "6      4분기       주말        16\n",
       "7      4분기       평일        60"
      ]
     },
     "execution_count": 10,
     "metadata": {},
     "output_type": "execute_result"
    }
   ],
   "source": [
    "result"
   ]
  },
  {
   "cell_type": "code",
   "execution_count": 11,
   "metadata": {
    "colab": {
     "base_uri": "https://localhost:8080/",
     "height": 300
    },
    "executionInfo": {
     "elapsed": 62,
     "status": "ok",
     "timestamp": 1741935068917,
     "user": {
      "displayName": "한성현",
      "userId": "01354754736659999008"
     },
     "user_tz": -540
    },
    "id": "yN4omaK5kw9V",
    "outputId": "828a59b3-84de-412c-a7f8-6a88befc326a"
   },
   "outputs": [
    {
     "data": {
      "text/html": [
       "<div>\n",
       "<style scoped>\n",
       "    .dataframe tbody tr th:only-of-type {\n",
       "        vertical-align: middle;\n",
       "    }\n",
       "\n",
       "    .dataframe tbody tr th {\n",
       "        vertical-align: top;\n",
       "    }\n",
       "\n",
       "    .dataframe thead th {\n",
       "        text-align: right;\n",
       "    }\n",
       "</style>\n",
       "<table border=\"1\" class=\"dataframe\">\n",
       "  <thead>\n",
       "    <tr style=\"text-align: right;\">\n",
       "      <th></th>\n",
       "      <th>최근 구매 시점</th>\n",
       "      <th>최근 구매 요일</th>\n",
       "      <th>판매량</th>\n",
       "    </tr>\n",
       "  </thead>\n",
       "  <tbody>\n",
       "    <tr>\n",
       "      <th>0</th>\n",
       "      <td>1분기</td>\n",
       "      <td>주말</td>\n",
       "      <td>22</td>\n",
       "    </tr>\n",
       "    <tr>\n",
       "      <th>1</th>\n",
       "      <td>1분기</td>\n",
       "      <td>평일</td>\n",
       "      <td>58</td>\n",
       "    </tr>\n",
       "    <tr>\n",
       "      <th>2</th>\n",
       "      <td>2분기</td>\n",
       "      <td>주말</td>\n",
       "      <td>15</td>\n",
       "    </tr>\n",
       "    <tr>\n",
       "      <th>3</th>\n",
       "      <td>2분기</td>\n",
       "      <td>평일</td>\n",
       "      <td>45</td>\n",
       "    </tr>\n",
       "    <tr>\n",
       "      <th>4</th>\n",
       "      <td>3분기</td>\n",
       "      <td>주말</td>\n",
       "      <td>17</td>\n",
       "    </tr>\n",
       "    <tr>\n",
       "      <th>5</th>\n",
       "      <td>3분기</td>\n",
       "      <td>평일</td>\n",
       "      <td>58</td>\n",
       "    </tr>\n",
       "    <tr>\n",
       "      <th>6</th>\n",
       "      <td>4분기</td>\n",
       "      <td>주말</td>\n",
       "      <td>16</td>\n",
       "    </tr>\n",
       "    <tr>\n",
       "      <th>7</th>\n",
       "      <td>4분기</td>\n",
       "      <td>평일</td>\n",
       "      <td>60</td>\n",
       "    </tr>\n",
       "  </tbody>\n",
       "</table>\n",
       "</div>"
      ],
      "text/plain": [
       "  최근 구매 시점 최근 구매 요일  판매량\n",
       "0      1분기       주말   22\n",
       "1      1분기       평일   58\n",
       "2      2분기       주말   15\n",
       "3      2분기       평일   45\n",
       "4      3분기       주말   17\n",
       "5      3분기       평일   58\n",
       "6      4분기       주말   16\n",
       "7      4분기       평일   60"
      ]
     },
     "execution_count": 11,
     "metadata": {},
     "output_type": "execute_result"
    }
   ],
   "source": [
    "result.rename(columns={'최근 거래 금액' : '판매량'})"
   ]
  },
  {
   "cell_type": "code",
   "execution_count": 12,
   "metadata": {
    "executionInfo": {
     "elapsed": 13,
     "status": "ok",
     "timestamp": 1741935081178,
     "user": {
      "displayName": "한성현",
      "userId": "01354754736659999008"
     },
     "user_tz": -540
    },
    "id": "YdI1Q6p6ZyNB"
   },
   "outputs": [],
   "source": [
    "# 컬럼명을 '분기별', '요일별', '판매량' 으로 변경하기\n",
    "result = result.rename(columns={'최근 거래 금액' : '판매량'})"
   ]
  },
  {
   "cell_type": "code",
   "execution_count": 13,
   "metadata": {
    "colab": {
     "base_uri": "https://localhost:8080/",
     "height": 300
    },
    "executionInfo": {
     "elapsed": 66,
     "status": "ok",
     "timestamp": 1741935088376,
     "user": {
      "displayName": "한성현",
      "userId": "01354754736659999008"
     },
     "user_tz": -540
    },
    "id": "HD-JxRbykw6d",
    "outputId": "0e507e66-7eec-4f11-acb0-e602902ca95b"
   },
   "outputs": [
    {
     "data": {
      "text/html": [
       "<div>\n",
       "<style scoped>\n",
       "    .dataframe tbody tr th:only-of-type {\n",
       "        vertical-align: middle;\n",
       "    }\n",
       "\n",
       "    .dataframe tbody tr th {\n",
       "        vertical-align: top;\n",
       "    }\n",
       "\n",
       "    .dataframe thead th {\n",
       "        text-align: right;\n",
       "    }\n",
       "</style>\n",
       "<table border=\"1\" class=\"dataframe\">\n",
       "  <thead>\n",
       "    <tr style=\"text-align: right;\">\n",
       "      <th></th>\n",
       "      <th>최근 구매 시점</th>\n",
       "      <th>최근 구매 요일</th>\n",
       "      <th>판매량</th>\n",
       "    </tr>\n",
       "  </thead>\n",
       "  <tbody>\n",
       "    <tr>\n",
       "      <th>0</th>\n",
       "      <td>1분기</td>\n",
       "      <td>주말</td>\n",
       "      <td>22</td>\n",
       "    </tr>\n",
       "    <tr>\n",
       "      <th>1</th>\n",
       "      <td>1분기</td>\n",
       "      <td>평일</td>\n",
       "      <td>58</td>\n",
       "    </tr>\n",
       "    <tr>\n",
       "      <th>2</th>\n",
       "      <td>2분기</td>\n",
       "      <td>주말</td>\n",
       "      <td>15</td>\n",
       "    </tr>\n",
       "    <tr>\n",
       "      <th>3</th>\n",
       "      <td>2분기</td>\n",
       "      <td>평일</td>\n",
       "      <td>45</td>\n",
       "    </tr>\n",
       "    <tr>\n",
       "      <th>4</th>\n",
       "      <td>3분기</td>\n",
       "      <td>주말</td>\n",
       "      <td>17</td>\n",
       "    </tr>\n",
       "    <tr>\n",
       "      <th>5</th>\n",
       "      <td>3분기</td>\n",
       "      <td>평일</td>\n",
       "      <td>58</td>\n",
       "    </tr>\n",
       "    <tr>\n",
       "      <th>6</th>\n",
       "      <td>4분기</td>\n",
       "      <td>주말</td>\n",
       "      <td>16</td>\n",
       "    </tr>\n",
       "    <tr>\n",
       "      <th>7</th>\n",
       "      <td>4분기</td>\n",
       "      <td>평일</td>\n",
       "      <td>60</td>\n",
       "    </tr>\n",
       "  </tbody>\n",
       "</table>\n",
       "</div>"
      ],
      "text/plain": [
       "  최근 구매 시점 최근 구매 요일  판매량\n",
       "0      1분기       주말   22\n",
       "1      1분기       평일   58\n",
       "2      2분기       주말   15\n",
       "3      2분기       평일   45\n",
       "4      3분기       주말   17\n",
       "5      3분기       평일   58\n",
       "6      4분기       주말   16\n",
       "7      4분기       평일   60"
      ]
     },
     "execution_count": 13,
     "metadata": {},
     "output_type": "execute_result"
    }
   ],
   "source": [
    "result"
   ]
  },
  {
   "cell_type": "code",
   "execution_count": 14,
   "metadata": {
    "executionInfo": {
     "elapsed": 15,
     "status": "ok",
     "timestamp": 1741935198510,
     "user": {
      "displayName": "한성현",
      "userId": "01354754736659999008"
     },
     "user_tz": -540
    },
    "id": "zG3g6crTkw3V"
   },
   "outputs": [],
   "source": [
    "result = result.rename(columns={'최근 구매 시점' : '분기별'})"
   ]
  },
  {
   "cell_type": "code",
   "execution_count": 15,
   "metadata": {
    "colab": {
     "base_uri": "https://localhost:8080/",
     "height": 300
    },
    "executionInfo": {
     "elapsed": 71,
     "status": "ok",
     "timestamp": 1741935232226,
     "user": {
      "displayName": "한성현",
      "userId": "01354754736659999008"
     },
     "user_tz": -540
    },
    "id": "Zyz1j9Zukw0O",
    "outputId": "cdaca3af-4383-4120-d7bc-18fdf59cf1c0"
   },
   "outputs": [
    {
     "data": {
      "text/html": [
       "<div>\n",
       "<style scoped>\n",
       "    .dataframe tbody tr th:only-of-type {\n",
       "        vertical-align: middle;\n",
       "    }\n",
       "\n",
       "    .dataframe tbody tr th {\n",
       "        vertical-align: top;\n",
       "    }\n",
       "\n",
       "    .dataframe thead th {\n",
       "        text-align: right;\n",
       "    }\n",
       "</style>\n",
       "<table border=\"1\" class=\"dataframe\">\n",
       "  <thead>\n",
       "    <tr style=\"text-align: right;\">\n",
       "      <th></th>\n",
       "      <th>분기별</th>\n",
       "      <th>최근 구매 요일</th>\n",
       "      <th>판매량</th>\n",
       "    </tr>\n",
       "  </thead>\n",
       "  <tbody>\n",
       "    <tr>\n",
       "      <th>0</th>\n",
       "      <td>1분기</td>\n",
       "      <td>주말</td>\n",
       "      <td>22</td>\n",
       "    </tr>\n",
       "    <tr>\n",
       "      <th>1</th>\n",
       "      <td>1분기</td>\n",
       "      <td>평일</td>\n",
       "      <td>58</td>\n",
       "    </tr>\n",
       "    <tr>\n",
       "      <th>2</th>\n",
       "      <td>2분기</td>\n",
       "      <td>주말</td>\n",
       "      <td>15</td>\n",
       "    </tr>\n",
       "    <tr>\n",
       "      <th>3</th>\n",
       "      <td>2분기</td>\n",
       "      <td>평일</td>\n",
       "      <td>45</td>\n",
       "    </tr>\n",
       "    <tr>\n",
       "      <th>4</th>\n",
       "      <td>3분기</td>\n",
       "      <td>주말</td>\n",
       "      <td>17</td>\n",
       "    </tr>\n",
       "    <tr>\n",
       "      <th>5</th>\n",
       "      <td>3분기</td>\n",
       "      <td>평일</td>\n",
       "      <td>58</td>\n",
       "    </tr>\n",
       "    <tr>\n",
       "      <th>6</th>\n",
       "      <td>4분기</td>\n",
       "      <td>주말</td>\n",
       "      <td>16</td>\n",
       "    </tr>\n",
       "    <tr>\n",
       "      <th>7</th>\n",
       "      <td>4분기</td>\n",
       "      <td>평일</td>\n",
       "      <td>60</td>\n",
       "    </tr>\n",
       "  </tbody>\n",
       "</table>\n",
       "</div>"
      ],
      "text/plain": [
       "   분기별 최근 구매 요일  판매량\n",
       "0  1분기       주말   22\n",
       "1  1분기       평일   58\n",
       "2  2분기       주말   15\n",
       "3  2분기       평일   45\n",
       "4  3분기       주말   17\n",
       "5  3분기       평일   58\n",
       "6  4분기       주말   16\n",
       "7  4분기       평일   60"
      ]
     },
     "execution_count": 15,
     "metadata": {},
     "output_type": "execute_result"
    }
   ],
   "source": [
    "result"
   ]
  },
  {
   "cell_type": "code",
   "execution_count": 16,
   "metadata": {
    "executionInfo": {
     "elapsed": 8,
     "status": "ok",
     "timestamp": 1741935278381,
     "user": {
      "displayName": "한성현",
      "userId": "01354754736659999008"
     },
     "user_tz": -540
    },
    "id": "uy96bzTukwxF"
   },
   "outputs": [],
   "source": [
    "result = result.rename(columns={'최근 구매 요일' : '요일별'})"
   ]
  },
  {
   "cell_type": "code",
   "execution_count": 17,
   "metadata": {
    "colab": {
     "base_uri": "https://localhost:8080/",
     "height": 300
    },
    "executionInfo": {
     "elapsed": 57,
     "status": "ok",
     "timestamp": 1741935281776,
     "user": {
      "displayName": "한성현",
      "userId": "01354754736659999008"
     },
     "user_tz": -540
    },
    "id": "89BTAsB2kwtt",
    "outputId": "749defd2-69cf-4948-e273-a6e39f652409"
   },
   "outputs": [
    {
     "data": {
      "text/html": [
       "<div>\n",
       "<style scoped>\n",
       "    .dataframe tbody tr th:only-of-type {\n",
       "        vertical-align: middle;\n",
       "    }\n",
       "\n",
       "    .dataframe tbody tr th {\n",
       "        vertical-align: top;\n",
       "    }\n",
       "\n",
       "    .dataframe thead th {\n",
       "        text-align: right;\n",
       "    }\n",
       "</style>\n",
       "<table border=\"1\" class=\"dataframe\">\n",
       "  <thead>\n",
       "    <tr style=\"text-align: right;\">\n",
       "      <th></th>\n",
       "      <th>분기별</th>\n",
       "      <th>요일별</th>\n",
       "      <th>판매량</th>\n",
       "    </tr>\n",
       "  </thead>\n",
       "  <tbody>\n",
       "    <tr>\n",
       "      <th>0</th>\n",
       "      <td>1분기</td>\n",
       "      <td>주말</td>\n",
       "      <td>22</td>\n",
       "    </tr>\n",
       "    <tr>\n",
       "      <th>1</th>\n",
       "      <td>1분기</td>\n",
       "      <td>평일</td>\n",
       "      <td>58</td>\n",
       "    </tr>\n",
       "    <tr>\n",
       "      <th>2</th>\n",
       "      <td>2분기</td>\n",
       "      <td>주말</td>\n",
       "      <td>15</td>\n",
       "    </tr>\n",
       "    <tr>\n",
       "      <th>3</th>\n",
       "      <td>2분기</td>\n",
       "      <td>평일</td>\n",
       "      <td>45</td>\n",
       "    </tr>\n",
       "    <tr>\n",
       "      <th>4</th>\n",
       "      <td>3분기</td>\n",
       "      <td>주말</td>\n",
       "      <td>17</td>\n",
       "    </tr>\n",
       "    <tr>\n",
       "      <th>5</th>\n",
       "      <td>3분기</td>\n",
       "      <td>평일</td>\n",
       "      <td>58</td>\n",
       "    </tr>\n",
       "    <tr>\n",
       "      <th>6</th>\n",
       "      <td>4분기</td>\n",
       "      <td>주말</td>\n",
       "      <td>16</td>\n",
       "    </tr>\n",
       "    <tr>\n",
       "      <th>7</th>\n",
       "      <td>4분기</td>\n",
       "      <td>평일</td>\n",
       "      <td>60</td>\n",
       "    </tr>\n",
       "  </tbody>\n",
       "</table>\n",
       "</div>"
      ],
      "text/plain": [
       "   분기별 요일별  판매량\n",
       "0  1분기  주말   22\n",
       "1  1분기  평일   58\n",
       "2  2분기  주말   15\n",
       "3  2분기  평일   45\n",
       "4  3분기  주말   17\n",
       "5  3분기  평일   58\n",
       "6  4분기  주말   16\n",
       "7  4분기  평일   60"
      ]
     },
     "execution_count": 17,
     "metadata": {},
     "output_type": "execute_result"
    }
   ],
   "source": [
    "result"
   ]
  },
  {
   "cell_type": "code",
   "execution_count": 18,
   "metadata": {
    "executionInfo": {
     "elapsed": 13,
     "status": "ok",
     "timestamp": 1741939245484,
     "user": {
      "displayName": "한성현",
      "userId": "01354754736659999008"
     },
     "user_tz": -540
    },
    "id": "d-X0i1sWkwnX"
   },
   "outputs": [],
   "source": [
    "# '분기별' 과 '요일별' 컬럼을 하나의 컬럼으로 합치는 작업 필요\n",
    "# '구매정보' 컬럼으로 '분기별', '요일별' 컬럼 합치기\n",
    "result['구매정보'] = result['분기별'] + ' - ' + result['요일별']"
   ]
  },
  {
   "cell_type": "code",
   "execution_count": 19,
   "metadata": {
    "colab": {
     "base_uri": "https://localhost:8080/",
     "height": 300
    },
    "executionInfo": {
     "elapsed": 38,
     "status": "ok",
     "timestamp": 1741939255930,
     "user": {
      "displayName": "한성현",
      "userId": "01354754736659999008"
     },
     "user_tz": -540
    },
    "id": "fZuz8eqQkwkg",
    "outputId": "ada8c9ae-be27-4f29-f3a2-c8494de00c2f"
   },
   "outputs": [
    {
     "data": {
      "text/html": [
       "<div>\n",
       "<style scoped>\n",
       "    .dataframe tbody tr th:only-of-type {\n",
       "        vertical-align: middle;\n",
       "    }\n",
       "\n",
       "    .dataframe tbody tr th {\n",
       "        vertical-align: top;\n",
       "    }\n",
       "\n",
       "    .dataframe thead th {\n",
       "        text-align: right;\n",
       "    }\n",
       "</style>\n",
       "<table border=\"1\" class=\"dataframe\">\n",
       "  <thead>\n",
       "    <tr style=\"text-align: right;\">\n",
       "      <th></th>\n",
       "      <th>분기별</th>\n",
       "      <th>요일별</th>\n",
       "      <th>판매량</th>\n",
       "      <th>구매정보</th>\n",
       "    </tr>\n",
       "  </thead>\n",
       "  <tbody>\n",
       "    <tr>\n",
       "      <th>0</th>\n",
       "      <td>1분기</td>\n",
       "      <td>주말</td>\n",
       "      <td>22</td>\n",
       "      <td>1분기 - 주말</td>\n",
       "    </tr>\n",
       "    <tr>\n",
       "      <th>1</th>\n",
       "      <td>1분기</td>\n",
       "      <td>평일</td>\n",
       "      <td>58</td>\n",
       "      <td>1분기 - 평일</td>\n",
       "    </tr>\n",
       "    <tr>\n",
       "      <th>2</th>\n",
       "      <td>2분기</td>\n",
       "      <td>주말</td>\n",
       "      <td>15</td>\n",
       "      <td>2분기 - 주말</td>\n",
       "    </tr>\n",
       "    <tr>\n",
       "      <th>3</th>\n",
       "      <td>2분기</td>\n",
       "      <td>평일</td>\n",
       "      <td>45</td>\n",
       "      <td>2분기 - 평일</td>\n",
       "    </tr>\n",
       "    <tr>\n",
       "      <th>4</th>\n",
       "      <td>3분기</td>\n",
       "      <td>주말</td>\n",
       "      <td>17</td>\n",
       "      <td>3분기 - 주말</td>\n",
       "    </tr>\n",
       "    <tr>\n",
       "      <th>5</th>\n",
       "      <td>3분기</td>\n",
       "      <td>평일</td>\n",
       "      <td>58</td>\n",
       "      <td>3분기 - 평일</td>\n",
       "    </tr>\n",
       "    <tr>\n",
       "      <th>6</th>\n",
       "      <td>4분기</td>\n",
       "      <td>주말</td>\n",
       "      <td>16</td>\n",
       "      <td>4분기 - 주말</td>\n",
       "    </tr>\n",
       "    <tr>\n",
       "      <th>7</th>\n",
       "      <td>4분기</td>\n",
       "      <td>평일</td>\n",
       "      <td>60</td>\n",
       "      <td>4분기 - 평일</td>\n",
       "    </tr>\n",
       "  </tbody>\n",
       "</table>\n",
       "</div>"
      ],
      "text/plain": [
       "   분기별 요일별  판매량      구매정보\n",
       "0  1분기  주말   22  1분기 - 주말\n",
       "1  1분기  평일   58  1분기 - 평일\n",
       "2  2분기  주말   15  2분기 - 주말\n",
       "3  2분기  평일   45  2분기 - 평일\n",
       "4  3분기  주말   17  3분기 - 주말\n",
       "5  3분기  평일   58  3분기 - 평일\n",
       "6  4분기  주말   16  4분기 - 주말\n",
       "7  4분기  평일   60  4분기 - 평일"
      ]
     },
     "execution_count": 19,
     "metadata": {},
     "output_type": "execute_result"
    }
   ],
   "source": [
    "result"
   ]
  },
  {
   "cell_type": "code",
   "execution_count": 21,
   "metadata": {
    "executionInfo": {
     "elapsed": 12,
     "status": "ok",
     "timestamp": 1741940525911,
     "user": {
      "displayName": "한성현",
      "userId": "01354754736659999008"
     },
     "user_tz": -540
    },
    "id": "FE2cZd4ykweP"
   },
   "outputs": [],
   "source": [
    "import pandas as pd\n",
    "import matplotlib.pyplot as plt\n",
    "import seaborn as sb\n",
    "import matplotlib\n",
    "\n",
    "# 한글 폰트 설정 (운영체제에 맞는 폰트를 설정)\n",
    "# matplotlib.rcParams['font.family'] = 'AppleGothic'  # Mac 사용자\n",
    "matplotlib.rcParams['font.family'] = 'Malgun Gothic'  # Windows 사용자\n",
    "# matplotlib.rcParams['font.family'] = 'NanumGothic'  # Linux 사용자\n",
    "matplotlib.rcParams['axes.unicode_minus'] = False  # 마이너스 기호 깨짐 방지"
   ]
  },
  {
   "cell_type": "code",
   "execution_count": 36,
   "metadata": {
    "colab": {
     "base_uri": "https://localhost:8080/",
     "height": 1000
    },
    "executionInfo": {
     "elapsed": 288,
     "status": "ok",
     "timestamp": 1741940536677,
     "user": {
      "displayName": "한성현",
      "userId": "01354754736659999008"
     },
     "user_tz": -540
    },
    "id": "lEtBxMSOkwbd",
    "outputId": "537e18dc-a9ab-463e-e266-7d1d1f638845"
   },
   "outputs": [
    {
     "data": {
      "image/png": "[encoded data removed]",
      "text/plain": [
       "<Figure size 640x480 with 1 Axes>"
      ]
     },
     "metadata": {},
     "output_type": "display_data"
    }
   ],
   "source": [
    "# 그래프로 시각화 하기\n",
    "result.plot(kind='bar', x='구매정보', y='판매량', legend=False)\n",
    "plt.show()"
   ]
  },
  {
   "cell_type": "code",
   "execution_count": null,
   "metadata": {
    "id": "WL8fWFF3kwYe"
   },
   "outputs": [
    {
     "data": {
      "image/png": "[encoded data removed]",
      "text/plain": [
       "<Figure size 640x480 with 1 Axes>"
      ]
     },
     "metadata": {},
     "output_type": "display_data"
    }
   ],
   "source": [
    "# x축 레이블을 40도 회전\n",
    "result.plot(kind='bar', x='구매정보', y='판매량', legend=False)\n",
    "plt.xticks(rotation=40, ha='right')\n",
    "plt.show()"
   ]
  },
  {
   "cell_type": "code",
   "execution_count": 38,
   "metadata": {
    "id": "lp8RnYenkwVl"
   },
   "outputs": [
    {
     "data": {
      "image/png": "[encoded data removed]",
      "text/plain": [
       "<Figure size 640x480 with 1 Axes>"
      ]
     },
     "metadata": {},
     "output_type": "display_data"
    }
   ],
   "source": [
    "# 그래프 제목과 레이블 추가\n",
    "result.plot(kind='bar', x='구매정보', y='판매량', legend=False)\n",
    "plt.xticks(rotation=40, ha='right')\n",
    "plt.title('분기별, 요일별 판매량')\n",
    "plt.xlabel('분기 - 요일')\n",
    "plt.ylabel('판매량')\n",
    "plt.show()"
   ]
  },
  {
   "cell_type": "code",
   "execution_count": null,
   "metadata": {
    "id": "1bGyY2C-kwSV"
   },
   "outputs": [],
   "source": []
  },
  {
   "cell_type": "code",
   "execution_count": null,
   "metadata": {
    "id": "KWuWmJq6kwPd"
   },
   "outputs": [],
   "source": []
  },
  {
   "cell_type": "code",
   "execution_count": null,
   "metadata": {
    "id": "Tb3zFu3KkwM9"
   },
   "outputs": [],
   "source": []
  },
  {
   "cell_type": "code",
   "execution_count": null,
   "metadata": {
    "id": "k1RVE9yikwKl"
   },
   "outputs": [],
   "source": []
  },
  {
   "cell_type": "code",
   "execution_count": null,
   "metadata": {
    "id": "iDP1xErNkwIF"
   },
   "outputs": [],
   "source": []
  },
  {
   "cell_type": "code",
   "execution_count": null,
   "metadata": {
    "id": "iiuD5Nakkphl"
   },
   "outputs": [],
   "source": []
  },
  {
   "cell_type": "code",
   "execution_count": null,
   "metadata": {
    "id": "2Od8eibSkpfZ"
   },
   "outputs": [],
   "source": []
  },
  {
   "cell_type": "code",
   "execution_count": null,
   "metadata": {
    "id": "E1n2vMaSkpdE"
   },
   "outputs": [],
   "source": []
  },
  {
   "cell_type": "code",
   "execution_count": null,
   "metadata": {
    "id": "MY-usVZkkpa1"
   },
   "outputs": [],
   "source": []
  },
  {
   "cell_type": "code",
   "execution_count": null,
   "metadata": {
    "id": "w0MiszSpkpYt"
   },
   "outputs": [],
   "source": []
  },
  {
   "cell_type": "code",
   "execution_count": null,
   "metadata": {
    "id": "utq8GYeLkpWV"
   },
   "outputs": [],
   "source": []
  },
  {
   "cell_type": "code",
   "execution_count": null,
   "metadata": {
    "id": "LCdDcIIKkpUO"
   },
   "outputs": [],
   "source": []
  },
  {
   "cell_type": "code",
   "execution_count": null,
   "metadata": {
    "id": "WdtcI3A0kpSF"
   },
   "outputs": [],
   "source": []
  },
  {
   "cell_type": "code",
   "execution_count": null,
   "metadata": {
    "id": "-Bl8gWklkpQA"
   },
   "outputs": [],
   "source": []
  },
  {
   "cell_type": "code",
   "execution_count": null,
   "metadata": {
    "id": "KBMM-zExkpNl"
   },
   "outputs": [],
   "source": []
  },
  {
   "cell_type": "code",
   "execution_count": null,
   "metadata": {
    "id": "D4K8mRjtkpLl"
   },
   "outputs": [],
   "source": []
  },
  {
   "cell_type": "code",
   "execution_count": null,
   "metadata": {
    "id": "_SYdQ74DkpJO"
   },
   "outputs": [],
   "source": []
  },
  {
   "cell_type": "code",
   "execution_count": null,
   "metadata": {
    "id": "L2Fvl1WQkpHG"
   },
   "outputs": [],
   "source": []
  },
  {
   "cell_type": "code",
   "execution_count": null,
   "metadata": {
    "id": "aSSl6RP9kpE9"
   },
   "outputs": [],
   "source": []
  },
  {
   "cell_type": "code",
   "execution_count": null,
   "metadata": {
    "id": "wg-0tkixkpCl"
   },
   "outputs": [],
   "source": []
  },
  {
   "cell_type": "code",
   "execution_count": null,
   "metadata": {
    "id": "3jVeTx5skpAX"
   },
   "outputs": [],
   "source": []
  },
  {
   "cell_type": "code",
   "execution_count": null,
   "metadata": {
    "id": "h8Us1bU5ko91"
   },
   "outputs": [],
   "source": []
  }
 ],
 "metadata": {
  "colab": {
   "authorship_tag": "ABX9TyPwy+lDzDV/1D59hS3xpZyu",
   "provenance": []
  },
  "kernelspec": {
   "display_name": "hi",
   "language": "python",
   "name": "python3"
  },
  "language_info": {
   "codemirror_mode": {
    "name": "ipython",
    "version": 3
   },
   "file_extension": ".py",
   "mimetype": "text/x-python",
   "name": "python",
   "nbconvert_exporter": "python",
   "pygments_lexer": "ipython3",
   "version": "3.10.16"
  }
 },
 "nbformat": 4,
 "nbformat_minor": 0
}
