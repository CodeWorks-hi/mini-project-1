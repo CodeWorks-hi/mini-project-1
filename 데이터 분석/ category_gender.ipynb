{
 "cells": [
  {
   "cell_type": "code",
   "execution_count": 2,
   "metadata": {},
   "outputs": [],
   "source": [
    "import pandas as pd"
   ]
  },
  {
   "cell_type": "code",
   "execution_count": 3,
   "metadata": {},
   "outputs": [],
   "source": [
    "import matplotlib.pyplot as plt\n",
    "import seaborn as sb\n",
    "\n",
    "import platform\n",
    "\n",
    "from matplotlib import font_manager, rc\n",
    "plt.rcParams['axes.unicode_minus'] = False\n",
    "\n",
    "if platform.system() == 'Darwin':\n",
    "    rc('font', family='AppleGothic')\n",
    "elif platform.system() == 'Windows':\n",
    "    path = \"c:/Windows/Fonts/malgun.ttf\"\n",
    "    font_name = font_manager.FontProperties(fname=path).get_name()\n",
    "    rc('font', family=font_name)\n",
    "else:\n",
    "    print('Unknown system... sorry~~~~')"
   ]
  },
  {
   "cell_type": "code",
   "execution_count": 5,
   "metadata": {},
   "outputs": [],
   "source": [
    "df=pd.read_csv(\"../데이터셋/고객db_전처리.csv\",index_col=0)"
   ]
  },
  {
   "cell_type": "code",
   "execution_count": 6,
   "metadata": {},
   "outputs": [
    {
     "data": {
      "application/vnd.microsoft.datawrangler.viewer.v0+json": {
       "columns": [
        {
         "name": "연번",
         "rawType": "int64",
         "type": "integer"
        },
        {
         "name": "이름",
         "rawType": "object",
         "type": "string"
        },
        {
         "name": "생년월일",
         "rawType": "object",
         "type": "string"
        },
        {
         "name": "현재 나이",
         "rawType": "int64",
         "type": "integer"
        },
        {
         "name": "연령대",
         "rawType": "object",
         "type": "string"
        },
        {
         "name": "성별",
         "rawType": "object",
         "type": "string"
        },
        {
         "name": "휴대폰 번호",
         "rawType": "object",
         "type": "string"
        },
        {
         "name": "이메일",
         "rawType": "object",
         "type": "string"
        },
        {
         "name": "고객 구분",
         "rawType": "object",
         "type": "string"
        },
        {
         "name": "아이디",
         "rawType": "object",
         "type": "string"
        },
        {
         "name": "가입일",
         "rawType": "object",
         "type": "string"
        },
        {
         "name": "가입 이후 경과 기간",
         "rawType": "int64",
         "type": "integer"
        },
        {
         "name": "주소",
         "rawType": "object",
         "type": "string"
        },
        {
         "name": "거주 지역",
         "rawType": "object",
         "type": "string"
        },
        {
         "name": "인구 밀도",
         "rawType": "int64",
         "type": "integer"
        },
        {
         "name": "GDP (조 원)",
         "rawType": "int64",
         "type": "integer"
        },
        {
         "name": "1인당 GDP (만 원)",
         "rawType": "int64",
         "type": "integer"
        },
        {
         "name": "고객 등급",
         "rawType": "object",
         "type": "string"
        },
        {
         "name": "회원가입 이후 구매 이력",
         "rawType": "object",
         "type": "string"
        },
        {
         "name": "최근 구매 제품",
         "rawType": "object",
         "type": "string"
        },
        {
         "name": "차량 사이즈",
         "rawType": "object",
         "type": "string"
        },
        {
         "name": "차량 유형",
         "rawType": "object",
         "type": "string"
        },
        {
         "name": "연료 구분",
         "rawType": "object",
         "type": "string"
        },
        {
         "name": "최근 구매 날짜",
         "rawType": "object",
         "type": "string"
        },
        {
         "name": "최근 구매 시점",
         "rawType": "object",
         "type": "string"
        },
        {
         "name": "최근 구매 요일",
         "rawType": "object",
         "type": "string"
        },
        {
         "name": "마지막 구매 이후 경과 기간",
         "rawType": "int64",
         "type": "integer"
        },
        {
         "name": "최근 구매 당시 나이",
         "rawType": "int64",
         "type": "integer"
        },
        {
         "name": "최근 거래 금액",
         "rawType": "int64",
         "type": "integer"
        },
        {
         "name": "선호 거래 방식",
         "rawType": "object",
         "type": "string"
        },
        {
         "name": "선호 구매 경로",
         "rawType": "object",
         "type": "string"
        },
        {
         "name": "차량 구매 횟수",
         "rawType": "int64",
         "type": "integer"
        },
        {
         "name": "신차 구매 지수",
         "rawType": "float64",
         "type": "float"
        },
        {
         "name": "브랜드 충성도 지수",
         "rawType": "float64",
         "type": "float"
        }
       ],
       "conversionMethod": "pd.DataFrame",
       "ref": "f79f5d52-7297-4ebb-8b45-140494d357e7",
       "rows": [
        [
         "1",
         "강주온",
         "2002-03-04",
         "23",
         "20대 중반",
         "남",
         "010-6502-8753",
         "janisi@himedia.co.kr",
         "법인",
         "14798",
         "2023-04-01",
         "719",
         "인천광역시 남동구 구월동 88-10",
         "인천광역시",
         "2820",
         "117",
         "3000",
         "일반",
         "O",
         "Avante (CN7 N)",
         "준중형",
         "세단",
         "휘발유",
         "2024-04-04",
         "2분기",
         "평일",
         "350",
         "22",
         "33820000",
         "신용카드",
         "오프라인",
         "1",
         "0.002",
         "0.135"
        ],
        [
         "2",
         "김경수",
         "1983-01-02",
         "42",
         "40대 초반",
         "남",
         "010-1111-2222",
         "kimkyoungsoo31@himedia.co.kr",
         "법인",
         "kyoungsoo031",
         "2025-02-09",
         "39",
         "광주광역시 서구 치평동 14-7",
         "광주광역시",
         "2921",
         "52",
         "3090",
         "VIP",
         "O",
         "G80 (RG3)",
         "대형",
         "세단",
         "휘발유",
         "2025-02-10",
         "1분기",
         "평일",
         "38",
         "42",
         "89930000",
         "신용카드",
         "오프라인",
         "5",
         "0.508",
         "0.037"
        ]
       ],
       "shape": {
        "columns": 33,
        "rows": 2
       }
      },
      "text/html": [
       "<div>\n",
       "<style scoped>\n",
       "    .dataframe tbody tr th:only-of-type {\n",
       "        vertical-align: middle;\n",
       "    }\n",
       "\n",
       "    .dataframe tbody tr th {\n",
       "        vertical-align: top;\n",
       "    }\n",
       "\n",
       "    .dataframe thead th {\n",
       "        text-align: right;\n",
       "    }\n",
       "</style>\n",
       "<table border=\"1\" class=\"dataframe\">\n",
       "  <thead>\n",
       "    <tr style=\"text-align: right;\">\n",
       "      <th></th>\n",
       "      <th>이름</th>\n",
       "      <th>생년월일</th>\n",
       "      <th>현재 나이</th>\n",
       "      <th>연령대</th>\n",
       "      <th>성별</th>\n",
       "      <th>휴대폰 번호</th>\n",
       "      <th>이메일</th>\n",
       "      <th>고객 구분</th>\n",
       "      <th>아이디</th>\n",
       "      <th>가입일</th>\n",
       "      <th>...</th>\n",
       "      <th>최근 구매 시점</th>\n",
       "      <th>최근 구매 요일</th>\n",
       "      <th>마지막 구매 이후 경과 기간</th>\n",
       "      <th>최근 구매 당시 나이</th>\n",
       "      <th>최근 거래 금액</th>\n",
       "      <th>선호 거래 방식</th>\n",
       "      <th>선호 구매 경로</th>\n",
       "      <th>차량 구매 횟수</th>\n",
       "      <th>신차 구매 지수</th>\n",
       "      <th>브랜드 충성도 지수</th>\n",
       "    </tr>\n",
       "    <tr>\n",
       "      <th>연번</th>\n",
       "      <th></th>\n",
       "      <th></th>\n",
       "      <th></th>\n",
       "      <th></th>\n",
       "      <th></th>\n",
       "      <th></th>\n",
       "      <th></th>\n",
       "      <th></th>\n",
       "      <th></th>\n",
       "      <th></th>\n",
       "      <th></th>\n",
       "      <th></th>\n",
       "      <th></th>\n",
       "      <th></th>\n",
       "      <th></th>\n",
       "      <th></th>\n",
       "      <th></th>\n",
       "      <th></th>\n",
       "      <th></th>\n",
       "      <th></th>\n",
       "      <th></th>\n",
       "    </tr>\n",
       "  </thead>\n",
       "  <tbody>\n",
       "    <tr>\n",
       "      <th>1</th>\n",
       "      <td>강주온</td>\n",
       "      <td>2002-03-04</td>\n",
       "      <td>23</td>\n",
       "      <td>20대 중반</td>\n",
       "      <td>남</td>\n",
       "      <td>010-6502-8753</td>\n",
       "      <td>janisi@himedia.co.kr</td>\n",
       "      <td>법인</td>\n",
       "      <td>14798</td>\n",
       "      <td>2023-04-01</td>\n",
       "      <td>...</td>\n",
       "      <td>2분기</td>\n",
       "      <td>평일</td>\n",
       "      <td>350</td>\n",
       "      <td>22</td>\n",
       "      <td>33820000</td>\n",
       "      <td>신용카드</td>\n",
       "      <td>오프라인</td>\n",
       "      <td>1</td>\n",
       "      <td>0.002</td>\n",
       "      <td>0.135</td>\n",
       "    </tr>\n",
       "    <tr>\n",
       "      <th>2</th>\n",
       "      <td>김경수</td>\n",
       "      <td>1983-01-02</td>\n",
       "      <td>42</td>\n",
       "      <td>40대 초반</td>\n",
       "      <td>남</td>\n",
       "      <td>010-1111-2222</td>\n",
       "      <td>kimkyoungsoo31@himedia.co.kr</td>\n",
       "      <td>법인</td>\n",
       "      <td>kyoungsoo031</td>\n",
       "      <td>2025-02-09</td>\n",
       "      <td>...</td>\n",
       "      <td>1분기</td>\n",
       "      <td>평일</td>\n",
       "      <td>38</td>\n",
       "      <td>42</td>\n",
       "      <td>89930000</td>\n",
       "      <td>신용카드</td>\n",
       "      <td>오프라인</td>\n",
       "      <td>5</td>\n",
       "      <td>0.508</td>\n",
       "      <td>0.037</td>\n",
       "    </tr>\n",
       "  </tbody>\n",
       "</table>\n",
       "<p>2 rows × 33 columns</p>\n",
       "</div>"
      ],
      "text/plain": [
       "     이름        생년월일  현재 나이     연령대 성별         휴대폰 번호  \\\n",
       "연번                                                     \n",
       "1   강주온  2002-03-04     23  20대 중반  남  010-6502-8753   \n",
       "2   김경수  1983-01-02     42  40대 초반  남  010-1111-2222   \n",
       "\n",
       "                             이메일 고객 구분           아이디         가입일  ...  \\\n",
       "연번                                                                ...   \n",
       "1           janisi@himedia.co.kr    법인         14798  2023-04-01  ...   \n",
       "2   kimkyoungsoo31@himedia.co.kr    법인  kyoungsoo031  2025-02-09  ...   \n",
       "\n",
       "    최근 구매 시점 최근 구매 요일 마지막 구매 이후 경과 기간  최근 구매 당시 나이  최근 거래 금액  선호 거래 방식  \\\n",
       "연번                                                                       \n",
       "1        2분기       평일             350           22  33820000      신용카드   \n",
       "2        1분기       평일              38           42  89930000      신용카드   \n",
       "\n",
       "   선호 구매 경로 차량 구매 횟수 신차 구매 지수 브랜드 충성도 지수  \n",
       "연번                                        \n",
       "1      오프라인        1    0.002      0.135  \n",
       "2      오프라인        5    0.508      0.037  \n",
       "\n",
       "[2 rows x 33 columns]"
      ]
     },
     "execution_count": 6,
     "metadata": {},
     "output_type": "execute_result"
    }
   ],
   "source": [
    "df.head(2)"
   ]
  },
  {
   "cell_type": "code",
   "execution_count": 7,
   "metadata": {},
   "outputs": [
    {
     "data": {
      "application/vnd.microsoft.datawrangler.viewer.v0+json": {
       "columns": [
        {
         "name": "연번",
         "rawType": "int64",
         "type": "integer"
        },
        {
         "name": "이름",
         "rawType": "object",
         "type": "string"
        },
        {
         "name": "생년월일",
         "rawType": "object",
         "type": "string"
        },
        {
         "name": "현재 나이",
         "rawType": "int64",
         "type": "integer"
        },
        {
         "name": "연령대",
         "rawType": "object",
         "type": "string"
        },
        {
         "name": "성별",
         "rawType": "object",
         "type": "string"
        },
        {
         "name": "휴대폰 번호",
         "rawType": "object",
         "type": "string"
        },
        {
         "name": "이메일",
         "rawType": "object",
         "type": "string"
        },
        {
         "name": "고객 구분",
         "rawType": "object",
         "type": "string"
        },
        {
         "name": "아이디",
         "rawType": "object",
         "type": "string"
        },
        {
         "name": "가입일",
         "rawType": "object",
         "type": "string"
        },
        {
         "name": "가입 이후 경과 기간",
         "rawType": "int64",
         "type": "integer"
        },
        {
         "name": "주소",
         "rawType": "object",
         "type": "string"
        },
        {
         "name": "거주 지역",
         "rawType": "object",
         "type": "string"
        },
        {
         "name": "인구 밀도",
         "rawType": "int64",
         "type": "integer"
        },
        {
         "name": "GDP (조 원)",
         "rawType": "int64",
         "type": "integer"
        },
        {
         "name": "1인당 GDP (만 원)",
         "rawType": "int64",
         "type": "integer"
        },
        {
         "name": "고객 등급",
         "rawType": "object",
         "type": "string"
        },
        {
         "name": "회원가입 이후 구매 이력",
         "rawType": "object",
         "type": "string"
        },
        {
         "name": "최근 구매 제품",
         "rawType": "object",
         "type": "string"
        },
        {
         "name": "차량 사이즈",
         "rawType": "object",
         "type": "string"
        },
        {
         "name": "차량 유형",
         "rawType": "object",
         "type": "string"
        },
        {
         "name": "연료 구분",
         "rawType": "object",
         "type": "string"
        },
        {
         "name": "최근 구매 날짜",
         "rawType": "object",
         "type": "string"
        },
        {
         "name": "최근 구매 시점",
         "rawType": "object",
         "type": "string"
        },
        {
         "name": "최근 구매 요일",
         "rawType": "object",
         "type": "string"
        },
        {
         "name": "마지막 구매 이후 경과 기간",
         "rawType": "int64",
         "type": "integer"
        },
        {
         "name": "최근 구매 당시 나이",
         "rawType": "int64",
         "type": "integer"
        },
        {
         "name": "최근 거래 금액",
         "rawType": "int64",
         "type": "integer"
        },
        {
         "name": "선호 거래 방식",
         "rawType": "object",
         "type": "string"
        },
        {
         "name": "선호 구매 경로",
         "rawType": "object",
         "type": "string"
        },
        {
         "name": "차량 구매 횟수",
         "rawType": "int64",
         "type": "integer"
        },
        {
         "name": "신차 구매 지수",
         "rawType": "float64",
         "type": "float"
        },
        {
         "name": "브랜드 충성도 지수",
         "rawType": "float64",
         "type": "float"
        }
       ],
       "conversionMethod": "pd.DataFrame",
       "ref": "fdc9f9d9-0bca-492d-b6a6-497f8d7f1aa7",
       "rows": [
        [
         "58",
         "서은정",
         "2005-03-04",
         "20",
         "20대 초반",
         "여",
         "032-170-6440",
         "ugim@daum.net",
         "개인",
         "seoyeon90",
         "2024-07-07",
         "256",
         "서울특별시 종로구 청운동 67-89",
         "서울특별시",
         "15533",
         "548",
         "5161",
         "VIP",
         "O",
         "G70 (IK)",
         "중형",
         "세단",
         "휘발유",
         "2024-08-31",
         "3분기",
         "주말",
         "201",
         "19",
         "49330000",
         "계좌이체",
         "온라인",
         "5",
         "0.052",
         "0.241"
        ],
        [
         "71",
         "이정자",
         "2004-03-16",
         "21",
         "20대 초반",
         "여",
         "010-2415-1251",
         "hgim@daum.net",
         "개인",
         "myeongsug84",
         "2024-02-01",
         "413",
         "충청남도 천안시 동남구 성성동 22-3",
         "충청남도 천안시",
         "1036",
         "143",
         "5894",
         "VIP",
         "X",
         "Avante (CN7 N)",
         "준중형",
         "세단",
         "휘발유",
         "2023-08-26",
         "3분기",
         "주말",
         "572",
         "19",
         "40200000",
         "계좌이체",
         "온라인",
         "5",
         "0.019",
         "0.388"
        ]
       ],
       "shape": {
        "columns": 33,
        "rows": 2
       }
      },
      "text/html": [
       "<div>\n",
       "<style scoped>\n",
       "    .dataframe tbody tr th:only-of-type {\n",
       "        vertical-align: middle;\n",
       "    }\n",
       "\n",
       "    .dataframe tbody tr th {\n",
       "        vertical-align: top;\n",
       "    }\n",
       "\n",
       "    .dataframe thead th {\n",
       "        text-align: right;\n",
       "    }\n",
       "</style>\n",
       "<table border=\"1\" class=\"dataframe\">\n",
       "  <thead>\n",
       "    <tr style=\"text-align: right;\">\n",
       "      <th></th>\n",
       "      <th>이름</th>\n",
       "      <th>생년월일</th>\n",
       "      <th>현재 나이</th>\n",
       "      <th>연령대</th>\n",
       "      <th>성별</th>\n",
       "      <th>휴대폰 번호</th>\n",
       "      <th>이메일</th>\n",
       "      <th>고객 구분</th>\n",
       "      <th>아이디</th>\n",
       "      <th>가입일</th>\n",
       "      <th>...</th>\n",
       "      <th>최근 구매 시점</th>\n",
       "      <th>최근 구매 요일</th>\n",
       "      <th>마지막 구매 이후 경과 기간</th>\n",
       "      <th>최근 구매 당시 나이</th>\n",
       "      <th>최근 거래 금액</th>\n",
       "      <th>선호 거래 방식</th>\n",
       "      <th>선호 구매 경로</th>\n",
       "      <th>차량 구매 횟수</th>\n",
       "      <th>신차 구매 지수</th>\n",
       "      <th>브랜드 충성도 지수</th>\n",
       "    </tr>\n",
       "    <tr>\n",
       "      <th>연번</th>\n",
       "      <th></th>\n",
       "      <th></th>\n",
       "      <th></th>\n",
       "      <th></th>\n",
       "      <th></th>\n",
       "      <th></th>\n",
       "      <th></th>\n",
       "      <th></th>\n",
       "      <th></th>\n",
       "      <th></th>\n",
       "      <th></th>\n",
       "      <th></th>\n",
       "      <th></th>\n",
       "      <th></th>\n",
       "      <th></th>\n",
       "      <th></th>\n",
       "      <th></th>\n",
       "      <th></th>\n",
       "      <th></th>\n",
       "      <th></th>\n",
       "      <th></th>\n",
       "    </tr>\n",
       "  </thead>\n",
       "  <tbody>\n",
       "    <tr>\n",
       "      <th>58</th>\n",
       "      <td>서은정</td>\n",
       "      <td>2005-03-04</td>\n",
       "      <td>20</td>\n",
       "      <td>20대 초반</td>\n",
       "      <td>여</td>\n",
       "      <td>032-170-6440</td>\n",
       "      <td>ugim@daum.net</td>\n",
       "      <td>개인</td>\n",
       "      <td>seoyeon90</td>\n",
       "      <td>2024-07-07</td>\n",
       "      <td>...</td>\n",
       "      <td>3분기</td>\n",
       "      <td>주말</td>\n",
       "      <td>201</td>\n",
       "      <td>19</td>\n",
       "      <td>49330000</td>\n",
       "      <td>계좌이체</td>\n",
       "      <td>온라인</td>\n",
       "      <td>5</td>\n",
       "      <td>0.052</td>\n",
       "      <td>0.241</td>\n",
       "    </tr>\n",
       "    <tr>\n",
       "      <th>71</th>\n",
       "      <td>이정자</td>\n",
       "      <td>2004-03-16</td>\n",
       "      <td>21</td>\n",
       "      <td>20대 초반</td>\n",
       "      <td>여</td>\n",
       "      <td>010-2415-1251</td>\n",
       "      <td>hgim@daum.net</td>\n",
       "      <td>개인</td>\n",
       "      <td>myeongsug84</td>\n",
       "      <td>2024-02-01</td>\n",
       "      <td>...</td>\n",
       "      <td>3분기</td>\n",
       "      <td>주말</td>\n",
       "      <td>572</td>\n",
       "      <td>19</td>\n",
       "      <td>40200000</td>\n",
       "      <td>계좌이체</td>\n",
       "      <td>온라인</td>\n",
       "      <td>5</td>\n",
       "      <td>0.019</td>\n",
       "      <td>0.388</td>\n",
       "    </tr>\n",
       "  </tbody>\n",
       "</table>\n",
       "<p>2 rows × 33 columns</p>\n",
       "</div>"
      ],
      "text/plain": [
       "     이름        생년월일  현재 나이     연령대 성별         휴대폰 번호            이메일 고객 구분  \\\n",
       "연번                                                                          \n",
       "58  서은정  2005-03-04     20  20대 초반  여   032-170-6440  ugim@daum.net    개인   \n",
       "71  이정자  2004-03-16     21  20대 초반  여  010-2415-1251  hgim@daum.net    개인   \n",
       "\n",
       "            아이디         가입일  ...  최근 구매 시점 최근 구매 요일 마지막 구매 이후 경과 기간  \\\n",
       "연번                           ...                                      \n",
       "58    seoyeon90  2024-07-07  ...       3분기       주말             201   \n",
       "71  myeongsug84  2024-02-01  ...       3분기       주말             572   \n",
       "\n",
       "    최근 구매 당시 나이  최근 거래 금액  선호 거래 방식 선호 구매 경로 차량 구매 횟수 신차 구매 지수 브랜드 충성도 지수  \n",
       "연번                                                                         \n",
       "58           19  49330000      계좌이체      온라인        5    0.052      0.241  \n",
       "71           19  40200000      계좌이체      온라인        5    0.019      0.388  \n",
       "\n",
       "[2 rows x 33 columns]"
      ]
     },
     "execution_count": 7,
     "metadata": {},
     "output_type": "execute_result"
    }
   ],
   "source": [
    "df[df[\"최근 구매 당시 나이\"]<20]"
   ]
  },
  {
   "cell_type": "code",
   "execution_count": 8,
   "metadata": {},
   "outputs": [
    {
     "data": {
      "text/plain": [
       "14"
      ]
     },
     "execution_count": 8,
     "metadata": {},
     "output_type": "execute_result"
    }
   ],
   "source": [
    "df[\"최근 구매 제품\"].nunique()"
   ]
  },
  {
   "cell_type": "code",
   "execution_count": 9,
   "metadata": {},
   "outputs": [
    {
     "data": {
      "text/plain": [
       "3"
      ]
     },
     "execution_count": 9,
     "metadata": {},
     "output_type": "execute_result"
    }
   ],
   "source": [
    "df[\"차량 유형\"].nunique()"
   ]
  },
  {
   "cell_type": "code",
   "execution_count": 10,
   "metadata": {},
   "outputs": [
    {
     "data": {
      "text/plain": [
       "5"
      ]
     },
     "execution_count": 10,
     "metadata": {},
     "output_type": "execute_result"
    }
   ],
   "source": [
    "df[\"차량 사이즈\"].nunique()"
   ]
  },
  {
   "cell_type": "code",
   "execution_count": 11,
   "metadata": {},
   "outputs": [],
   "source": [
    "# (성별/구매 당시 연령별) (차량 사이즈/차량 유형) 분석\n",
    "# \t→ ex) 여성 20대 30대 40대 의 차량 우선도"
   ]
  },
  {
   "cell_type": "code",
   "execution_count": 12,
   "metadata": {},
   "outputs": [],
   "source": [
    "category_df=df[[\"성별\",\"최근 구매 당시 나이\",\"최근 구매 제품\",\"차량 사이즈\",\"차량 유형\"]]"
   ]
  },
  {
   "cell_type": "code",
   "execution_count": 13,
   "metadata": {},
   "outputs": [
    {
     "name": "stderr",
     "output_type": "stream",
     "text": [
      "/var/folders/_k/9pcm610n0sb_j9n64tc8zgcw0000gn/T/ipykernel_41063/634928100.py:2: SettingWithCopyWarning: \n",
      "A value is trying to be set on a copy of a slice from a DataFrame.\n",
      "Try using .loc[row_indexer,col_indexer] = value instead\n",
      "\n",
      "See the caveats in the documentation: https://pandas.pydata.org/pandas-docs/stable/user_guide/indexing.html#returning-a-view-versus-a-copy\n",
      "  category_df[\"연령대\"] = (df[\"최근 구매 당시 나이\"] // 10 * 10).astype(str) + \"대\"\n"
     ]
    }
   ],
   "source": [
    "# 구매 당시 나이 연령대 구하기\n",
    "category_df[\"연령대\"] = (df[\"최근 구매 당시 나이\"] // 10 * 10).astype(str) + \"대\""
   ]
  },
  {
   "cell_type": "code",
   "execution_count": 14,
   "metadata": {},
   "outputs": [],
   "source": [
    "result=category_df.groupby([\"성별\",\"연령대\",\"차량 유형\"])[[\"차량 사이즈\"]].count().reset_index()"
   ]
  },
  {
   "cell_type": "code",
   "execution_count": 15,
   "metadata": {},
   "outputs": [],
   "source": [
    "result=result.rename(columns={\"차량 사이즈\":\"판매량\"})"
   ]
  },
  {
   "cell_type": "code",
   "execution_count": 16,
   "metadata": {},
   "outputs": [
    {
     "data": {
      "application/vnd.microsoft.datawrangler.viewer.v0+json": {
       "columns": [
        {
         "name": "index",
         "rawType": "int64",
         "type": "integer"
        },
        {
         "name": "성별",
         "rawType": "object",
         "type": "string"
        },
        {
         "name": "연령대",
         "rawType": "object",
         "type": "string"
        },
        {
         "name": "차량 유형",
         "rawType": "object",
         "type": "string"
        },
        {
         "name": "판매량",
         "rawType": "int64",
         "type": "integer"
        }
       ],
       "conversionMethod": "pd.DataFrame",
       "ref": "98c31d04-7bde-4493-8817-ae73beaf858e",
       "rows": [
        [
         "0",
         "남",
         "20대",
         "SUV",
         "12"
        ],
        [
         "1",
         "남",
         "20대",
         "세단",
         "18"
        ],
        [
         "2",
         "남",
         "30대",
         "SUV",
         "12"
        ],
        [
         "3",
         "남",
         "30대",
         "세단",
         "13"
        ],
        [
         "4",
         "남",
         "30대",
         "해치백",
         "2"
        ],
        [
         "5",
         "남",
         "40대",
         "SUV",
         "15"
        ],
        [
         "6",
         "남",
         "40대",
         "세단",
         "21"
        ],
        [
         "7",
         "남",
         "40대",
         "해치백",
         "3"
        ],
        [
         "8",
         "남",
         "50대",
         "SUV",
         "10"
        ],
        [
         "9",
         "남",
         "50대",
         "세단",
         "18"
        ],
        [
         "10",
         "남",
         "60대",
         "SUV",
         "12"
        ],
        [
         "11",
         "남",
         "60대",
         "세단",
         "18"
        ],
        [
         "12",
         "남",
         "70대",
         "SUV",
         "1"
        ],
        [
         "13",
         "남",
         "70대",
         "세단",
         "2"
        ],
        [
         "14",
         "여",
         "10대",
         "세단",
         "2"
        ],
        [
         "15",
         "여",
         "20대",
         "SUV",
         "13"
        ],
        [
         "16",
         "여",
         "20대",
         "세단",
         "15"
        ],
        [
         "17",
         "여",
         "20대",
         "해치백",
         "2"
        ],
        [
         "18",
         "여",
         "30대",
         "SUV",
         "7"
        ],
        [
         "19",
         "여",
         "30대",
         "세단",
         "8"
        ],
        [
         "20",
         "여",
         "40대",
         "SUV",
         "15"
        ],
        [
         "21",
         "여",
         "40대",
         "세단",
         "16"
        ],
        [
         "22",
         "여",
         "40대",
         "해치백",
         "1"
        ],
        [
         "23",
         "여",
         "50대",
         "SUV",
         "12"
        ],
        [
         "24",
         "여",
         "50대",
         "세단",
         "16"
        ],
        [
         "25",
         "여",
         "50대",
         "해치백",
         "1"
        ],
        [
         "26",
         "여",
         "60대",
         "SUV",
         "6"
        ],
        [
         "27",
         "여",
         "60대",
         "세단",
         "19"
        ],
        [
         "28",
         "여",
         "70대",
         "세단",
         "1"
        ]
       ],
       "shape": {
        "columns": 4,
        "rows": 29
       }
      },
      "text/html": [
       "<div>\n",
       "<style scoped>\n",
       "    .dataframe tbody tr th:only-of-type {\n",
       "        vertical-align: middle;\n",
       "    }\n",
       "\n",
       "    .dataframe tbody tr th {\n",
       "        vertical-align: top;\n",
       "    }\n",
       "\n",
       "    .dataframe thead th {\n",
       "        text-align: right;\n",
       "    }\n",
       "</style>\n",
       "<table border=\"1\" class=\"dataframe\">\n",
       "  <thead>\n",
       "    <tr style=\"text-align: right;\">\n",
       "      <th></th>\n",
       "      <th>성별</th>\n",
       "      <th>연령대</th>\n",
       "      <th>차량 유형</th>\n",
       "      <th>판매량</th>\n",
       "    </tr>\n",
       "  </thead>\n",
       "  <tbody>\n",
       "    <tr>\n",
       "      <th>0</th>\n",
       "      <td>남</td>\n",
       "      <td>20대</td>\n",
       "      <td>SUV</td>\n",
       "      <td>12</td>\n",
       "    </tr>\n",
       "    <tr>\n",
       "      <th>1</th>\n",
       "      <td>남</td>\n",
       "      <td>20대</td>\n",
       "      <td>세단</td>\n",
       "      <td>18</td>\n",
       "    </tr>\n",
       "    <tr>\n",
       "      <th>2</th>\n",
       "      <td>남</td>\n",
       "      <td>30대</td>\n",
       "      <td>SUV</td>\n",
       "      <td>12</td>\n",
       "    </tr>\n",
       "    <tr>\n",
       "      <th>3</th>\n",
       "      <td>남</td>\n",
       "      <td>30대</td>\n",
       "      <td>세단</td>\n",
       "      <td>13</td>\n",
       "    </tr>\n",
       "    <tr>\n",
       "      <th>4</th>\n",
       "      <td>남</td>\n",
       "      <td>30대</td>\n",
       "      <td>해치백</td>\n",
       "      <td>2</td>\n",
       "    </tr>\n",
       "    <tr>\n",
       "      <th>5</th>\n",
       "      <td>남</td>\n",
       "      <td>40대</td>\n",
       "      <td>SUV</td>\n",
       "      <td>15</td>\n",
       "    </tr>\n",
       "    <tr>\n",
       "      <th>6</th>\n",
       "      <td>남</td>\n",
       "      <td>40대</td>\n",
       "      <td>세단</td>\n",
       "      <td>21</td>\n",
       "    </tr>\n",
       "    <tr>\n",
       "      <th>7</th>\n",
       "      <td>남</td>\n",
       "      <td>40대</td>\n",
       "      <td>해치백</td>\n",
       "      <td>3</td>\n",
       "    </tr>\n",
       "    <tr>\n",
       "      <th>8</th>\n",
       "      <td>남</td>\n",
       "      <td>50대</td>\n",
       "      <td>SUV</td>\n",
       "      <td>10</td>\n",
       "    </tr>\n",
       "    <tr>\n",
       "      <th>9</th>\n",
       "      <td>남</td>\n",
       "      <td>50대</td>\n",
       "      <td>세단</td>\n",
       "      <td>18</td>\n",
       "    </tr>\n",
       "    <tr>\n",
       "      <th>10</th>\n",
       "      <td>남</td>\n",
       "      <td>60대</td>\n",
       "      <td>SUV</td>\n",
       "      <td>12</td>\n",
       "    </tr>\n",
       "    <tr>\n",
       "      <th>11</th>\n",
       "      <td>남</td>\n",
       "      <td>60대</td>\n",
       "      <td>세단</td>\n",
       "      <td>18</td>\n",
       "    </tr>\n",
       "    <tr>\n",
       "      <th>12</th>\n",
       "      <td>남</td>\n",
       "      <td>70대</td>\n",
       "      <td>SUV</td>\n",
       "      <td>1</td>\n",
       "    </tr>\n",
       "    <tr>\n",
       "      <th>13</th>\n",
       "      <td>남</td>\n",
       "      <td>70대</td>\n",
       "      <td>세단</td>\n",
       "      <td>2</td>\n",
       "    </tr>\n",
       "    <tr>\n",
       "      <th>14</th>\n",
       "      <td>여</td>\n",
       "      <td>10대</td>\n",
       "      <td>세단</td>\n",
       "      <td>2</td>\n",
       "    </tr>\n",
       "    <tr>\n",
       "      <th>15</th>\n",
       "      <td>여</td>\n",
       "      <td>20대</td>\n",
       "      <td>SUV</td>\n",
       "      <td>13</td>\n",
       "    </tr>\n",
       "    <tr>\n",
       "      <th>16</th>\n",
       "      <td>여</td>\n",
       "      <td>20대</td>\n",
       "      <td>세단</td>\n",
       "      <td>15</td>\n",
       "    </tr>\n",
       "    <tr>\n",
       "      <th>17</th>\n",
       "      <td>여</td>\n",
       "      <td>20대</td>\n",
       "      <td>해치백</td>\n",
       "      <td>2</td>\n",
       "    </tr>\n",
       "    <tr>\n",
       "      <th>18</th>\n",
       "      <td>여</td>\n",
       "      <td>30대</td>\n",
       "      <td>SUV</td>\n",
       "      <td>7</td>\n",
       "    </tr>\n",
       "    <tr>\n",
       "      <th>19</th>\n",
       "      <td>여</td>\n",
       "      <td>30대</td>\n",
       "      <td>세단</td>\n",
       "      <td>8</td>\n",
       "    </tr>\n",
       "    <tr>\n",
       "      <th>20</th>\n",
       "      <td>여</td>\n",
       "      <td>40대</td>\n",
       "      <td>SUV</td>\n",
       "      <td>15</td>\n",
       "    </tr>\n",
       "    <tr>\n",
       "      <th>21</th>\n",
       "      <td>여</td>\n",
       "      <td>40대</td>\n",
       "      <td>세단</td>\n",
       "      <td>16</td>\n",
       "    </tr>\n",
       "    <tr>\n",
       "      <th>22</th>\n",
       "      <td>여</td>\n",
       "      <td>40대</td>\n",
       "      <td>해치백</td>\n",
       "      <td>1</td>\n",
       "    </tr>\n",
       "    <tr>\n",
       "      <th>23</th>\n",
       "      <td>여</td>\n",
       "      <td>50대</td>\n",
       "      <td>SUV</td>\n",
       "      <td>12</td>\n",
       "    </tr>\n",
       "    <tr>\n",
       "      <th>24</th>\n",
       "      <td>여</td>\n",
       "      <td>50대</td>\n",
       "      <td>세단</td>\n",
       "      <td>16</td>\n",
       "    </tr>\n",
       "    <tr>\n",
       "      <th>25</th>\n",
       "      <td>여</td>\n",
       "      <td>50대</td>\n",
       "      <td>해치백</td>\n",
       "      <td>1</td>\n",
       "    </tr>\n",
       "    <tr>\n",
       "      <th>26</th>\n",
       "      <td>여</td>\n",
       "      <td>60대</td>\n",
       "      <td>SUV</td>\n",
       "      <td>6</td>\n",
       "    </tr>\n",
       "    <tr>\n",
       "      <th>27</th>\n",
       "      <td>여</td>\n",
       "      <td>60대</td>\n",
       "      <td>세단</td>\n",
       "      <td>19</td>\n",
       "    </tr>\n",
       "    <tr>\n",
       "      <th>28</th>\n",
       "      <td>여</td>\n",
       "      <td>70대</td>\n",
       "      <td>세단</td>\n",
       "      <td>1</td>\n",
       "    </tr>\n",
       "  </tbody>\n",
       "</table>\n",
       "</div>"
      ],
      "text/plain": [
       "   성별  연령대 차량 유형  판매량\n",
       "0   남  20대   SUV   12\n",
       "1   남  20대    세단   18\n",
       "2   남  30대   SUV   12\n",
       "3   남  30대    세단   13\n",
       "4   남  30대   해치백    2\n",
       "5   남  40대   SUV   15\n",
       "6   남  40대    세단   21\n",
       "7   남  40대   해치백    3\n",
       "8   남  50대   SUV   10\n",
       "9   남  50대    세단   18\n",
       "10  남  60대   SUV   12\n",
       "11  남  60대    세단   18\n",
       "12  남  70대   SUV    1\n",
       "13  남  70대    세단    2\n",
       "14  여  10대    세단    2\n",
       "15  여  20대   SUV   13\n",
       "16  여  20대    세단   15\n",
       "17  여  20대   해치백    2\n",
       "18  여  30대   SUV    7\n",
       "19  여  30대    세단    8\n",
       "20  여  40대   SUV   15\n",
       "21  여  40대    세단   16\n",
       "22  여  40대   해치백    1\n",
       "23  여  50대   SUV   12\n",
       "24  여  50대    세단   16\n",
       "25  여  50대   해치백    1\n",
       "26  여  60대   SUV    6\n",
       "27  여  60대    세단   19\n",
       "28  여  70대    세단    1"
      ]
     },
     "execution_count": 16,
     "metadata": {},
     "output_type": "execute_result"
    }
   ],
   "source": [
    "result"
   ]
  },
  {
   "cell_type": "code",
   "execution_count": 17,
   "metadata": {},
   "outputs": [],
   "source": [
    "result_man=result[result[\"성별\"]==\"남\"]"
   ]
  },
  {
   "cell_type": "code",
   "execution_count": 18,
   "metadata": {},
   "outputs": [
    {
     "data": {
      "image/png": "[encoded data removed]",
      "text/plain": [
       "<Figure size 800x600 with 1 Axes>"
      ]
     },
     "metadata": {},
     "output_type": "display_data"
    }
   ],
   "source": [
    "ax = result_man.plot(kind='bar', stacked=True, figsize=(8, 6), colormap='viridis')\n",
    "\n",
    "# 제목과 레이블 설정\n",
    "ax.set_title('연령대별 차량 우선도', fontsize=16)\n",
    "ax.set_xlabel('연령대', fontsize=12)\n",
    "ax.set_ylabel('우선도 비율 (%)', fontsize=12)\n",
    "\n",
    "plt.legend(title='우선순위 항목')\n",
    "plt.show()"
   ]
  },
  {
   "cell_type": "code",
   "execution_count": null,
   "metadata": {},
   "outputs": [
    {
     "data": {
      "image/png": "[encoded data removed]",
      "text/plain": [
       "<Figure size 1200x800 with 1 Axes>"
      ]
     },
     "metadata": {},
     "output_type": "display_data"
    }
   ],
   "source": [
    "# 연령대와 제품별 판매량 합산\n",
    "df_pivot = result_man.pivot_table(index='연령대', columns='차량 유형', values='판매량', aggfunc='sum', fill_value=0)\n",
    "\n",
    "# 스택형 막대 그래프 그리기\n",
    "ax = df_pivot.plot(kind='bar', figsize=(12, 8))\n",
    "\n",
    "# 그래프 제목과 레이블 설정\n",
    "ax.set_title('연령대별 선호 제품 (남)', fontsize=16)\n",
    "ax.set_xlabel('연령대', fontsize=12)\n",
    "ax.set_ylabel('판매량', fontsize=12)\n",
    "\n",
    "# 범례 설정\n",
    "plt.legend(title='차량 유형', bbox_to_anchor=(1.05, 1), loc='upper left')\n",
    "\n",
    "# 그래프 표시\n",
    "plt.tight_layout()\n",
    "plt.show()"
   ]
  },
  {
   "cell_type": "code",
   "execution_count": null,
   "metadata": {},
   "outputs": [],
   "source": [
    "import pandas as pd\n",
    "import matplotlib.pyplot as plt\n",
    "import seaborn as sb\n",
    "import matplotlib\n",
    "\n",
    "# 한글 폰트 설정 (운영체제에 맞는 폰트를 설정)\n",
    "matplotlib.rcParams['font.family'] = 'AppleGothic'  # Mac 사용자\n",
    "# matplotlib.rcParams['font.family'] = 'Malgun Gothic'  # Windows 사용자\n",
    "# matplotlib.rcParams['font.family'] = 'NanumGothic'  # Linux 사용자\n",
    "matplotlib.rcParams['axes.unicode_minus'] = False  # 마이너스 기호 깨짐 방지"
   ]
  },
  {
   "cell_type": "code",
   "execution_count": 85,
   "metadata": {},
   "outputs": [
    {
     "data": {
      "text/plain": [
       "array(['20대', '30대', '40대', '50대', '60대', '70대', '10대'], dtype=object)"
      ]
     },
     "execution_count": 85,
     "metadata": {},
     "output_type": "execute_result"
    }
   ],
   "source": [
    "result[\"연령대\"].unique()"
   ]
  },
  {
   "cell_type": "code",
   "execution_count": 139,
   "metadata": {},
   "outputs": [],
   "source": [
    "result_Wm=result[result[\"성별\"]==\"여\"]"
   ]
  },
  {
   "cell_type": "code",
   "execution_count": 140,
   "metadata": {},
   "outputs": [
    {
     "data": {
      "text/html": [
       "<div>\n",
       "<style scoped>\n",
       "    .dataframe tbody tr th:only-of-type {\n",
       "        vertical-align: middle;\n",
       "    }\n",
       "\n",
       "    .dataframe tbody tr th {\n",
       "        vertical-align: top;\n",
       "    }\n",
       "\n",
       "    .dataframe thead th {\n",
       "        text-align: right;\n",
       "    }\n",
       "</style>\n",
       "<table border=\"1\" class=\"dataframe\">\n",
       "  <thead>\n",
       "    <tr style=\"text-align: right;\">\n",
       "      <th></th>\n",
       "      <th>성별</th>\n",
       "      <th>연령대</th>\n",
       "      <th>차량 유형</th>\n",
       "      <th>판매량</th>\n",
       "    </tr>\n",
       "  </thead>\n",
       "  <tbody>\n",
       "    <tr>\n",
       "      <th>14</th>\n",
       "      <td>여</td>\n",
       "      <td>10대</td>\n",
       "      <td>세단</td>\n",
       "      <td>2</td>\n",
       "    </tr>\n",
       "    <tr>\n",
       "      <th>15</th>\n",
       "      <td>여</td>\n",
       "      <td>20대</td>\n",
       "      <td>SUV</td>\n",
       "      <td>13</td>\n",
       "    </tr>\n",
       "    <tr>\n",
       "      <th>16</th>\n",
       "      <td>여</td>\n",
       "      <td>20대</td>\n",
       "      <td>세단</td>\n",
       "      <td>15</td>\n",
       "    </tr>\n",
       "    <tr>\n",
       "      <th>17</th>\n",
       "      <td>여</td>\n",
       "      <td>20대</td>\n",
       "      <td>해치백</td>\n",
       "      <td>2</td>\n",
       "    </tr>\n",
       "    <tr>\n",
       "      <th>18</th>\n",
       "      <td>여</td>\n",
       "      <td>30대</td>\n",
       "      <td>SUV</td>\n",
       "      <td>7</td>\n",
       "    </tr>\n",
       "    <tr>\n",
       "      <th>19</th>\n",
       "      <td>여</td>\n",
       "      <td>30대</td>\n",
       "      <td>세단</td>\n",
       "      <td>8</td>\n",
       "    </tr>\n",
       "    <tr>\n",
       "      <th>20</th>\n",
       "      <td>여</td>\n",
       "      <td>40대</td>\n",
       "      <td>SUV</td>\n",
       "      <td>15</td>\n",
       "    </tr>\n",
       "    <tr>\n",
       "      <th>21</th>\n",
       "      <td>여</td>\n",
       "      <td>40대</td>\n",
       "      <td>세단</td>\n",
       "      <td>16</td>\n",
       "    </tr>\n",
       "    <tr>\n",
       "      <th>22</th>\n",
       "      <td>여</td>\n",
       "      <td>40대</td>\n",
       "      <td>해치백</td>\n",
       "      <td>1</td>\n",
       "    </tr>\n",
       "    <tr>\n",
       "      <th>23</th>\n",
       "      <td>여</td>\n",
       "      <td>50대</td>\n",
       "      <td>SUV</td>\n",
       "      <td>12</td>\n",
       "    </tr>\n",
       "    <tr>\n",
       "      <th>24</th>\n",
       "      <td>여</td>\n",
       "      <td>50대</td>\n",
       "      <td>세단</td>\n",
       "      <td>16</td>\n",
       "    </tr>\n",
       "    <tr>\n",
       "      <th>25</th>\n",
       "      <td>여</td>\n",
       "      <td>50대</td>\n",
       "      <td>해치백</td>\n",
       "      <td>1</td>\n",
       "    </tr>\n",
       "    <tr>\n",
       "      <th>26</th>\n",
       "      <td>여</td>\n",
       "      <td>60대</td>\n",
       "      <td>SUV</td>\n",
       "      <td>6</td>\n",
       "    </tr>\n",
       "    <tr>\n",
       "      <th>27</th>\n",
       "      <td>여</td>\n",
       "      <td>60대</td>\n",
       "      <td>세단</td>\n",
       "      <td>19</td>\n",
       "    </tr>\n",
       "    <tr>\n",
       "      <th>28</th>\n",
       "      <td>여</td>\n",
       "      <td>70대</td>\n",
       "      <td>세단</td>\n",
       "      <td>1</td>\n",
       "    </tr>\n",
       "  </tbody>\n",
       "</table>\n",
       "</div>"
      ],
      "text/plain": [
       "   성별  연령대 차량 유형  판매량\n",
       "14  여  10대    세단    2\n",
       "15  여  20대   SUV   13\n",
       "16  여  20대    세단   15\n",
       "17  여  20대   해치백    2\n",
       "18  여  30대   SUV    7\n",
       "19  여  30대    세단    8\n",
       "20  여  40대   SUV   15\n",
       "21  여  40대    세단   16\n",
       "22  여  40대   해치백    1\n",
       "23  여  50대   SUV   12\n",
       "24  여  50대    세단   16\n",
       "25  여  50대   해치백    1\n",
       "26  여  60대   SUV    6\n",
       "27  여  60대    세단   19\n",
       "28  여  70대    세단    1"
      ]
     },
     "execution_count": 140,
     "metadata": {},
     "output_type": "execute_result"
    }
   ],
   "source": [
    "result_Wm"
   ]
  },
  {
   "cell_type": "code",
   "execution_count": 143,
   "metadata": {},
   "outputs": [
    {
     "data": {
      "image/png": "[encoded data removed]",
      "text/plain": [
       "<Figure size 1200x800 with 1 Axes>"
      ]
     },
     "metadata": {},
     "output_type": "display_data"
    }
   ],
   "source": [
    "# 연령대와 제품별 판매량 합산\n",
    "df_pivot = result_Wm.pivot_table(index='연령대', columns='차량 유형', values='판매량', aggfunc='sum', fill_value=0)\n",
    "\n",
    "# 스택형 막대 그래프 그리기\n",
    "ax = df_pivot.plot(kind='bar', figsize=(12, 8))\n",
    "\n",
    "# 그래프 제목과 레이블 설정\n",
    "ax.set_title('연령대별 선호 제품 (여)', fontsize=16)\n",
    "ax.set_xlabel('연령대', fontsize=12)\n",
    "ax.set_ylabel('판매량', fontsize=12)\n",
    "\n",
    "# 범례 설정\n",
    "plt.legend(title='차량 유형', bbox_to_anchor=(1.05, 1), loc='upper left')\n",
    "\n",
    "# 그래프 표시\n",
    "plt.tight_layout()\n",
    "plt.show()"
   ]
  },
  {
   "cell_type": "code",
   "execution_count": null,
   "metadata": {},
   "outputs": [],
   "source": []
  }
 ],
 "metadata": {
  "kernelspec": {
   "display_name": "hi",
   "language": "python",
   "name": "python3"
  },
  "language_info": {
   "codemirror_mode": {
    "name": "ipython",
    "version": 3
   },
   "file_extension": ".py",
   "mimetype": "text/x-python",
   "name": "python",
   "nbconvert_exporter": "python",
   "pygments_lexer": "ipython3",
   "version": "3.10.16"
  }
 },
 "nbformat": 4,
 "nbformat_minor": 2
}
